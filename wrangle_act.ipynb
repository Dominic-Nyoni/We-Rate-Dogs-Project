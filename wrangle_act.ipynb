{
 "cells": [
  {
   "cell_type": "code",
   "execution_count": 7,
   "id": "aca2d6f5",
   "metadata": {},
   "outputs": [],
   "source": [
    "import pandas as pd\n",
    "import numpy as np\n",
    "from matplotlib import pyplot as plt\n",
    "import seaborn as sns\n",
    "import requests\n",
    "from tweepy import OAuthHandler\n",
    "import json\n",
    "from timeit import default_timer as timer\n",
    "import os\n",
    "import tweepy\n",
    "%matplotlib inline\n",
    "\n",
    "pd.set_option('display.max_colwidth',None)"
   ]
  },
  {
   "cell_type": "markdown",
   "id": "daea0bc3",
   "metadata": {},
   "source": [
    "## Table-of-Contents\n",
    "\n",
    "<a href=\"#introduction\">1.INTRODUCTION</a>\n",
    "\n",
    "<a href=\"#gather\">2.DATA GATHERING</a>\n",
    "\n",
    "<a href=\"#assess\">3.ASSESSMENT</a>\n",
    "    <ul>\n",
    "        <li><a href=\"#report\">ASSESSMENT REPORT</a></li>\n",
    "        <li><a href=\"#storage\"> DATA STORAGE</a></li>\n",
    "    </ul>\n",
    "<a href=\"#clean\">4. CLEANING</a>\n",
    "\n",
    "<a href=\"#analyse\">5. ANALYSIS</a>\n",
    "   <li><a href=\"#insights\">INSIGHTS</a></li>\n"
   ]
  },
  {
   "cell_type": "markdown",
   "id": "b46fad83",
   "metadata": {},
   "source": [
    "<a id='introduction'></a>\n",
    "# INTRODUCTION"
   ]
  },
  {
   "cell_type": "markdown",
   "id": "934d701a",
   "metadata": {},
   "source": [
    "WeRateDogs is a popular twitter account that rates people’s dogs with humorous comments. In\n",
    "this project, I gathered data about this account manually from their archive file send to Udacity,\n",
    "programmatically using Requests library from Udacity’s servers and via the Twitter API using tweepy.\n",
    "The gathered data was then assessed both visually and programmatically for quality and tidiness issues.The quality and tidiness issues found are listed in the assessment report section.Subsequently,all identified issues were cleaned using the define-code-test framework.A master dataset was then produced,stored and used for analysis."
   ]
  },
  {
   "cell_type": "markdown",
   "id": "aad0c4d5",
   "metadata": {},
   "source": [
    "<a id='gather'></a>\n",
    "# DATA GATHERING"
   ]
  },
  {
   "cell_type": "markdown",
   "id": "5e749450",
   "metadata": {},
   "source": [
    "### ENHANCED TWITTER ARCHIVE FILE"
   ]
  },
  {
   "cell_type": "code",
   "execution_count": 9,
   "id": "da5d0b08",
   "metadata": {},
   "outputs": [],
   "source": [
    "#load the twitter-archive-enhanced file into a dataframe\n",
    "twitter_archive_df=pd.read_csv('twitter-archive-enhanced.csv')"
   ]
  },
  {
   "cell_type": "code",
   "execution_count": 10,
   "id": "5daec685",
   "metadata": {},
   "outputs": [
    {
     "data": {
      "text/html": [
       "<div>\n",
       "<style scoped>\n",
       "    .dataframe tbody tr th:only-of-type {\n",
       "        vertical-align: middle;\n",
       "    }\n",
       "\n",
       "    .dataframe tbody tr th {\n",
       "        vertical-align: top;\n",
       "    }\n",
       "\n",
       "    .dataframe thead th {\n",
       "        text-align: right;\n",
       "    }\n",
       "</style>\n",
       "<table border=\"1\" class=\"dataframe\">\n",
       "  <thead>\n",
       "    <tr style=\"text-align: right;\">\n",
       "      <th></th>\n",
       "      <th>tweet_id</th>\n",
       "      <th>in_reply_to_status_id</th>\n",
       "      <th>in_reply_to_user_id</th>\n",
       "      <th>timestamp</th>\n",
       "      <th>source</th>\n",
       "      <th>text</th>\n",
       "      <th>retweeted_status_id</th>\n",
       "      <th>retweeted_status_user_id</th>\n",
       "      <th>retweeted_status_timestamp</th>\n",
       "      <th>expanded_urls</th>\n",
       "      <th>rating_numerator</th>\n",
       "      <th>rating_denominator</th>\n",
       "      <th>name</th>\n",
       "      <th>doggo</th>\n",
       "      <th>floofer</th>\n",
       "      <th>pupper</th>\n",
       "      <th>puppo</th>\n",
       "    </tr>\n",
       "  </thead>\n",
       "  <tbody>\n",
       "    <tr>\n",
       "      <th>0</th>\n",
       "      <td>892420643555336193</td>\n",
       "      <td>NaN</td>\n",
       "      <td>NaN</td>\n",
       "      <td>2017-08-01 16:23:56 +0000</td>\n",
       "      <td>&lt;a href=\"http://twitter.com/download/iphone\" rel=\"nofollow\"&gt;Twitter for iPhone&lt;/a&gt;</td>\n",
       "      <td>This is Phineas. He's a mystical boy. Only ever appears in the hole of a donut. 13/10 https://t.co/MgUWQ76dJU</td>\n",
       "      <td>NaN</td>\n",
       "      <td>NaN</td>\n",
       "      <td>NaN</td>\n",
       "      <td>https://twitter.com/dog_rates/status/892420643555336193/photo/1</td>\n",
       "      <td>13</td>\n",
       "      <td>10</td>\n",
       "      <td>Phineas</td>\n",
       "      <td>None</td>\n",
       "      <td>None</td>\n",
       "      <td>None</td>\n",
       "      <td>None</td>\n",
       "    </tr>\n",
       "    <tr>\n",
       "      <th>1</th>\n",
       "      <td>892177421306343426</td>\n",
       "      <td>NaN</td>\n",
       "      <td>NaN</td>\n",
       "      <td>2017-08-01 00:17:27 +0000</td>\n",
       "      <td>&lt;a href=\"http://twitter.com/download/iphone\" rel=\"nofollow\"&gt;Twitter for iPhone&lt;/a&gt;</td>\n",
       "      <td>This is Tilly. She's just checking pup on you. Hopes you're doing ok. If not, she's available for pats, snugs, boops, the whole bit. 13/10 https://t.co/0Xxu71qeIV</td>\n",
       "      <td>NaN</td>\n",
       "      <td>NaN</td>\n",
       "      <td>NaN</td>\n",
       "      <td>https://twitter.com/dog_rates/status/892177421306343426/photo/1</td>\n",
       "      <td>13</td>\n",
       "      <td>10</td>\n",
       "      <td>Tilly</td>\n",
       "      <td>None</td>\n",
       "      <td>None</td>\n",
       "      <td>None</td>\n",
       "      <td>None</td>\n",
       "    </tr>\n",
       "    <tr>\n",
       "      <th>2</th>\n",
       "      <td>891815181378084864</td>\n",
       "      <td>NaN</td>\n",
       "      <td>NaN</td>\n",
       "      <td>2017-07-31 00:18:03 +0000</td>\n",
       "      <td>&lt;a href=\"http://twitter.com/download/iphone\" rel=\"nofollow\"&gt;Twitter for iPhone&lt;/a&gt;</td>\n",
       "      <td>This is Archie. He is a rare Norwegian Pouncing Corgo. Lives in the tall grass. You never know when one may strike. 12/10 https://t.co/wUnZnhtVJB</td>\n",
       "      <td>NaN</td>\n",
       "      <td>NaN</td>\n",
       "      <td>NaN</td>\n",
       "      <td>https://twitter.com/dog_rates/status/891815181378084864/photo/1</td>\n",
       "      <td>12</td>\n",
       "      <td>10</td>\n",
       "      <td>Archie</td>\n",
       "      <td>None</td>\n",
       "      <td>None</td>\n",
       "      <td>None</td>\n",
       "      <td>None</td>\n",
       "    </tr>\n",
       "    <tr>\n",
       "      <th>3</th>\n",
       "      <td>891689557279858688</td>\n",
       "      <td>NaN</td>\n",
       "      <td>NaN</td>\n",
       "      <td>2017-07-30 15:58:51 +0000</td>\n",
       "      <td>&lt;a href=\"http://twitter.com/download/iphone\" rel=\"nofollow\"&gt;Twitter for iPhone&lt;/a&gt;</td>\n",
       "      <td>This is Darla. She commenced a snooze mid meal. 13/10 happens to the best of us https://t.co/tD36da7qLQ</td>\n",
       "      <td>NaN</td>\n",
       "      <td>NaN</td>\n",
       "      <td>NaN</td>\n",
       "      <td>https://twitter.com/dog_rates/status/891689557279858688/photo/1</td>\n",
       "      <td>13</td>\n",
       "      <td>10</td>\n",
       "      <td>Darla</td>\n",
       "      <td>None</td>\n",
       "      <td>None</td>\n",
       "      <td>None</td>\n",
       "      <td>None</td>\n",
       "    </tr>\n",
       "    <tr>\n",
       "      <th>4</th>\n",
       "      <td>891327558926688256</td>\n",
       "      <td>NaN</td>\n",
       "      <td>NaN</td>\n",
       "      <td>2017-07-29 16:00:24 +0000</td>\n",
       "      <td>&lt;a href=\"http://twitter.com/download/iphone\" rel=\"nofollow\"&gt;Twitter for iPhone&lt;/a&gt;</td>\n",
       "      <td>This is Franklin. He would like you to stop calling him \"cute.\" He is a very fierce shark and should be respected as such. 12/10 #BarkWeek https://t.co/AtUZn91f7f</td>\n",
       "      <td>NaN</td>\n",
       "      <td>NaN</td>\n",
       "      <td>NaN</td>\n",
       "      <td>https://twitter.com/dog_rates/status/891327558926688256/photo/1,https://twitter.com/dog_rates/status/891327558926688256/photo/1</td>\n",
       "      <td>12</td>\n",
       "      <td>10</td>\n",
       "      <td>Franklin</td>\n",
       "      <td>None</td>\n",
       "      <td>None</td>\n",
       "      <td>None</td>\n",
       "      <td>None</td>\n",
       "    </tr>\n",
       "  </tbody>\n",
       "</table>\n",
       "</div>"
      ],
      "text/plain": [
       "             tweet_id  in_reply_to_status_id  in_reply_to_user_id  \\\n",
       "0  892420643555336193                    NaN                  NaN   \n",
       "1  892177421306343426                    NaN                  NaN   \n",
       "2  891815181378084864                    NaN                  NaN   \n",
       "3  891689557279858688                    NaN                  NaN   \n",
       "4  891327558926688256                    NaN                  NaN   \n",
       "\n",
       "                   timestamp  \\\n",
       "0  2017-08-01 16:23:56 +0000   \n",
       "1  2017-08-01 00:17:27 +0000   \n",
       "2  2017-07-31 00:18:03 +0000   \n",
       "3  2017-07-30 15:58:51 +0000   \n",
       "4  2017-07-29 16:00:24 +0000   \n",
       "\n",
       "                                                                               source  \\\n",
       "0  <a href=\"http://twitter.com/download/iphone\" rel=\"nofollow\">Twitter for iPhone</a>   \n",
       "1  <a href=\"http://twitter.com/download/iphone\" rel=\"nofollow\">Twitter for iPhone</a>   \n",
       "2  <a href=\"http://twitter.com/download/iphone\" rel=\"nofollow\">Twitter for iPhone</a>   \n",
       "3  <a href=\"http://twitter.com/download/iphone\" rel=\"nofollow\">Twitter for iPhone</a>   \n",
       "4  <a href=\"http://twitter.com/download/iphone\" rel=\"nofollow\">Twitter for iPhone</a>   \n",
       "\n",
       "                                                                                                                                                                 text  \\\n",
       "0                                                       This is Phineas. He's a mystical boy. Only ever appears in the hole of a donut. 13/10 https://t.co/MgUWQ76dJU   \n",
       "1  This is Tilly. She's just checking pup on you. Hopes you're doing ok. If not, she's available for pats, snugs, boops, the whole bit. 13/10 https://t.co/0Xxu71qeIV   \n",
       "2                   This is Archie. He is a rare Norwegian Pouncing Corgo. Lives in the tall grass. You never know when one may strike. 12/10 https://t.co/wUnZnhtVJB   \n",
       "3                                                             This is Darla. She commenced a snooze mid meal. 13/10 happens to the best of us https://t.co/tD36da7qLQ   \n",
       "4  This is Franklin. He would like you to stop calling him \"cute.\" He is a very fierce shark and should be respected as such. 12/10 #BarkWeek https://t.co/AtUZn91f7f   \n",
       "\n",
       "   retweeted_status_id  retweeted_status_user_id retweeted_status_timestamp  \\\n",
       "0                  NaN                       NaN                        NaN   \n",
       "1                  NaN                       NaN                        NaN   \n",
       "2                  NaN                       NaN                        NaN   \n",
       "3                  NaN                       NaN                        NaN   \n",
       "4                  NaN                       NaN                        NaN   \n",
       "\n",
       "                                                                                                                     expanded_urls  \\\n",
       "0                                                                  https://twitter.com/dog_rates/status/892420643555336193/photo/1   \n",
       "1                                                                  https://twitter.com/dog_rates/status/892177421306343426/photo/1   \n",
       "2                                                                  https://twitter.com/dog_rates/status/891815181378084864/photo/1   \n",
       "3                                                                  https://twitter.com/dog_rates/status/891689557279858688/photo/1   \n",
       "4  https://twitter.com/dog_rates/status/891327558926688256/photo/1,https://twitter.com/dog_rates/status/891327558926688256/photo/1   \n",
       "\n",
       "   rating_numerator  rating_denominator      name doggo floofer pupper puppo  \n",
       "0                13                  10   Phineas  None    None   None  None  \n",
       "1                13                  10     Tilly  None    None   None  None  \n",
       "2                12                  10    Archie  None    None   None  None  \n",
       "3                13                  10     Darla  None    None   None  None  \n",
       "4                12                  10  Franklin  None    None   None  None  "
      ]
     },
     "execution_count": 10,
     "metadata": {},
     "output_type": "execute_result"
    }
   ],
   "source": [
    "twitter_archive_df.head()"
   ]
  },
  {
   "cell_type": "code",
   "execution_count": 64,
   "id": "d80edf1b",
   "metadata": {},
   "outputs": [
    {
     "name": "stdout",
     "output_type": "stream",
     "text": [
      "<class 'pandas.core.frame.DataFrame'>\n",
      "RangeIndex: 2356 entries, 0 to 2355\n",
      "Data columns (total 17 columns):\n",
      " #   Column                      Non-Null Count  Dtype  \n",
      "---  ------                      --------------  -----  \n",
      " 0   tweet_id                    2356 non-null   int64  \n",
      " 1   in_reply_to_status_id       78 non-null     float64\n",
      " 2   in_reply_to_user_id         78 non-null     float64\n",
      " 3   timestamp                   2356 non-null   object \n",
      " 4   source                      2356 non-null   object \n",
      " 5   text                        2356 non-null   object \n",
      " 6   retweeted_status_id         181 non-null    float64\n",
      " 7   retweeted_status_user_id    181 non-null    float64\n",
      " 8   retweeted_status_timestamp  181 non-null    object \n",
      " 9   expanded_urls               2297 non-null   object \n",
      " 10  rating_numerator            2356 non-null   int64  \n",
      " 11  rating_denominator          2356 non-null   int64  \n",
      " 12  name                        2356 non-null   object \n",
      " 13  doggo                       2356 non-null   object \n",
      " 14  floofer                     2356 non-null   object \n",
      " 15  pupper                      2356 non-null   object \n",
      " 16  puppo                       2356 non-null   object \n",
      "dtypes: float64(4), int64(3), object(10)\n",
      "memory usage: 313.0+ KB\n"
     ]
    }
   ],
   "source": [
    "twitter_archive_df.info()"
   ]
  },
  {
   "cell_type": "markdown",
   "id": "a59ce856",
   "metadata": {},
   "source": [
    "### IMAGE PREDICTIONS FILE"
   ]
  },
  {
   "cell_type": "code",
   "execution_count": 62,
   "id": "06e5b08b",
   "metadata": {},
   "outputs": [
    {
     "name": "stdout",
     "output_type": "stream",
     "text": [
      "<Response [200]>\n"
     ]
    }
   ],
   "source": [
    "#download the image predictions file from the given adress\n",
    "url='https://d17h27t6h515a5.cloudfront.net/topher/2017/August/599fd2ad_image-predictions/image-predictions.tsv'\n",
    "response=requests.get(url)\n",
    "print(response)#response of 200 means the file was successfully downloaded"
   ]
  },
  {
   "cell_type": "code",
   "execution_count": null,
   "id": "90449048",
   "metadata": {},
   "outputs": [],
   "source": [
    "open('image_predictions.tsv','wb').write(response.content)"
   ]
  },
  {
   "cell_type": "code",
   "execution_count": 65,
   "id": "6c57d951",
   "metadata": {},
   "outputs": [
    {
     "name": "stdout",
     "output_type": "stream",
     "text": [
      " Volume in drive C has no label.\n",
      " Volume Serial Number is 7098-8673\n",
      "\n",
      " Directory of C:\\Users\\user\\Desktop\\jupyter\\We-Rate-Dogs-Project\n",
      "\n",
      "09/06/2022  11:50           335,079 image_predictions.tsv\n",
      "               1 File(s)        335,079 bytes\n",
      "               0 Dir(s)  49,997,103,104 bytes free\n"
     ]
    }
   ],
   "source": [
    "#check the location of the tsv file\n",
    "ls image_predictions.tsv"
   ]
  },
  {
   "cell_type": "code",
   "execution_count": 66,
   "id": "44c660ed",
   "metadata": {},
   "outputs": [],
   "source": [
    "predictions_df=pd.read_csv('image_predictions.tsv',sep='\\t')"
   ]
  },
  {
   "cell_type": "code",
   "execution_count": 77,
   "id": "3dd70c64",
   "metadata": {},
   "outputs": [
    {
     "data": {
      "text/html": [
       "<div>\n",
       "<style scoped>\n",
       "    .dataframe tbody tr th:only-of-type {\n",
       "        vertical-align: middle;\n",
       "    }\n",
       "\n",
       "    .dataframe tbody tr th {\n",
       "        vertical-align: top;\n",
       "    }\n",
       "\n",
       "    .dataframe thead th {\n",
       "        text-align: right;\n",
       "    }\n",
       "</style>\n",
       "<table border=\"1\" class=\"dataframe\">\n",
       "  <thead>\n",
       "    <tr style=\"text-align: right;\">\n",
       "      <th></th>\n",
       "      <th>tweet_id</th>\n",
       "      <th>jpg_url</th>\n",
       "      <th>img_num</th>\n",
       "      <th>p1</th>\n",
       "      <th>p1_conf</th>\n",
       "      <th>p1_dog</th>\n",
       "      <th>p2</th>\n",
       "      <th>p2_conf</th>\n",
       "      <th>p2_dog</th>\n",
       "      <th>p3</th>\n",
       "      <th>p3_conf</th>\n",
       "      <th>p3_dog</th>\n",
       "    </tr>\n",
       "  </thead>\n",
       "  <tbody>\n",
       "    <tr>\n",
       "      <th>0</th>\n",
       "      <td>666020888022790149</td>\n",
       "      <td>https://pbs.twimg.com/media/CT4udn0WwAA0aMy.jpg</td>\n",
       "      <td>1</td>\n",
       "      <td>Welsh_springer_spaniel</td>\n",
       "      <td>0.465074</td>\n",
       "      <td>True</td>\n",
       "      <td>collie</td>\n",
       "      <td>0.156665</td>\n",
       "      <td>True</td>\n",
       "      <td>Shetland_sheepdog</td>\n",
       "      <td>0.061428</td>\n",
       "      <td>True</td>\n",
       "    </tr>\n",
       "    <tr>\n",
       "      <th>1</th>\n",
       "      <td>666029285002620928</td>\n",
       "      <td>https://pbs.twimg.com/media/CT42GRgUYAA5iDo.jpg</td>\n",
       "      <td>1</td>\n",
       "      <td>redbone</td>\n",
       "      <td>0.506826</td>\n",
       "      <td>True</td>\n",
       "      <td>miniature_pinscher</td>\n",
       "      <td>0.074192</td>\n",
       "      <td>True</td>\n",
       "      <td>Rhodesian_ridgeback</td>\n",
       "      <td>0.072010</td>\n",
       "      <td>True</td>\n",
       "    </tr>\n",
       "    <tr>\n",
       "      <th>2</th>\n",
       "      <td>666033412701032449</td>\n",
       "      <td>https://pbs.twimg.com/media/CT4521TWwAEvMyu.jpg</td>\n",
       "      <td>1</td>\n",
       "      <td>German_shepherd</td>\n",
       "      <td>0.596461</td>\n",
       "      <td>True</td>\n",
       "      <td>malinois</td>\n",
       "      <td>0.138584</td>\n",
       "      <td>True</td>\n",
       "      <td>bloodhound</td>\n",
       "      <td>0.116197</td>\n",
       "      <td>True</td>\n",
       "    </tr>\n",
       "    <tr>\n",
       "      <th>3</th>\n",
       "      <td>666044226329800704</td>\n",
       "      <td>https://pbs.twimg.com/media/CT5Dr8HUEAA-lEu.jpg</td>\n",
       "      <td>1</td>\n",
       "      <td>Rhodesian_ridgeback</td>\n",
       "      <td>0.408143</td>\n",
       "      <td>True</td>\n",
       "      <td>redbone</td>\n",
       "      <td>0.360687</td>\n",
       "      <td>True</td>\n",
       "      <td>miniature_pinscher</td>\n",
       "      <td>0.222752</td>\n",
       "      <td>True</td>\n",
       "    </tr>\n",
       "    <tr>\n",
       "      <th>4</th>\n",
       "      <td>666049248165822465</td>\n",
       "      <td>https://pbs.twimg.com/media/CT5IQmsXIAAKY4A.jpg</td>\n",
       "      <td>1</td>\n",
       "      <td>miniature_pinscher</td>\n",
       "      <td>0.560311</td>\n",
       "      <td>True</td>\n",
       "      <td>Rottweiler</td>\n",
       "      <td>0.243682</td>\n",
       "      <td>True</td>\n",
       "      <td>Doberman</td>\n",
       "      <td>0.154629</td>\n",
       "      <td>True</td>\n",
       "    </tr>\n",
       "  </tbody>\n",
       "</table>\n",
       "</div>"
      ],
      "text/plain": [
       "             tweet_id                                          jpg_url  \\\n",
       "0  666020888022790149  https://pbs.twimg.com/media/CT4udn0WwAA0aMy.jpg   \n",
       "1  666029285002620928  https://pbs.twimg.com/media/CT42GRgUYAA5iDo.jpg   \n",
       "2  666033412701032449  https://pbs.twimg.com/media/CT4521TWwAEvMyu.jpg   \n",
       "3  666044226329800704  https://pbs.twimg.com/media/CT5Dr8HUEAA-lEu.jpg   \n",
       "4  666049248165822465  https://pbs.twimg.com/media/CT5IQmsXIAAKY4A.jpg   \n",
       "\n",
       "   img_num                      p1   p1_conf  p1_dog                  p2  \\\n",
       "0        1  Welsh_springer_spaniel  0.465074    True              collie   \n",
       "1        1                 redbone  0.506826    True  miniature_pinscher   \n",
       "2        1         German_shepherd  0.596461    True            malinois   \n",
       "3        1     Rhodesian_ridgeback  0.408143    True             redbone   \n",
       "4        1      miniature_pinscher  0.560311    True          Rottweiler   \n",
       "\n",
       "    p2_conf  p2_dog                   p3   p3_conf  p3_dog  \n",
       "0  0.156665    True    Shetland_sheepdog  0.061428    True  \n",
       "1  0.074192    True  Rhodesian_ridgeback  0.072010    True  \n",
       "2  0.138584    True           bloodhound  0.116197    True  \n",
       "3  0.360687    True   miniature_pinscher  0.222752    True  \n",
       "4  0.243682    True             Doberman  0.154629    True  "
      ]
     },
     "execution_count": 77,
     "metadata": {},
     "output_type": "execute_result"
    }
   ],
   "source": [
    "predictions_df.head()"
   ]
  },
  {
   "cell_type": "code",
   "execution_count": 68,
   "id": "09a1105a",
   "metadata": {},
   "outputs": [
    {
     "name": "stdout",
     "output_type": "stream",
     "text": [
      "<class 'pandas.core.frame.DataFrame'>\n",
      "RangeIndex: 2075 entries, 0 to 2074\n",
      "Data columns (total 12 columns):\n",
      " #   Column    Non-Null Count  Dtype  \n",
      "---  ------    --------------  -----  \n",
      " 0   tweet_id  2075 non-null   int64  \n",
      " 1   jpg_url   2075 non-null   object \n",
      " 2   img_num   2075 non-null   int64  \n",
      " 3   p1        2075 non-null   object \n",
      " 4   p1_conf   2075 non-null   float64\n",
      " 5   p1_dog    2075 non-null   bool   \n",
      " 6   p2        2075 non-null   object \n",
      " 7   p2_conf   2075 non-null   float64\n",
      " 8   p2_dog    2075 non-null   bool   \n",
      " 9   p3        2075 non-null   object \n",
      " 10  p3_conf   2075 non-null   float64\n",
      " 11  p3_dog    2075 non-null   bool   \n",
      "dtypes: bool(3), float64(3), int64(2), object(4)\n",
      "memory usage: 152.1+ KB\n"
     ]
    }
   ],
   "source": [
    "predictions_df.info()"
   ]
  },
  {
   "cell_type": "markdown",
   "id": "d6e9281d",
   "metadata": {},
   "source": [
    "### JSON FILE"
   ]
  },
  {
   "cell_type": "code",
   "execution_count": 49,
   "id": "ff827de4",
   "metadata": {},
   "outputs": [],
   "source": [
    "#Twitter Api keys\n",
    "consumer_key= 'HIDDEN'\n",
    "consumer_secret = 'HIDDEN'\n",
    "access_token = 'HIDDEN'\n",
    "access_secret = 'HIDDEN'"
   ]
  },
  {
   "cell_type": "code",
   "execution_count": 50,
   "id": "46c0fc7c",
   "metadata": {},
   "outputs": [],
   "source": [
    "auth = OAuthHandler(consumer_key, consumer_secret)\n",
    "auth.set_access_token(access_token, access_secret)\n",
    "\n",
    "api = tweepy.API(auth, wait_on_rate_limit=True)"
   ]
  },
  {
   "cell_type": "code",
   "execution_count": 54,
   "id": "0d6c7e00",
   "metadata": {},
   "outputs": [
    {
     "name": "stdout",
     "output_type": "stream",
     "text": [
      "the number of tweets ids:2356\n"
     ]
    }
   ],
   "source": [
    "tweet_ids_array = twitter_archive_df['tweet_id'].values\n",
    "print('the number of tweets ids:'+str(len(tweet_ids_array)))"
   ]
  },
  {
   "cell_type": "code",
   "execution_count": 56,
   "id": "f73e7780",
   "metadata": {},
   "outputs": [
    {
     "name": "stdout",
     "output_type": "stream",
     "text": [
      "Fetching tweets starting....\n",
      "progress report:\n",
      "Milestone reached :100 fetches........\n",
      "progress report:\n",
      "Milestone reached :200 fetches........\n",
      "progress report:\n",
      "Milestone reached :300 fetches........\n",
      "progress report:\n",
      "Milestone reached :400 fetches........\n",
      "progress report:\n",
      "Milestone reached :500 fetches........\n",
      "progress report:\n",
      "Milestone reached :600 fetches........\n",
      "progress report:\n",
      "Milestone reached :700 fetches........\n",
      "progress report:\n",
      "Milestone reached :800 fetches........\n",
      "progress report:\n",
      "Milestone reached :900 fetches........\n"
     ]
    },
    {
     "name": "stderr",
     "output_type": "stream",
     "text": [
      "Rate limit reached. Sleeping for: 228\n"
     ]
    },
    {
     "name": "stdout",
     "output_type": "stream",
     "text": [
      "progress report:\n",
      "Milestone reached :1000 fetches........\n",
      "progress report:\n",
      "Milestone reached :1100 fetches........\n",
      "progress report:\n",
      "Milestone reached :1200 fetches........\n",
      "progress report:\n",
      "Milestone reached :1300 fetches........\n",
      "progress report:\n",
      "Milestone reached :1400 fetches........\n",
      "progress report:\n",
      "Milestone reached :1500 fetches........\n",
      "progress report:\n",
      "Milestone reached :1600 fetches........\n",
      "progress report:\n",
      "Milestone reached :1700 fetches........\n",
      "progress report:\n",
      "Milestone reached :1800 fetches........\n"
     ]
    },
    {
     "name": "stderr",
     "output_type": "stream",
     "text": [
      "Rate limit reached. Sleeping for: 257\n"
     ]
    },
    {
     "name": "stdout",
     "output_type": "stream",
     "text": [
      "progress report:\n",
      "Milestone reached :1900 fetches........\n",
      "progress report:\n",
      "Milestone reached :2000 fetches........\n",
      "progress report:\n",
      "Milestone reached :2100 fetches........\n",
      "progress report:\n",
      "Milestone reached :2200 fetches........\n",
      "progress report:\n",
      "Milestone reached :2300 fetches........\n",
      "Fetching tweets Complete\n",
      "Total time taken 2229.9424532999983\n",
      "Found 32 errors.To be listed below\n",
      "888202515573088257 404 Not Found\n",
      "144 - No status found with that ID.\n",
      "873697596434513921 404 Not Found\n",
      "144 - No status found with that ID.\n",
      "872668790621863937 404 Not Found\n",
      "144 - No status found with that ID.\n",
      "872261713294495745 404 Not Found\n",
      "144 - No status found with that ID.\n",
      "869988702071779329 404 Not Found\n",
      "144 - No status found with that ID.\n",
      "866816280283807744 404 Not Found\n",
      "144 - No status found with that ID.\n",
      "861769973181624320 404 Not Found\n",
      "144 - No status found with that ID.\n",
      "856602993587888130 404 Not Found\n",
      "144 - No status found with that ID.\n",
      "856330835276025856 404 Not Found\n",
      "34 - Sorry, that page does not exist.\n",
      "851953902622658560 404 Not Found\n",
      "144 - No status found with that ID.\n",
      "851861385021730816 404 Not Found\n",
      "144 - No status found with that ID.\n",
      "845459076796616705 404 Not Found\n",
      "144 - No status found with that ID.\n",
      "844704788403113984 404 Not Found\n",
      "144 - No status found with that ID.\n",
      "842892208864923648 404 Not Found\n",
      "144 - No status found with that ID.\n",
      "837366284874571778 404 Not Found\n",
      "144 - No status found with that ID.\n",
      "837012587749474308 404 Not Found\n",
      "144 - No status found with that ID.\n",
      "829374341691346946 404 Not Found\n",
      "144 - No status found with that ID.\n",
      "827228250799742977 404 Not Found\n",
      "144 - No status found with that ID.\n",
      "812747805718642688 404 Not Found\n",
      "144 - No status found with that ID.\n",
      "802247111496568832 404 Not Found\n",
      "144 - No status found with that ID.\n",
      "779123168116150273 404 Not Found\n",
      "144 - No status found with that ID.\n",
      "775096608509886464 404 Not Found\n",
      "144 - No status found with that ID.\n",
      "771004394259247104 403 Forbidden\n",
      "179 - Sorry, you are not authorized to see this status.\n",
      "770743923962707968 404 Not Found\n",
      "144 - No status found with that ID.\n",
      "766864461642756096 404 Not Found\n",
      "144 - No status found with that ID.\n",
      "759923798737051648 404 Not Found\n",
      "144 - No status found with that ID.\n",
      "759566828574212096 404 Not Found\n",
      "144 - No status found with that ID.\n",
      "754011816964026368 404 Not Found\n",
      "144 - No status found with that ID.\n",
      "680055455951884288 404 Not Found\n",
      "144 - No status found with that ID.\n",
      "672591271085670400 Failed to send request: HTTPSConnectionPool(host='api.twitter.com', port=443): Max retries exceeded with url: /1.1/statuses/show.json?id=672591271085670400 (Caused by SSLError(SSLEOFError(8, 'EOF occurred in violation of protocol (_ssl.c:1125)')))\n",
      "672538107540070400 Failed to send request: HTTPSConnectionPool(host='api.twitter.com', port=443): Max retries exceeded with url: /1.1/statuses/show.json?id=672538107540070400 (Caused by SSLError(SSLEOFError(8, 'EOF occurred in violation of protocol (_ssl.c:1125)')))\n",
      "672523490734551040 Failed to send request: HTTPSConnectionPool(host='api.twitter.com', port=443): Max retries exceeded with url: /1.1/statuses/show.json?id=672523490734551040 (Caused by SSLError(SSLEOFError(8, 'EOF occurred in violation of protocol (_ssl.c:1125)')))\n"
     ]
    }
   ],
   "source": [
    "#fetch additional information from the Twitter API using tweepy\n",
    "count=0\n",
    "list_of_tweets=[]\n",
    "errors_dictionary={}\n",
    "start=timer()\n",
    "print('Fetching tweets starting....')\n",
    "for tweet_id in tweet_ids_array:\n",
    "    count += 1\n",
    "    try:\n",
    "        list_of_tweets.append(api.get_status(tweet_id))\n",
    "    except tweepy.errors.TweepyException as err:\n",
    "        errors_dictionary[tweet_id]=err\n",
    "        pass\n",
    "    if count % 100 == 0:\n",
    "        print('progress report:')\n",
    "        print('Milestone reached :'+str(count)+' fetches........')   \n",
    "    \n",
    "end=timer()\n",
    "print('Fetching tweets Complete')\n",
    "print('Total time taken '+str(end - start))\n",
    "print('Found '+str(len(errors_dictionary))+' errors.To be listed below')\n",
    "for tweet_id in errors_dictionary:\n",
    "    print(tweet_id, errors_dictionary[tweet_id])"
   ]
  },
  {
   "cell_type": "code",
   "execution_count": 57,
   "id": "3669131d",
   "metadata": {},
   "outputs": [],
   "source": [
    "list_of_json_tweet_objects=[]\n",
    "for each_json_tweet in list_of_tweets:\n",
    "    list_of_json_tweet_objects.append(each_json_tweet._json)"
   ]
  },
  {
   "cell_type": "code",
   "execution_count": 58,
   "id": "2657025e",
   "metadata": {},
   "outputs": [],
   "source": [
    "with open('tweets_json.txt','w') as file:\n",
    "    file.write(json.dumps(list_of_json_tweet_objects,indent=4))"
   ]
  },
  {
   "cell_type": "code",
   "execution_count": 59,
   "id": "b0eefa4d",
   "metadata": {},
   "outputs": [
    {
     "name": "stdout",
     "output_type": "stream",
     "text": [
      " Volume in drive C has no label.\n",
      " Volume Serial Number is 7098-8673\n",
      "\n",
      " Directory of C:\\Users\\user\\Desktop\\jupyter\\We-Rate-Dogs-Project\n",
      "\n",
      "13/06/2022  12:37        17,966,494 json_tweets_file.txt\n",
      "               1 File(s)     17,966,494 bytes\n",
      "               0 Dir(s)  53,620,092,928 bytes free\n"
     ]
    }
   ],
   "source": [
    "ls tweets_json.txt"
   ]
  },
  {
   "cell_type": "code",
   "execution_count": 72,
   "id": "9a8ff0e5",
   "metadata": {},
   "outputs": [],
   "source": [
    "#Build a dataframe row by row from the json file\n",
    "#adapted from https://stackoverflow.com/questions/2110459/json-to-pandas-dataframe\n",
    "\n",
    "list_of_keys=[]\n",
    "with open('tweets_json.txt',encoding='utf-8') as json_file:\n",
    "    tweets_data_dictionary=json.load(json_file)\n",
    "    for each_key in tweets_data_dictionary:\n",
    "        tweet_id=each_key['id']\n",
    "        favorite_count=each_key['favorite_count']\n",
    "        retweet_count=each_key['retweet_count']\n",
    "        created_at=each_key['created_at']\n",
    "        whole_source=each_key['source']\n",
    "        only_device=whole_source[whole_source.find('rel=\"nofollow\">')+ 15:-4]\n",
    "        source=only_device\n",
    "        retweeted_status=each_key['retweeted_status']=each_key.get('retweeted_status','Original tweet')\n",
    "        \n",
    "        list_of_keys.append({'tweet_id': tweet_id,\n",
    "                         'favorite_count': favorite_count,\n",
    "                         'retweet_count': retweet_count,\n",
    "                         'created_at': created_at,\n",
    "                          'source': source,\n",
    "                          'retweeted_status': retweeted_status,\n",
    "                           })\n",
    "        \n",
    "    \n",
    "        fetched_tweets_df=pd.DataFrame(list_of_keys,columns=['tweet_id','favorite_count','retweet_count','created_at','source','retweeted_status'])"
   ]
  },
  {
   "cell_type": "code",
   "execution_count": 78,
   "id": "3e34d83a",
   "metadata": {},
   "outputs": [
    {
     "data": {
      "text/html": [
       "<div>\n",
       "<style scoped>\n",
       "    .dataframe tbody tr th:only-of-type {\n",
       "        vertical-align: middle;\n",
       "    }\n",
       "\n",
       "    .dataframe tbody tr th {\n",
       "        vertical-align: top;\n",
       "    }\n",
       "\n",
       "    .dataframe thead th {\n",
       "        text-align: right;\n",
       "    }\n",
       "</style>\n",
       "<table border=\"1\" class=\"dataframe\">\n",
       "  <thead>\n",
       "    <tr style=\"text-align: right;\">\n",
       "      <th></th>\n",
       "      <th>tweet_id</th>\n",
       "      <th>favorite_count</th>\n",
       "      <th>retweet_count</th>\n",
       "      <th>created_at</th>\n",
       "      <th>source</th>\n",
       "      <th>retweeted_status</th>\n",
       "    </tr>\n",
       "  </thead>\n",
       "  <tbody>\n",
       "    <tr>\n",
       "      <th>0</th>\n",
       "      <td>892420643555336193</td>\n",
       "      <td>33852</td>\n",
       "      <td>7019</td>\n",
       "      <td>Tue Aug 01 16:23:56 +0000 2017</td>\n",
       "      <td>Twitter for iPhone</td>\n",
       "      <td>Original tweet</td>\n",
       "    </tr>\n",
       "    <tr>\n",
       "      <th>1</th>\n",
       "      <td>892177421306343426</td>\n",
       "      <td>29359</td>\n",
       "      <td>5303</td>\n",
       "      <td>Tue Aug 01 00:17:27 +0000 2017</td>\n",
       "      <td>Twitter for iPhone</td>\n",
       "      <td>Original tweet</td>\n",
       "    </tr>\n",
       "    <tr>\n",
       "      <th>2</th>\n",
       "      <td>891815181378084864</td>\n",
       "      <td>22079</td>\n",
       "      <td>3486</td>\n",
       "      <td>Mon Jul 31 00:18:03 +0000 2017</td>\n",
       "      <td>Twitter for iPhone</td>\n",
       "      <td>Original tweet</td>\n",
       "    </tr>\n",
       "    <tr>\n",
       "      <th>3</th>\n",
       "      <td>891689557279858688</td>\n",
       "      <td>36973</td>\n",
       "      <td>7232</td>\n",
       "      <td>Sun Jul 30 15:58:51 +0000 2017</td>\n",
       "      <td>Twitter for iPhone</td>\n",
       "      <td>Original tweet</td>\n",
       "    </tr>\n",
       "    <tr>\n",
       "      <th>4</th>\n",
       "      <td>891327558926688256</td>\n",
       "      <td>35347</td>\n",
       "      <td>7773</td>\n",
       "      <td>Sat Jul 29 16:00:24 +0000 2017</td>\n",
       "      <td>Twitter for iPhone</td>\n",
       "      <td>Original tweet</td>\n",
       "    </tr>\n",
       "  </tbody>\n",
       "</table>\n",
       "</div>"
      ],
      "text/plain": [
       "             tweet_id  favorite_count  retweet_count  \\\n",
       "0  892420643555336193           33852           7019   \n",
       "1  892177421306343426           29359           5303   \n",
       "2  891815181378084864           22079           3486   \n",
       "3  891689557279858688           36973           7232   \n",
       "4  891327558926688256           35347           7773   \n",
       "\n",
       "                       created_at              source retweeted_status  \n",
       "0  Tue Aug 01 16:23:56 +0000 2017  Twitter for iPhone   Original tweet  \n",
       "1  Tue Aug 01 00:17:27 +0000 2017  Twitter for iPhone   Original tweet  \n",
       "2  Mon Jul 31 00:18:03 +0000 2017  Twitter for iPhone   Original tweet  \n",
       "3  Sun Jul 30 15:58:51 +0000 2017  Twitter for iPhone   Original tweet  \n",
       "4  Sat Jul 29 16:00:24 +0000 2017  Twitter for iPhone   Original tweet  "
      ]
     },
     "execution_count": 78,
     "metadata": {},
     "output_type": "execute_result"
    }
   ],
   "source": [
    "fetched_tweets_df.head()"
   ]
  },
  {
   "cell_type": "code",
   "execution_count": 74,
   "id": "ef2a36d4",
   "metadata": {},
   "outputs": [
    {
     "name": "stdout",
     "output_type": "stream",
     "text": [
      "<class 'pandas.core.frame.DataFrame'>\n",
      "RangeIndex: 2324 entries, 0 to 2323\n",
      "Data columns (total 6 columns):\n",
      " #   Column            Non-Null Count  Dtype \n",
      "---  ------            --------------  ----- \n",
      " 0   tweet_id          2324 non-null   int64 \n",
      " 1   favorite_count    2324 non-null   int64 \n",
      " 2   retweet_count     2324 non-null   int64 \n",
      " 3   created_at        2324 non-null   object\n",
      " 4   source            2324 non-null   object\n",
      " 5   retweeted_status  2324 non-null   object\n",
      "dtypes: int64(3), object(3)\n",
      "memory usage: 109.1+ KB\n"
     ]
    }
   ],
   "source": [
    "fetched_tweets_df.info()"
   ]
  },
  {
   "cell_type": "markdown",
   "id": "c538abc5",
   "metadata": {},
   "source": [
    "<a id='assess'></a>\n",
    "# ASSESSEMENT"
   ]
  },
  {
   "cell_type": "markdown",
   "id": "ae5b3e8c",
   "metadata": {},
   "source": [
    "### TWITTER ARCHIVE FILE"
   ]
  },
  {
   "cell_type": "markdown",
   "id": "7fe553ae",
   "metadata": {},
   "source": [
    "#### VISUAL ASSESSMENT"
   ]
  },
  {
   "cell_type": "code",
   "execution_count": 79,
   "id": "28937c08",
   "metadata": {},
   "outputs": [
    {
     "data": {
      "text/html": [
       "<div>\n",
       "<style scoped>\n",
       "    .dataframe tbody tr th:only-of-type {\n",
       "        vertical-align: middle;\n",
       "    }\n",
       "\n",
       "    .dataframe tbody tr th {\n",
       "        vertical-align: top;\n",
       "    }\n",
       "\n",
       "    .dataframe thead th {\n",
       "        text-align: right;\n",
       "    }\n",
       "</style>\n",
       "<table border=\"1\" class=\"dataframe\">\n",
       "  <thead>\n",
       "    <tr style=\"text-align: right;\">\n",
       "      <th></th>\n",
       "      <th>tweet_id</th>\n",
       "      <th>in_reply_to_status_id</th>\n",
       "      <th>in_reply_to_user_id</th>\n",
       "      <th>timestamp</th>\n",
       "      <th>source</th>\n",
       "      <th>text</th>\n",
       "      <th>retweeted_status_id</th>\n",
       "      <th>retweeted_status_user_id</th>\n",
       "      <th>retweeted_status_timestamp</th>\n",
       "      <th>expanded_urls</th>\n",
       "      <th>rating_numerator</th>\n",
       "      <th>rating_denominator</th>\n",
       "      <th>name</th>\n",
       "      <th>doggo</th>\n",
       "      <th>floofer</th>\n",
       "      <th>pupper</th>\n",
       "      <th>puppo</th>\n",
       "    </tr>\n",
       "  </thead>\n",
       "  <tbody>\n",
       "    <tr>\n",
       "      <th>0</th>\n",
       "      <td>892420643555336193</td>\n",
       "      <td>NaN</td>\n",
       "      <td>NaN</td>\n",
       "      <td>2017-08-01 16:23:56 +0000</td>\n",
       "      <td>&lt;a href=\"http://twitter.com/download/iphone\" rel=\"nofollow\"&gt;Twitter for iPhone&lt;/a&gt;</td>\n",
       "      <td>This is Phineas. He's a mystical boy. Only ever appears in the hole of a donut. 13/10 https://t.co/MgUWQ76dJU</td>\n",
       "      <td>NaN</td>\n",
       "      <td>NaN</td>\n",
       "      <td>NaN</td>\n",
       "      <td>https://twitter.com/dog_rates/status/892420643555336193/photo/1</td>\n",
       "      <td>13</td>\n",
       "      <td>10</td>\n",
       "      <td>Phineas</td>\n",
       "      <td>None</td>\n",
       "      <td>None</td>\n",
       "      <td>None</td>\n",
       "      <td>None</td>\n",
       "    </tr>\n",
       "    <tr>\n",
       "      <th>1</th>\n",
       "      <td>892177421306343426</td>\n",
       "      <td>NaN</td>\n",
       "      <td>NaN</td>\n",
       "      <td>2017-08-01 00:17:27 +0000</td>\n",
       "      <td>&lt;a href=\"http://twitter.com/download/iphone\" rel=\"nofollow\"&gt;Twitter for iPhone&lt;/a&gt;</td>\n",
       "      <td>This is Tilly. She's just checking pup on you. Hopes you're doing ok. If not, she's available for pats, snugs, boops, the whole bit. 13/10 https://t.co/0Xxu71qeIV</td>\n",
       "      <td>NaN</td>\n",
       "      <td>NaN</td>\n",
       "      <td>NaN</td>\n",
       "      <td>https://twitter.com/dog_rates/status/892177421306343426/photo/1</td>\n",
       "      <td>13</td>\n",
       "      <td>10</td>\n",
       "      <td>Tilly</td>\n",
       "      <td>None</td>\n",
       "      <td>None</td>\n",
       "      <td>None</td>\n",
       "      <td>None</td>\n",
       "    </tr>\n",
       "    <tr>\n",
       "      <th>2</th>\n",
       "      <td>891815181378084864</td>\n",
       "      <td>NaN</td>\n",
       "      <td>NaN</td>\n",
       "      <td>2017-07-31 00:18:03 +0000</td>\n",
       "      <td>&lt;a href=\"http://twitter.com/download/iphone\" rel=\"nofollow\"&gt;Twitter for iPhone&lt;/a&gt;</td>\n",
       "      <td>This is Archie. He is a rare Norwegian Pouncing Corgo. Lives in the tall grass. You never know when one may strike. 12/10 https://t.co/wUnZnhtVJB</td>\n",
       "      <td>NaN</td>\n",
       "      <td>NaN</td>\n",
       "      <td>NaN</td>\n",
       "      <td>https://twitter.com/dog_rates/status/891815181378084864/photo/1</td>\n",
       "      <td>12</td>\n",
       "      <td>10</td>\n",
       "      <td>Archie</td>\n",
       "      <td>None</td>\n",
       "      <td>None</td>\n",
       "      <td>None</td>\n",
       "      <td>None</td>\n",
       "    </tr>\n",
       "    <tr>\n",
       "      <th>3</th>\n",
       "      <td>891689557279858688</td>\n",
       "      <td>NaN</td>\n",
       "      <td>NaN</td>\n",
       "      <td>2017-07-30 15:58:51 +0000</td>\n",
       "      <td>&lt;a href=\"http://twitter.com/download/iphone\" rel=\"nofollow\"&gt;Twitter for iPhone&lt;/a&gt;</td>\n",
       "      <td>This is Darla. She commenced a snooze mid meal. 13/10 happens to the best of us https://t.co/tD36da7qLQ</td>\n",
       "      <td>NaN</td>\n",
       "      <td>NaN</td>\n",
       "      <td>NaN</td>\n",
       "      <td>https://twitter.com/dog_rates/status/891689557279858688/photo/1</td>\n",
       "      <td>13</td>\n",
       "      <td>10</td>\n",
       "      <td>Darla</td>\n",
       "      <td>None</td>\n",
       "      <td>None</td>\n",
       "      <td>None</td>\n",
       "      <td>None</td>\n",
       "    </tr>\n",
       "    <tr>\n",
       "      <th>4</th>\n",
       "      <td>891327558926688256</td>\n",
       "      <td>NaN</td>\n",
       "      <td>NaN</td>\n",
       "      <td>2017-07-29 16:00:24 +0000</td>\n",
       "      <td>&lt;a href=\"http://twitter.com/download/iphone\" rel=\"nofollow\"&gt;Twitter for iPhone&lt;/a&gt;</td>\n",
       "      <td>This is Franklin. He would like you to stop calling him \"cute.\" He is a very fierce shark and should be respected as such. 12/10 #BarkWeek https://t.co/AtUZn91f7f</td>\n",
       "      <td>NaN</td>\n",
       "      <td>NaN</td>\n",
       "      <td>NaN</td>\n",
       "      <td>https://twitter.com/dog_rates/status/891327558926688256/photo/1,https://twitter.com/dog_rates/status/891327558926688256/photo/1</td>\n",
       "      <td>12</td>\n",
       "      <td>10</td>\n",
       "      <td>Franklin</td>\n",
       "      <td>None</td>\n",
       "      <td>None</td>\n",
       "      <td>None</td>\n",
       "      <td>None</td>\n",
       "    </tr>\n",
       "    <tr>\n",
       "      <th>...</th>\n",
       "      <td>...</td>\n",
       "      <td>...</td>\n",
       "      <td>...</td>\n",
       "      <td>...</td>\n",
       "      <td>...</td>\n",
       "      <td>...</td>\n",
       "      <td>...</td>\n",
       "      <td>...</td>\n",
       "      <td>...</td>\n",
       "      <td>...</td>\n",
       "      <td>...</td>\n",
       "      <td>...</td>\n",
       "      <td>...</td>\n",
       "      <td>...</td>\n",
       "      <td>...</td>\n",
       "      <td>...</td>\n",
       "      <td>...</td>\n",
       "    </tr>\n",
       "    <tr>\n",
       "      <th>2351</th>\n",
       "      <td>666049248165822465</td>\n",
       "      <td>NaN</td>\n",
       "      <td>NaN</td>\n",
       "      <td>2015-11-16 00:24:50 +0000</td>\n",
       "      <td>&lt;a href=\"http://twitter.com/download/iphone\" rel=\"nofollow\"&gt;Twitter for iPhone&lt;/a&gt;</td>\n",
       "      <td>Here we have a 1949 1st generation vulpix. Enjoys sweat tea and Fox News. Cannot be phased. 5/10 https://t.co/4B7cOc1EDq</td>\n",
       "      <td>NaN</td>\n",
       "      <td>NaN</td>\n",
       "      <td>NaN</td>\n",
       "      <td>https://twitter.com/dog_rates/status/666049248165822465/photo/1</td>\n",
       "      <td>5</td>\n",
       "      <td>10</td>\n",
       "      <td>None</td>\n",
       "      <td>None</td>\n",
       "      <td>None</td>\n",
       "      <td>None</td>\n",
       "      <td>None</td>\n",
       "    </tr>\n",
       "    <tr>\n",
       "      <th>2352</th>\n",
       "      <td>666044226329800704</td>\n",
       "      <td>NaN</td>\n",
       "      <td>NaN</td>\n",
       "      <td>2015-11-16 00:04:52 +0000</td>\n",
       "      <td>&lt;a href=\"http://twitter.com/download/iphone\" rel=\"nofollow\"&gt;Twitter for iPhone&lt;/a&gt;</td>\n",
       "      <td>This is a purebred Piers Morgan. Loves to Netflix and chill. Always looks like he forgot to unplug the iron. 6/10 https://t.co/DWnyCjf2mx</td>\n",
       "      <td>NaN</td>\n",
       "      <td>NaN</td>\n",
       "      <td>NaN</td>\n",
       "      <td>https://twitter.com/dog_rates/status/666044226329800704/photo/1</td>\n",
       "      <td>6</td>\n",
       "      <td>10</td>\n",
       "      <td>a</td>\n",
       "      <td>None</td>\n",
       "      <td>None</td>\n",
       "      <td>None</td>\n",
       "      <td>None</td>\n",
       "    </tr>\n",
       "    <tr>\n",
       "      <th>2353</th>\n",
       "      <td>666033412701032449</td>\n",
       "      <td>NaN</td>\n",
       "      <td>NaN</td>\n",
       "      <td>2015-11-15 23:21:54 +0000</td>\n",
       "      <td>&lt;a href=\"http://twitter.com/download/iphone\" rel=\"nofollow\"&gt;Twitter for iPhone&lt;/a&gt;</td>\n",
       "      <td>Here is a very happy pup. Big fan of well-maintained decks. Just look at that tongue. 9/10 would cuddle af https://t.co/y671yMhoiR</td>\n",
       "      <td>NaN</td>\n",
       "      <td>NaN</td>\n",
       "      <td>NaN</td>\n",
       "      <td>https://twitter.com/dog_rates/status/666033412701032449/photo/1</td>\n",
       "      <td>9</td>\n",
       "      <td>10</td>\n",
       "      <td>a</td>\n",
       "      <td>None</td>\n",
       "      <td>None</td>\n",
       "      <td>None</td>\n",
       "      <td>None</td>\n",
       "    </tr>\n",
       "    <tr>\n",
       "      <th>2354</th>\n",
       "      <td>666029285002620928</td>\n",
       "      <td>NaN</td>\n",
       "      <td>NaN</td>\n",
       "      <td>2015-11-15 23:05:30 +0000</td>\n",
       "      <td>&lt;a href=\"http://twitter.com/download/iphone\" rel=\"nofollow\"&gt;Twitter for iPhone&lt;/a&gt;</td>\n",
       "      <td>This is a western brown Mitsubishi terrier. Upset about leaf. Actually 2 dogs here. 7/10 would walk the shit out of https://t.co/r7mOb2m0UI</td>\n",
       "      <td>NaN</td>\n",
       "      <td>NaN</td>\n",
       "      <td>NaN</td>\n",
       "      <td>https://twitter.com/dog_rates/status/666029285002620928/photo/1</td>\n",
       "      <td>7</td>\n",
       "      <td>10</td>\n",
       "      <td>a</td>\n",
       "      <td>None</td>\n",
       "      <td>None</td>\n",
       "      <td>None</td>\n",
       "      <td>None</td>\n",
       "    </tr>\n",
       "    <tr>\n",
       "      <th>2355</th>\n",
       "      <td>666020888022790149</td>\n",
       "      <td>NaN</td>\n",
       "      <td>NaN</td>\n",
       "      <td>2015-11-15 22:32:08 +0000</td>\n",
       "      <td>&lt;a href=\"http://twitter.com/download/iphone\" rel=\"nofollow\"&gt;Twitter for iPhone&lt;/a&gt;</td>\n",
       "      <td>Here we have a Japanese Irish Setter. Lost eye in Vietnam (?). Big fan of relaxing on stair. 8/10 would pet https://t.co/BLDqew2Ijj</td>\n",
       "      <td>NaN</td>\n",
       "      <td>NaN</td>\n",
       "      <td>NaN</td>\n",
       "      <td>https://twitter.com/dog_rates/status/666020888022790149/photo/1</td>\n",
       "      <td>8</td>\n",
       "      <td>10</td>\n",
       "      <td>None</td>\n",
       "      <td>None</td>\n",
       "      <td>None</td>\n",
       "      <td>None</td>\n",
       "      <td>None</td>\n",
       "    </tr>\n",
       "  </tbody>\n",
       "</table>\n",
       "<p>2356 rows × 17 columns</p>\n",
       "</div>"
      ],
      "text/plain": [
       "                tweet_id  in_reply_to_status_id  in_reply_to_user_id  \\\n",
       "0     892420643555336193                    NaN                  NaN   \n",
       "1     892177421306343426                    NaN                  NaN   \n",
       "2     891815181378084864                    NaN                  NaN   \n",
       "3     891689557279858688                    NaN                  NaN   \n",
       "4     891327558926688256                    NaN                  NaN   \n",
       "...                  ...                    ...                  ...   \n",
       "2351  666049248165822465                    NaN                  NaN   \n",
       "2352  666044226329800704                    NaN                  NaN   \n",
       "2353  666033412701032449                    NaN                  NaN   \n",
       "2354  666029285002620928                    NaN                  NaN   \n",
       "2355  666020888022790149                    NaN                  NaN   \n",
       "\n",
       "                      timestamp  \\\n",
       "0     2017-08-01 16:23:56 +0000   \n",
       "1     2017-08-01 00:17:27 +0000   \n",
       "2     2017-07-31 00:18:03 +0000   \n",
       "3     2017-07-30 15:58:51 +0000   \n",
       "4     2017-07-29 16:00:24 +0000   \n",
       "...                         ...   \n",
       "2351  2015-11-16 00:24:50 +0000   \n",
       "2352  2015-11-16 00:04:52 +0000   \n",
       "2353  2015-11-15 23:21:54 +0000   \n",
       "2354  2015-11-15 23:05:30 +0000   \n",
       "2355  2015-11-15 22:32:08 +0000   \n",
       "\n",
       "                                                                                  source  \\\n",
       "0     <a href=\"http://twitter.com/download/iphone\" rel=\"nofollow\">Twitter for iPhone</a>   \n",
       "1     <a href=\"http://twitter.com/download/iphone\" rel=\"nofollow\">Twitter for iPhone</a>   \n",
       "2     <a href=\"http://twitter.com/download/iphone\" rel=\"nofollow\">Twitter for iPhone</a>   \n",
       "3     <a href=\"http://twitter.com/download/iphone\" rel=\"nofollow\">Twitter for iPhone</a>   \n",
       "4     <a href=\"http://twitter.com/download/iphone\" rel=\"nofollow\">Twitter for iPhone</a>   \n",
       "...                                                                                  ...   \n",
       "2351  <a href=\"http://twitter.com/download/iphone\" rel=\"nofollow\">Twitter for iPhone</a>   \n",
       "2352  <a href=\"http://twitter.com/download/iphone\" rel=\"nofollow\">Twitter for iPhone</a>   \n",
       "2353  <a href=\"http://twitter.com/download/iphone\" rel=\"nofollow\">Twitter for iPhone</a>   \n",
       "2354  <a href=\"http://twitter.com/download/iphone\" rel=\"nofollow\">Twitter for iPhone</a>   \n",
       "2355  <a href=\"http://twitter.com/download/iphone\" rel=\"nofollow\">Twitter for iPhone</a>   \n",
       "\n",
       "                                                                                                                                                                    text  \\\n",
       "0                                                          This is Phineas. He's a mystical boy. Only ever appears in the hole of a donut. 13/10 https://t.co/MgUWQ76dJU   \n",
       "1     This is Tilly. She's just checking pup on you. Hopes you're doing ok. If not, she's available for pats, snugs, boops, the whole bit. 13/10 https://t.co/0Xxu71qeIV   \n",
       "2                      This is Archie. He is a rare Norwegian Pouncing Corgo. Lives in the tall grass. You never know when one may strike. 12/10 https://t.co/wUnZnhtVJB   \n",
       "3                                                                This is Darla. She commenced a snooze mid meal. 13/10 happens to the best of us https://t.co/tD36da7qLQ   \n",
       "4     This is Franklin. He would like you to stop calling him \"cute.\" He is a very fierce shark and should be respected as such. 12/10 #BarkWeek https://t.co/AtUZn91f7f   \n",
       "...                                                                                                                                                                  ...   \n",
       "2351                                            Here we have a 1949 1st generation vulpix. Enjoys sweat tea and Fox News. Cannot be phased. 5/10 https://t.co/4B7cOc1EDq   \n",
       "2352                           This is a purebred Piers Morgan. Loves to Netflix and chill. Always looks like he forgot to unplug the iron. 6/10 https://t.co/DWnyCjf2mx   \n",
       "2353                                  Here is a very happy pup. Big fan of well-maintained decks. Just look at that tongue. 9/10 would cuddle af https://t.co/y671yMhoiR   \n",
       "2354                         This is a western brown Mitsubishi terrier. Upset about leaf. Actually 2 dogs here. 7/10 would walk the shit out of https://t.co/r7mOb2m0UI   \n",
       "2355                                 Here we have a Japanese Irish Setter. Lost eye in Vietnam (?). Big fan of relaxing on stair. 8/10 would pet https://t.co/BLDqew2Ijj   \n",
       "\n",
       "      retweeted_status_id  retweeted_status_user_id  \\\n",
       "0                     NaN                       NaN   \n",
       "1                     NaN                       NaN   \n",
       "2                     NaN                       NaN   \n",
       "3                     NaN                       NaN   \n",
       "4                     NaN                       NaN   \n",
       "...                   ...                       ...   \n",
       "2351                  NaN                       NaN   \n",
       "2352                  NaN                       NaN   \n",
       "2353                  NaN                       NaN   \n",
       "2354                  NaN                       NaN   \n",
       "2355                  NaN                       NaN   \n",
       "\n",
       "     retweeted_status_timestamp  \\\n",
       "0                           NaN   \n",
       "1                           NaN   \n",
       "2                           NaN   \n",
       "3                           NaN   \n",
       "4                           NaN   \n",
       "...                         ...   \n",
       "2351                        NaN   \n",
       "2352                        NaN   \n",
       "2353                        NaN   \n",
       "2354                        NaN   \n",
       "2355                        NaN   \n",
       "\n",
       "                                                                                                                        expanded_urls  \\\n",
       "0                                                                     https://twitter.com/dog_rates/status/892420643555336193/photo/1   \n",
       "1                                                                     https://twitter.com/dog_rates/status/892177421306343426/photo/1   \n",
       "2                                                                     https://twitter.com/dog_rates/status/891815181378084864/photo/1   \n",
       "3                                                                     https://twitter.com/dog_rates/status/891689557279858688/photo/1   \n",
       "4     https://twitter.com/dog_rates/status/891327558926688256/photo/1,https://twitter.com/dog_rates/status/891327558926688256/photo/1   \n",
       "...                                                                                                                               ...   \n",
       "2351                                                                  https://twitter.com/dog_rates/status/666049248165822465/photo/1   \n",
       "2352                                                                  https://twitter.com/dog_rates/status/666044226329800704/photo/1   \n",
       "2353                                                                  https://twitter.com/dog_rates/status/666033412701032449/photo/1   \n",
       "2354                                                                  https://twitter.com/dog_rates/status/666029285002620928/photo/1   \n",
       "2355                                                                  https://twitter.com/dog_rates/status/666020888022790149/photo/1   \n",
       "\n",
       "      rating_numerator  rating_denominator      name doggo floofer pupper  \\\n",
       "0                   13                  10   Phineas  None    None   None   \n",
       "1                   13                  10     Tilly  None    None   None   \n",
       "2                   12                  10    Archie  None    None   None   \n",
       "3                   13                  10     Darla  None    None   None   \n",
       "4                   12                  10  Franklin  None    None   None   \n",
       "...                ...                 ...       ...   ...     ...    ...   \n",
       "2351                 5                  10      None  None    None   None   \n",
       "2352                 6                  10         a  None    None   None   \n",
       "2353                 9                  10         a  None    None   None   \n",
       "2354                 7                  10         a  None    None   None   \n",
       "2355                 8                  10      None  None    None   None   \n",
       "\n",
       "     puppo  \n",
       "0     None  \n",
       "1     None  \n",
       "2     None  \n",
       "3     None  \n",
       "4     None  \n",
       "...    ...  \n",
       "2351  None  \n",
       "2352  None  \n",
       "2353  None  \n",
       "2354  None  \n",
       "2355  None  \n",
       "\n",
       "[2356 rows x 17 columns]"
      ]
     },
     "execution_count": 79,
     "metadata": {},
     "output_type": "execute_result"
    }
   ],
   "source": [
    "twitter_archive_df"
   ]
  },
  {
   "cell_type": "markdown",
   "id": "241693cd",
   "metadata": {},
   "source": [
    "> #### QUICK NOTE\n",
    "#### QUALITY\n",
    "- There appears to be 3 rows in the name column with single letter 'a'.There is need for further programmatic assessment here\n",
    "\n",
    "#### TIDINESS\n",
    "- There are four different columns for dog stages i.e. doggo,floofer,pupper,puppo"
   ]
  },
  {
   "cell_type": "markdown",
   "id": "1a837456",
   "metadata": {},
   "source": [
    "#### PROGRAMMATIC ASSESSMENT"
   ]
  },
  {
   "cell_type": "code",
   "execution_count": 81,
   "id": "6d889b75",
   "metadata": {},
   "outputs": [
    {
     "name": "stdout",
     "output_type": "stream",
     "text": [
      "<class 'pandas.core.frame.DataFrame'>\n",
      "RangeIndex: 2356 entries, 0 to 2355\n",
      "Data columns (total 17 columns):\n",
      " #   Column                      Non-Null Count  Dtype  \n",
      "---  ------                      --------------  -----  \n",
      " 0   tweet_id                    2356 non-null   int64  \n",
      " 1   in_reply_to_status_id       78 non-null     float64\n",
      " 2   in_reply_to_user_id         78 non-null     float64\n",
      " 3   timestamp                   2356 non-null   object \n",
      " 4   source                      2356 non-null   object \n",
      " 5   text                        2356 non-null   object \n",
      " 6   retweeted_status_id         181 non-null    float64\n",
      " 7   retweeted_status_user_id    181 non-null    float64\n",
      " 8   retweeted_status_timestamp  181 non-null    object \n",
      " 9   expanded_urls               2297 non-null   object \n",
      " 10  rating_numerator            2356 non-null   int64  \n",
      " 11  rating_denominator          2356 non-null   int64  \n",
      " 12  name                        2356 non-null   object \n",
      " 13  doggo                       2356 non-null   object \n",
      " 14  floofer                     2356 non-null   object \n",
      " 15  pupper                      2356 non-null   object \n",
      " 16  puppo                       2356 non-null   object \n",
      "dtypes: float64(4), int64(3), object(10)\n",
      "memory usage: 313.0+ KB\n"
     ]
    }
   ],
   "source": [
    "twitter_archive_df.info()"
   ]
  },
  {
   "cell_type": "markdown",
   "id": "b98e1762",
   "metadata": {},
   "source": [
    "> #### QUICK NOTE\n",
    "#### QUALITY\n",
    "- There are 78 replies found in these columns: 'in_reply_to_status_id' and 'in_reply_to_user_id'\n",
    "- There are 181 retweets found in these columns: 'retweeted_status_id';'retweeted_status_user_id' and 'retweeted_status_timestamp'\n",
    "- There are 59 missing values in the expanded_urls column\n",
    "- timestamp is in string format\n",
    "\n",
    "#### TIDINESS\n",
    "- As noted in the visual assessment,there are four columns for dog stages i.e. doggo,floofer,pupper,puppo\n"
   ]
  },
  {
   "cell_type": "code",
   "execution_count": 83,
   "id": "d4529dee",
   "metadata": {},
   "outputs": [
    {
     "data": {
      "text/plain": [
       "0"
      ]
     },
     "execution_count": 83,
     "metadata": {},
     "output_type": "execute_result"
    }
   ],
   "source": [
    "#check if there are duplicates\n",
    "sum(twitter_archive_df.duplicated())"
   ]
  },
  {
   "cell_type": "markdown",
   "id": "12a4edee",
   "metadata": {},
   "source": [
    "No duplicates found!"
   ]
  },
  {
   "cell_type": "code",
   "execution_count": 84,
   "id": "34f88f83",
   "metadata": {},
   "outputs": [
    {
     "data": {
      "text/html": [
       "<div>\n",
       "<style scoped>\n",
       "    .dataframe tbody tr th:only-of-type {\n",
       "        vertical-align: middle;\n",
       "    }\n",
       "\n",
       "    .dataframe tbody tr th {\n",
       "        vertical-align: top;\n",
       "    }\n",
       "\n",
       "    .dataframe thead th {\n",
       "        text-align: right;\n",
       "    }\n",
       "</style>\n",
       "<table border=\"1\" class=\"dataframe\">\n",
       "  <thead>\n",
       "    <tr style=\"text-align: right;\">\n",
       "      <th></th>\n",
       "      <th>tweet_id</th>\n",
       "      <th>in_reply_to_status_id</th>\n",
       "      <th>in_reply_to_user_id</th>\n",
       "      <th>timestamp</th>\n",
       "      <th>source</th>\n",
       "      <th>text</th>\n",
       "      <th>retweeted_status_id</th>\n",
       "      <th>retweeted_status_user_id</th>\n",
       "      <th>retweeted_status_timestamp</th>\n",
       "      <th>expanded_urls</th>\n",
       "      <th>rating_numerator</th>\n",
       "      <th>rating_denominator</th>\n",
       "      <th>name</th>\n",
       "      <th>doggo</th>\n",
       "      <th>floofer</th>\n",
       "      <th>pupper</th>\n",
       "      <th>puppo</th>\n",
       "    </tr>\n",
       "  </thead>\n",
       "  <tbody>\n",
       "    <tr>\n",
       "      <th>0</th>\n",
       "      <td>892420643555336193</td>\n",
       "      <td>NaN</td>\n",
       "      <td>NaN</td>\n",
       "      <td>2017-08-01 16:23:56 +0000</td>\n",
       "      <td>&lt;a href=\"http://twitter.com/download/iphone\" rel=\"nofollow\"&gt;Twitter for iPhone&lt;/a&gt;</td>\n",
       "      <td>This is Phineas. He's a mystical boy. Only ever appears in the hole of a donut. 13/10 https://t.co/MgUWQ76dJU</td>\n",
       "      <td>NaN</td>\n",
       "      <td>NaN</td>\n",
       "      <td>NaN</td>\n",
       "      <td>https://twitter.com/dog_rates/status/892420643555336193/photo/1</td>\n",
       "      <td>13</td>\n",
       "      <td>10</td>\n",
       "      <td>Phineas</td>\n",
       "      <td>None</td>\n",
       "      <td>None</td>\n",
       "      <td>None</td>\n",
       "      <td>None</td>\n",
       "    </tr>\n",
       "    <tr>\n",
       "      <th>1</th>\n",
       "      <td>892177421306343426</td>\n",
       "      <td>NaN</td>\n",
       "      <td>NaN</td>\n",
       "      <td>2017-08-01 00:17:27 +0000</td>\n",
       "      <td>&lt;a href=\"http://twitter.com/download/iphone\" rel=\"nofollow\"&gt;Twitter for iPhone&lt;/a&gt;</td>\n",
       "      <td>This is Tilly. She's just checking pup on you. Hopes you're doing ok. If not, she's available for pats, snugs, boops, the whole bit. 13/10 https://t.co/0Xxu71qeIV</td>\n",
       "      <td>NaN</td>\n",
       "      <td>NaN</td>\n",
       "      <td>NaN</td>\n",
       "      <td>https://twitter.com/dog_rates/status/892177421306343426/photo/1</td>\n",
       "      <td>13</td>\n",
       "      <td>10</td>\n",
       "      <td>Tilly</td>\n",
       "      <td>None</td>\n",
       "      <td>None</td>\n",
       "      <td>None</td>\n",
       "      <td>None</td>\n",
       "    </tr>\n",
       "    <tr>\n",
       "      <th>2</th>\n",
       "      <td>891815181378084864</td>\n",
       "      <td>NaN</td>\n",
       "      <td>NaN</td>\n",
       "      <td>2017-07-31 00:18:03 +0000</td>\n",
       "      <td>&lt;a href=\"http://twitter.com/download/iphone\" rel=\"nofollow\"&gt;Twitter for iPhone&lt;/a&gt;</td>\n",
       "      <td>This is Archie. He is a rare Norwegian Pouncing Corgo. Lives in the tall grass. You never know when one may strike. 12/10 https://t.co/wUnZnhtVJB</td>\n",
       "      <td>NaN</td>\n",
       "      <td>NaN</td>\n",
       "      <td>NaN</td>\n",
       "      <td>https://twitter.com/dog_rates/status/891815181378084864/photo/1</td>\n",
       "      <td>12</td>\n",
       "      <td>10</td>\n",
       "      <td>Archie</td>\n",
       "      <td>None</td>\n",
       "      <td>None</td>\n",
       "      <td>None</td>\n",
       "      <td>None</td>\n",
       "    </tr>\n",
       "    <tr>\n",
       "      <th>3</th>\n",
       "      <td>891689557279858688</td>\n",
       "      <td>NaN</td>\n",
       "      <td>NaN</td>\n",
       "      <td>2017-07-30 15:58:51 +0000</td>\n",
       "      <td>&lt;a href=\"http://twitter.com/download/iphone\" rel=\"nofollow\"&gt;Twitter for iPhone&lt;/a&gt;</td>\n",
       "      <td>This is Darla. She commenced a snooze mid meal. 13/10 happens to the best of us https://t.co/tD36da7qLQ</td>\n",
       "      <td>NaN</td>\n",
       "      <td>NaN</td>\n",
       "      <td>NaN</td>\n",
       "      <td>https://twitter.com/dog_rates/status/891689557279858688/photo/1</td>\n",
       "      <td>13</td>\n",
       "      <td>10</td>\n",
       "      <td>Darla</td>\n",
       "      <td>None</td>\n",
       "      <td>None</td>\n",
       "      <td>None</td>\n",
       "      <td>None</td>\n",
       "    </tr>\n",
       "    <tr>\n",
       "      <th>4</th>\n",
       "      <td>891327558926688256</td>\n",
       "      <td>NaN</td>\n",
       "      <td>NaN</td>\n",
       "      <td>2017-07-29 16:00:24 +0000</td>\n",
       "      <td>&lt;a href=\"http://twitter.com/download/iphone\" rel=\"nofollow\"&gt;Twitter for iPhone&lt;/a&gt;</td>\n",
       "      <td>This is Franklin. He would like you to stop calling him \"cute.\" He is a very fierce shark and should be respected as such. 12/10 #BarkWeek https://t.co/AtUZn91f7f</td>\n",
       "      <td>NaN</td>\n",
       "      <td>NaN</td>\n",
       "      <td>NaN</td>\n",
       "      <td>https://twitter.com/dog_rates/status/891327558926688256/photo/1,https://twitter.com/dog_rates/status/891327558926688256/photo/1</td>\n",
       "      <td>12</td>\n",
       "      <td>10</td>\n",
       "      <td>Franklin</td>\n",
       "      <td>None</td>\n",
       "      <td>None</td>\n",
       "      <td>None</td>\n",
       "      <td>None</td>\n",
       "    </tr>\n",
       "  </tbody>\n",
       "</table>\n",
       "</div>"
      ],
      "text/plain": [
       "             tweet_id  in_reply_to_status_id  in_reply_to_user_id  \\\n",
       "0  892420643555336193                    NaN                  NaN   \n",
       "1  892177421306343426                    NaN                  NaN   \n",
       "2  891815181378084864                    NaN                  NaN   \n",
       "3  891689557279858688                    NaN                  NaN   \n",
       "4  891327558926688256                    NaN                  NaN   \n",
       "\n",
       "                   timestamp  \\\n",
       "0  2017-08-01 16:23:56 +0000   \n",
       "1  2017-08-01 00:17:27 +0000   \n",
       "2  2017-07-31 00:18:03 +0000   \n",
       "3  2017-07-30 15:58:51 +0000   \n",
       "4  2017-07-29 16:00:24 +0000   \n",
       "\n",
       "                                                                               source  \\\n",
       "0  <a href=\"http://twitter.com/download/iphone\" rel=\"nofollow\">Twitter for iPhone</a>   \n",
       "1  <a href=\"http://twitter.com/download/iphone\" rel=\"nofollow\">Twitter for iPhone</a>   \n",
       "2  <a href=\"http://twitter.com/download/iphone\" rel=\"nofollow\">Twitter for iPhone</a>   \n",
       "3  <a href=\"http://twitter.com/download/iphone\" rel=\"nofollow\">Twitter for iPhone</a>   \n",
       "4  <a href=\"http://twitter.com/download/iphone\" rel=\"nofollow\">Twitter for iPhone</a>   \n",
       "\n",
       "                                                                                                                                                                 text  \\\n",
       "0                                                       This is Phineas. He's a mystical boy. Only ever appears in the hole of a donut. 13/10 https://t.co/MgUWQ76dJU   \n",
       "1  This is Tilly. She's just checking pup on you. Hopes you're doing ok. If not, she's available for pats, snugs, boops, the whole bit. 13/10 https://t.co/0Xxu71qeIV   \n",
       "2                   This is Archie. He is a rare Norwegian Pouncing Corgo. Lives in the tall grass. You never know when one may strike. 12/10 https://t.co/wUnZnhtVJB   \n",
       "3                                                             This is Darla. She commenced a snooze mid meal. 13/10 happens to the best of us https://t.co/tD36da7qLQ   \n",
       "4  This is Franklin. He would like you to stop calling him \"cute.\" He is a very fierce shark and should be respected as such. 12/10 #BarkWeek https://t.co/AtUZn91f7f   \n",
       "\n",
       "   retweeted_status_id  retweeted_status_user_id retweeted_status_timestamp  \\\n",
       "0                  NaN                       NaN                        NaN   \n",
       "1                  NaN                       NaN                        NaN   \n",
       "2                  NaN                       NaN                        NaN   \n",
       "3                  NaN                       NaN                        NaN   \n",
       "4                  NaN                       NaN                        NaN   \n",
       "\n",
       "                                                                                                                     expanded_urls  \\\n",
       "0                                                                  https://twitter.com/dog_rates/status/892420643555336193/photo/1   \n",
       "1                                                                  https://twitter.com/dog_rates/status/892177421306343426/photo/1   \n",
       "2                                                                  https://twitter.com/dog_rates/status/891815181378084864/photo/1   \n",
       "3                                                                  https://twitter.com/dog_rates/status/891689557279858688/photo/1   \n",
       "4  https://twitter.com/dog_rates/status/891327558926688256/photo/1,https://twitter.com/dog_rates/status/891327558926688256/photo/1   \n",
       "\n",
       "   rating_numerator  rating_denominator      name doggo floofer pupper puppo  \n",
       "0                13                  10   Phineas  None    None   None  None  \n",
       "1                13                  10     Tilly  None    None   None  None  \n",
       "2                12                  10    Archie  None    None   None  None  \n",
       "3                13                  10     Darla  None    None   None  None  \n",
       "4                12                  10  Franklin  None    None   None  None  "
      ]
     },
     "execution_count": 84,
     "metadata": {},
     "output_type": "execute_result"
    }
   ],
   "source": [
    "twitter_archive_df.head()"
   ]
  },
  {
   "cell_type": "code",
   "execution_count": 85,
   "id": "d7eadabb",
   "metadata": {},
   "outputs": [
    {
     "data": {
      "text/html": [
       "<div>\n",
       "<style scoped>\n",
       "    .dataframe tbody tr th:only-of-type {\n",
       "        vertical-align: middle;\n",
       "    }\n",
       "\n",
       "    .dataframe tbody tr th {\n",
       "        vertical-align: top;\n",
       "    }\n",
       "\n",
       "    .dataframe thead th {\n",
       "        text-align: right;\n",
       "    }\n",
       "</style>\n",
       "<table border=\"1\" class=\"dataframe\">\n",
       "  <thead>\n",
       "    <tr style=\"text-align: right;\">\n",
       "      <th></th>\n",
       "      <th>tweet_id</th>\n",
       "      <th>in_reply_to_status_id</th>\n",
       "      <th>in_reply_to_user_id</th>\n",
       "      <th>timestamp</th>\n",
       "      <th>source</th>\n",
       "      <th>text</th>\n",
       "      <th>retweeted_status_id</th>\n",
       "      <th>retweeted_status_user_id</th>\n",
       "      <th>retweeted_status_timestamp</th>\n",
       "      <th>expanded_urls</th>\n",
       "      <th>rating_numerator</th>\n",
       "      <th>rating_denominator</th>\n",
       "      <th>name</th>\n",
       "      <th>doggo</th>\n",
       "      <th>floofer</th>\n",
       "      <th>pupper</th>\n",
       "      <th>puppo</th>\n",
       "    </tr>\n",
       "  </thead>\n",
       "  <tbody>\n",
       "    <tr>\n",
       "      <th>2351</th>\n",
       "      <td>666049248165822465</td>\n",
       "      <td>NaN</td>\n",
       "      <td>NaN</td>\n",
       "      <td>2015-11-16 00:24:50 +0000</td>\n",
       "      <td>&lt;a href=\"http://twitter.com/download/iphone\" rel=\"nofollow\"&gt;Twitter for iPhone&lt;/a&gt;</td>\n",
       "      <td>Here we have a 1949 1st generation vulpix. Enjoys sweat tea and Fox News. Cannot be phased. 5/10 https://t.co/4B7cOc1EDq</td>\n",
       "      <td>NaN</td>\n",
       "      <td>NaN</td>\n",
       "      <td>NaN</td>\n",
       "      <td>https://twitter.com/dog_rates/status/666049248165822465/photo/1</td>\n",
       "      <td>5</td>\n",
       "      <td>10</td>\n",
       "      <td>None</td>\n",
       "      <td>None</td>\n",
       "      <td>None</td>\n",
       "      <td>None</td>\n",
       "      <td>None</td>\n",
       "    </tr>\n",
       "    <tr>\n",
       "      <th>2352</th>\n",
       "      <td>666044226329800704</td>\n",
       "      <td>NaN</td>\n",
       "      <td>NaN</td>\n",
       "      <td>2015-11-16 00:04:52 +0000</td>\n",
       "      <td>&lt;a href=\"http://twitter.com/download/iphone\" rel=\"nofollow\"&gt;Twitter for iPhone&lt;/a&gt;</td>\n",
       "      <td>This is a purebred Piers Morgan. Loves to Netflix and chill. Always looks like he forgot to unplug the iron. 6/10 https://t.co/DWnyCjf2mx</td>\n",
       "      <td>NaN</td>\n",
       "      <td>NaN</td>\n",
       "      <td>NaN</td>\n",
       "      <td>https://twitter.com/dog_rates/status/666044226329800704/photo/1</td>\n",
       "      <td>6</td>\n",
       "      <td>10</td>\n",
       "      <td>a</td>\n",
       "      <td>None</td>\n",
       "      <td>None</td>\n",
       "      <td>None</td>\n",
       "      <td>None</td>\n",
       "    </tr>\n",
       "    <tr>\n",
       "      <th>2353</th>\n",
       "      <td>666033412701032449</td>\n",
       "      <td>NaN</td>\n",
       "      <td>NaN</td>\n",
       "      <td>2015-11-15 23:21:54 +0000</td>\n",
       "      <td>&lt;a href=\"http://twitter.com/download/iphone\" rel=\"nofollow\"&gt;Twitter for iPhone&lt;/a&gt;</td>\n",
       "      <td>Here is a very happy pup. Big fan of well-maintained decks. Just look at that tongue. 9/10 would cuddle af https://t.co/y671yMhoiR</td>\n",
       "      <td>NaN</td>\n",
       "      <td>NaN</td>\n",
       "      <td>NaN</td>\n",
       "      <td>https://twitter.com/dog_rates/status/666033412701032449/photo/1</td>\n",
       "      <td>9</td>\n",
       "      <td>10</td>\n",
       "      <td>a</td>\n",
       "      <td>None</td>\n",
       "      <td>None</td>\n",
       "      <td>None</td>\n",
       "      <td>None</td>\n",
       "    </tr>\n",
       "    <tr>\n",
       "      <th>2354</th>\n",
       "      <td>666029285002620928</td>\n",
       "      <td>NaN</td>\n",
       "      <td>NaN</td>\n",
       "      <td>2015-11-15 23:05:30 +0000</td>\n",
       "      <td>&lt;a href=\"http://twitter.com/download/iphone\" rel=\"nofollow\"&gt;Twitter for iPhone&lt;/a&gt;</td>\n",
       "      <td>This is a western brown Mitsubishi terrier. Upset about leaf. Actually 2 dogs here. 7/10 would walk the shit out of https://t.co/r7mOb2m0UI</td>\n",
       "      <td>NaN</td>\n",
       "      <td>NaN</td>\n",
       "      <td>NaN</td>\n",
       "      <td>https://twitter.com/dog_rates/status/666029285002620928/photo/1</td>\n",
       "      <td>7</td>\n",
       "      <td>10</td>\n",
       "      <td>a</td>\n",
       "      <td>None</td>\n",
       "      <td>None</td>\n",
       "      <td>None</td>\n",
       "      <td>None</td>\n",
       "    </tr>\n",
       "    <tr>\n",
       "      <th>2355</th>\n",
       "      <td>666020888022790149</td>\n",
       "      <td>NaN</td>\n",
       "      <td>NaN</td>\n",
       "      <td>2015-11-15 22:32:08 +0000</td>\n",
       "      <td>&lt;a href=\"http://twitter.com/download/iphone\" rel=\"nofollow\"&gt;Twitter for iPhone&lt;/a&gt;</td>\n",
       "      <td>Here we have a Japanese Irish Setter. Lost eye in Vietnam (?). Big fan of relaxing on stair. 8/10 would pet https://t.co/BLDqew2Ijj</td>\n",
       "      <td>NaN</td>\n",
       "      <td>NaN</td>\n",
       "      <td>NaN</td>\n",
       "      <td>https://twitter.com/dog_rates/status/666020888022790149/photo/1</td>\n",
       "      <td>8</td>\n",
       "      <td>10</td>\n",
       "      <td>None</td>\n",
       "      <td>None</td>\n",
       "      <td>None</td>\n",
       "      <td>None</td>\n",
       "      <td>None</td>\n",
       "    </tr>\n",
       "  </tbody>\n",
       "</table>\n",
       "</div>"
      ],
      "text/plain": [
       "                tweet_id  in_reply_to_status_id  in_reply_to_user_id  \\\n",
       "2351  666049248165822465                    NaN                  NaN   \n",
       "2352  666044226329800704                    NaN                  NaN   \n",
       "2353  666033412701032449                    NaN                  NaN   \n",
       "2354  666029285002620928                    NaN                  NaN   \n",
       "2355  666020888022790149                    NaN                  NaN   \n",
       "\n",
       "                      timestamp  \\\n",
       "2351  2015-11-16 00:24:50 +0000   \n",
       "2352  2015-11-16 00:04:52 +0000   \n",
       "2353  2015-11-15 23:21:54 +0000   \n",
       "2354  2015-11-15 23:05:30 +0000   \n",
       "2355  2015-11-15 22:32:08 +0000   \n",
       "\n",
       "                                                                                  source  \\\n",
       "2351  <a href=\"http://twitter.com/download/iphone\" rel=\"nofollow\">Twitter for iPhone</a>   \n",
       "2352  <a href=\"http://twitter.com/download/iphone\" rel=\"nofollow\">Twitter for iPhone</a>   \n",
       "2353  <a href=\"http://twitter.com/download/iphone\" rel=\"nofollow\">Twitter for iPhone</a>   \n",
       "2354  <a href=\"http://twitter.com/download/iphone\" rel=\"nofollow\">Twitter for iPhone</a>   \n",
       "2355  <a href=\"http://twitter.com/download/iphone\" rel=\"nofollow\">Twitter for iPhone</a>   \n",
       "\n",
       "                                                                                                                                             text  \\\n",
       "2351                     Here we have a 1949 1st generation vulpix. Enjoys sweat tea and Fox News. Cannot be phased. 5/10 https://t.co/4B7cOc1EDq   \n",
       "2352    This is a purebred Piers Morgan. Loves to Netflix and chill. Always looks like he forgot to unplug the iron. 6/10 https://t.co/DWnyCjf2mx   \n",
       "2353           Here is a very happy pup. Big fan of well-maintained decks. Just look at that tongue. 9/10 would cuddle af https://t.co/y671yMhoiR   \n",
       "2354  This is a western brown Mitsubishi terrier. Upset about leaf. Actually 2 dogs here. 7/10 would walk the shit out of https://t.co/r7mOb2m0UI   \n",
       "2355          Here we have a Japanese Irish Setter. Lost eye in Vietnam (?). Big fan of relaxing on stair. 8/10 would pet https://t.co/BLDqew2Ijj   \n",
       "\n",
       "      retweeted_status_id  retweeted_status_user_id  \\\n",
       "2351                  NaN                       NaN   \n",
       "2352                  NaN                       NaN   \n",
       "2353                  NaN                       NaN   \n",
       "2354                  NaN                       NaN   \n",
       "2355                  NaN                       NaN   \n",
       "\n",
       "     retweeted_status_timestamp  \\\n",
       "2351                        NaN   \n",
       "2352                        NaN   \n",
       "2353                        NaN   \n",
       "2354                        NaN   \n",
       "2355                        NaN   \n",
       "\n",
       "                                                        expanded_urls  \\\n",
       "2351  https://twitter.com/dog_rates/status/666049248165822465/photo/1   \n",
       "2352  https://twitter.com/dog_rates/status/666044226329800704/photo/1   \n",
       "2353  https://twitter.com/dog_rates/status/666033412701032449/photo/1   \n",
       "2354  https://twitter.com/dog_rates/status/666029285002620928/photo/1   \n",
       "2355  https://twitter.com/dog_rates/status/666020888022790149/photo/1   \n",
       "\n",
       "      rating_numerator  rating_denominator  name doggo floofer pupper puppo  \n",
       "2351                 5                  10  None  None    None   None  None  \n",
       "2352                 6                  10     a  None    None   None  None  \n",
       "2353                 9                  10     a  None    None   None  None  \n",
       "2354                 7                  10     a  None    None   None  None  \n",
       "2355                 8                  10  None  None    None   None  None  "
      ]
     },
     "execution_count": 85,
     "metadata": {},
     "output_type": "execute_result"
    }
   ],
   "source": [
    "twitter_archive_df.tail()"
   ]
  },
  {
   "cell_type": "code",
   "execution_count": 86,
   "id": "cdb8a4cf",
   "metadata": {},
   "outputs": [
    {
     "data": {
      "text/html": [
       "<div>\n",
       "<style scoped>\n",
       "    .dataframe tbody tr th:only-of-type {\n",
       "        vertical-align: middle;\n",
       "    }\n",
       "\n",
       "    .dataframe tbody tr th {\n",
       "        vertical-align: top;\n",
       "    }\n",
       "\n",
       "    .dataframe thead th {\n",
       "        text-align: right;\n",
       "    }\n",
       "</style>\n",
       "<table border=\"1\" class=\"dataframe\">\n",
       "  <thead>\n",
       "    <tr style=\"text-align: right;\">\n",
       "      <th></th>\n",
       "      <th>tweet_id</th>\n",
       "      <th>in_reply_to_status_id</th>\n",
       "      <th>in_reply_to_user_id</th>\n",
       "      <th>timestamp</th>\n",
       "      <th>source</th>\n",
       "      <th>text</th>\n",
       "      <th>retweeted_status_id</th>\n",
       "      <th>retweeted_status_user_id</th>\n",
       "      <th>retweeted_status_timestamp</th>\n",
       "      <th>expanded_urls</th>\n",
       "      <th>rating_numerator</th>\n",
       "      <th>rating_denominator</th>\n",
       "      <th>name</th>\n",
       "      <th>doggo</th>\n",
       "      <th>floofer</th>\n",
       "      <th>pupper</th>\n",
       "      <th>puppo</th>\n",
       "    </tr>\n",
       "  </thead>\n",
       "  <tbody>\n",
       "    <tr>\n",
       "      <th>1914</th>\n",
       "      <td>674330906434379776</td>\n",
       "      <td>6.658147e+17</td>\n",
       "      <td>16374678.0</td>\n",
       "      <td>2015-12-08 20:53:11 +0000</td>\n",
       "      <td>&lt;a href=\"http://twitter.com/download/iphone\" rel=\"nofollow\"&gt;Twitter for iPhone&lt;/a&gt;</td>\n",
       "      <td>13/10\\n@ABC7</td>\n",
       "      <td>NaN</td>\n",
       "      <td>NaN</td>\n",
       "      <td>NaN</td>\n",
       "      <td>NaN</td>\n",
       "      <td>13</td>\n",
       "      <td>10</td>\n",
       "      <td>None</td>\n",
       "      <td>None</td>\n",
       "      <td>None</td>\n",
       "      <td>None</td>\n",
       "      <td>None</td>\n",
       "    </tr>\n",
       "  </tbody>\n",
       "</table>\n",
       "</div>"
      ],
      "text/plain": [
       "                tweet_id  in_reply_to_status_id  in_reply_to_user_id  \\\n",
       "1914  674330906434379776           6.658147e+17           16374678.0   \n",
       "\n",
       "                      timestamp  \\\n",
       "1914  2015-12-08 20:53:11 +0000   \n",
       "\n",
       "                                                                                  source  \\\n",
       "1914  <a href=\"http://twitter.com/download/iphone\" rel=\"nofollow\">Twitter for iPhone</a>   \n",
       "\n",
       "              text  retweeted_status_id  retweeted_status_user_id  \\\n",
       "1914  13/10\\n@ABC7                  NaN                       NaN   \n",
       "\n",
       "     retweeted_status_timestamp expanded_urls  rating_numerator  \\\n",
       "1914                        NaN           NaN                13   \n",
       "\n",
       "      rating_denominator  name doggo floofer pupper puppo  \n",
       "1914                  10  None  None    None   None  None  "
      ]
     },
     "execution_count": 86,
     "metadata": {},
     "output_type": "execute_result"
    }
   ],
   "source": [
    "twitter_archive_df.sample()"
   ]
  },
  {
   "cell_type": "markdown",
   "id": "355e5d61",
   "metadata": {},
   "source": [
    "> #### QUICK NOTE\n",
    "#### QUALITY\n",
    "- As picked out in the visual assessment,name column has values with single letter 'a'\n",
    "- There are values of None in the name column"
   ]
  },
  {
   "cell_type": "markdown",
   "id": "4494137c",
   "metadata": {},
   "source": [
    ">Let us further investigate the name column beginning with the value counts"
   ]
  },
  {
   "cell_type": "code",
   "execution_count": 87,
   "id": "62d1ad4e",
   "metadata": {},
   "outputs": [
    {
     "data": {
      "text/plain": [
       "None       745\n",
       "a           55\n",
       "Charlie     12\n",
       "Cooper      11\n",
       "Lucy        11\n",
       "Oliver      11\n",
       "Lola        10\n",
       "Tucker      10\n",
       "Penny       10\n",
       "Winston      9\n",
       "Bo           9\n",
       "Sadie        8\n",
       "the          8\n",
       "Buddy        7\n",
       "an           7\n",
       "Toby         7\n",
       "Daisy        7\n",
       "Bailey       7\n",
       "Scout        6\n",
       "Jack         6\n",
       "Jax          6\n",
       "Bella        6\n",
       "Dave         6\n",
       "Koda         6\n",
       "Milo         6\n",
       "Oscar        6\n",
       "Leo          6\n",
       "Rusty        6\n",
       "Stanley      6\n",
       "Finn         5\n",
       "Name: name, dtype: int64"
      ]
     },
     "execution_count": 87,
     "metadata": {},
     "output_type": "execute_result"
    }
   ],
   "source": [
    "twitter_archive_df['name'].value_counts().head(30)"
   ]
  },
  {
   "cell_type": "markdown",
   "id": "4e71d513",
   "metadata": {},
   "source": [
    "> Firstly, I notice there are other suspicious dog name names besides 'a' which are 'an' and 'the'.\n",
    ">\n",
    "> Secondly,it looks like every other dog name starts with a block letter except our suspects!\n",
    ">\n",
    ">Let us then check for all other dog names that begin with a small letter"
   ]
  },
  {
   "cell_type": "code",
   "execution_count": 89,
   "id": "a5c038a8",
   "metadata": {},
   "outputs": [
    {
     "data": {
      "text/plain": [
       "a               55\n",
       "the              8\n",
       "an               7\n",
       "very             5\n",
       "quite            4\n",
       "just             4\n",
       "one              4\n",
       "mad              2\n",
       "getting          2\n",
       "actually         2\n",
       "not              2\n",
       "his              1\n",
       "infuriating      1\n",
       "this             1\n",
       "unacceptable     1\n",
       "space            1\n",
       "life             1\n",
       "by               1\n",
       "incredibly       1\n",
       "such             1\n",
       "light            1\n",
       "all              1\n",
       "my               1\n",
       "officially       1\n",
       "old              1\n",
       "Name: name, dtype: int64"
      ]
     },
     "execution_count": 89,
     "metadata": {},
     "output_type": "execute_result"
    }
   ],
   "source": [
    "twitter_archive_df.where(twitter_archive_df['name'].str.islower())['name'].value_counts()"
   ]
  },
  {
   "cell_type": "markdown",
   "id": "5a765e9e",
   "metadata": {},
   "source": [
    "All these names do not look like valid names.Let us just check their total"
   ]
  },
  {
   "cell_type": "code",
   "execution_count": 91,
   "id": "a47bbce3",
   "metadata": {},
   "outputs": [
    {
     "data": {
      "text/plain": [
       "109"
      ]
     },
     "execution_count": 91,
     "metadata": {},
     "output_type": "execute_result"
    }
   ],
   "source": [
    "sum(twitter_archive_df.where(twitter_archive_df['name'].str.islower())['name'].value_counts())"
   ]
  },
  {
   "cell_type": "markdown",
   "id": "b3460e94",
   "metadata": {},
   "source": [
    "> #### QUICK NOTE\n",
    "#### QUALITY\n",
    "- There are 109 invalid names "
   ]
  },
  {
   "cell_type": "code",
   "execution_count": 92,
   "id": "3d4eaf99",
   "metadata": {},
   "outputs": [
    {
     "data": {
      "text/html": [
       "<div>\n",
       "<style scoped>\n",
       "    .dataframe tbody tr th:only-of-type {\n",
       "        vertical-align: middle;\n",
       "    }\n",
       "\n",
       "    .dataframe tbody tr th {\n",
       "        vertical-align: top;\n",
       "    }\n",
       "\n",
       "    .dataframe thead th {\n",
       "        text-align: right;\n",
       "    }\n",
       "</style>\n",
       "<table border=\"1\" class=\"dataframe\">\n",
       "  <thead>\n",
       "    <tr style=\"text-align: right;\">\n",
       "      <th></th>\n",
       "      <th>rating_numerator</th>\n",
       "      <th>rating_denominator</th>\n",
       "    </tr>\n",
       "  </thead>\n",
       "  <tbody>\n",
       "    <tr>\n",
       "      <th>count</th>\n",
       "      <td>2356.000000</td>\n",
       "      <td>2356.000000</td>\n",
       "    </tr>\n",
       "    <tr>\n",
       "      <th>mean</th>\n",
       "      <td>13.126486</td>\n",
       "      <td>10.455433</td>\n",
       "    </tr>\n",
       "    <tr>\n",
       "      <th>std</th>\n",
       "      <td>45.876648</td>\n",
       "      <td>6.745237</td>\n",
       "    </tr>\n",
       "    <tr>\n",
       "      <th>min</th>\n",
       "      <td>0.000000</td>\n",
       "      <td>0.000000</td>\n",
       "    </tr>\n",
       "    <tr>\n",
       "      <th>25%</th>\n",
       "      <td>10.000000</td>\n",
       "      <td>10.000000</td>\n",
       "    </tr>\n",
       "    <tr>\n",
       "      <th>50%</th>\n",
       "      <td>11.000000</td>\n",
       "      <td>10.000000</td>\n",
       "    </tr>\n",
       "    <tr>\n",
       "      <th>75%</th>\n",
       "      <td>12.000000</td>\n",
       "      <td>10.000000</td>\n",
       "    </tr>\n",
       "    <tr>\n",
       "      <th>max</th>\n",
       "      <td>1776.000000</td>\n",
       "      <td>170.000000</td>\n",
       "    </tr>\n",
       "  </tbody>\n",
       "</table>\n",
       "</div>"
      ],
      "text/plain": [
       "       rating_numerator  rating_denominator\n",
       "count       2356.000000         2356.000000\n",
       "mean          13.126486           10.455433\n",
       "std           45.876648            6.745237\n",
       "min            0.000000            0.000000\n",
       "25%           10.000000           10.000000\n",
       "50%           11.000000           10.000000\n",
       "75%           12.000000           10.000000\n",
       "max         1776.000000          170.000000"
      ]
     },
     "execution_count": 92,
     "metadata": {},
     "output_type": "execute_result"
    }
   ],
   "source": [
    "twitter_archive_df[['rating_numerator','rating_denominator']].describe()"
   ]
  },
  {
   "cell_type": "markdown",
   "id": "62f7cebf",
   "metadata": {},
   "source": [
    "> #### QUICK NOTE\n",
    "#### QUALITY\n",
    "- the minimum value for both rating numerator and rating denominator is 0\n",
    "- the maximum for rating_numerator is 1776 while the maximum for rating_denominator is 170.They look suspiciously too big,there is need for further investigation here."
   ]
  },
  {
   "cell_type": "markdown",
   "id": "2235d2a5",
   "metadata": {},
   "source": [
    " **rating_denominator further assessment**"
   ]
  },
  {
   "cell_type": "code",
   "execution_count": 95,
   "id": "3f69d963",
   "metadata": {},
   "outputs": [
    {
     "data": {
      "text/html": [
       "<div>\n",
       "<style scoped>\n",
       "    .dataframe tbody tr th:only-of-type {\n",
       "        vertical-align: middle;\n",
       "    }\n",
       "\n",
       "    .dataframe tbody tr th {\n",
       "        vertical-align: top;\n",
       "    }\n",
       "\n",
       "    .dataframe thead th {\n",
       "        text-align: right;\n",
       "    }\n",
       "</style>\n",
       "<table border=\"1\" class=\"dataframe\">\n",
       "  <thead>\n",
       "    <tr style=\"text-align: right;\">\n",
       "      <th></th>\n",
       "      <th>text</th>\n",
       "      <th>tweet_id</th>\n",
       "      <th>rating_numerator</th>\n",
       "      <th>rating_denominator</th>\n",
       "    </tr>\n",
       "  </thead>\n",
       "  <tbody>\n",
       "    <tr>\n",
       "      <th>1120</th>\n",
       "      <td>Say hello to this unbelievably well behaved squad of doggos. 204/170 would try to pet all at once https://t.co/yGQI3He3xv</td>\n",
       "      <td>731156023742988288</td>\n",
       "      <td>204</td>\n",
       "      <td>170</td>\n",
       "    </tr>\n",
       "  </tbody>\n",
       "</table>\n",
       "</div>"
      ],
      "text/plain": [
       "                                                                                                                           text  \\\n",
       "1120  Say hello to this unbelievably well behaved squad of doggos. 204/170 would try to pet all at once https://t.co/yGQI3He3xv   \n",
       "\n",
       "                tweet_id  rating_numerator  rating_denominator  \n",
       "1120  731156023742988288               204                 170  "
      ]
     },
     "execution_count": 95,
     "metadata": {},
     "output_type": "execute_result"
    }
   ],
   "source": [
    "twitter_archive_df.loc[twitter_archive_df['rating_denominator']==170][['text','tweet_id','rating_numerator','rating_denominator']]"
   ]
  },
  {
   "cell_type": "markdown",
   "id": "a087d73c",
   "metadata": {},
   "source": [
    "It looks like there are **multiple**  doggos in this particular row with a rating_denominator of 170.Lets check for the value count to assess the rating_denominator values in the dataset."
   ]
  },
  {
   "cell_type": "code",
   "execution_count": 96,
   "id": "316ca3e2",
   "metadata": {},
   "outputs": [
    {
     "data": {
      "text/plain": [
       "10     2333\n",
       "11        3\n",
       "50        3\n",
       "20        2\n",
       "80        2\n",
       "0         1\n",
       "120       1\n",
       "7         1\n",
       "170       1\n",
       "150       1\n",
       "130       1\n",
       "90        1\n",
       "110       1\n",
       "2         1\n",
       "70        1\n",
       "40        1\n",
       "16        1\n",
       "15        1\n",
       "Name: rating_denominator, dtype: int64"
      ]
     },
     "execution_count": 96,
     "metadata": {},
     "output_type": "execute_result"
    }
   ],
   "source": [
    "twitter_archive_df['rating_denominator'].value_counts()"
   ]
  },
  {
   "cell_type": "markdown",
   "id": "b8d58730",
   "metadata": {},
   "source": [
    "The overwhelming rating_denominator is 10.So lets check out all original tweets with a rating_denominator over 10 in order to assess if they are legit"
   ]
  },
  {
   "cell_type": "code",
   "execution_count": 97,
   "id": "09cb4173",
   "metadata": {},
   "outputs": [
    {
     "data": {
      "text/html": [
       "<div>\n",
       "<style scoped>\n",
       "    .dataframe tbody tr th:only-of-type {\n",
       "        vertical-align: middle;\n",
       "    }\n",
       "\n",
       "    .dataframe tbody tr th {\n",
       "        vertical-align: top;\n",
       "    }\n",
       "\n",
       "    .dataframe thead th {\n",
       "        text-align: right;\n",
       "    }\n",
       "</style>\n",
       "<table border=\"1\" class=\"dataframe\">\n",
       "  <thead>\n",
       "    <tr style=\"text-align: right;\">\n",
       "      <th></th>\n",
       "      <th>text</th>\n",
       "      <th>tweet_id</th>\n",
       "      <th>rating_numerator</th>\n",
       "      <th>rating_denominator</th>\n",
       "    </tr>\n",
       "  </thead>\n",
       "  <tbody>\n",
       "    <tr>\n",
       "      <th>433</th>\n",
       "      <td>The floofs have been released I repeat the floofs have been released. 84/70 https://t.co/NIYC820tmd</td>\n",
       "      <td>820690176645140481</td>\n",
       "      <td>84</td>\n",
       "      <td>70</td>\n",
       "    </tr>\n",
       "    <tr>\n",
       "      <th>902</th>\n",
       "      <td>Why does this never happen at my front door... 165/150 https://t.co/HmwrdfEfUE</td>\n",
       "      <td>758467244762497024</td>\n",
       "      <td>165</td>\n",
       "      <td>150</td>\n",
       "    </tr>\n",
       "    <tr>\n",
       "      <th>1068</th>\n",
       "      <td>After so many requests, this is Bretagne. She was the last surviving 9/11 search dog, and our second ever 14/10. RIP https://t.co/XAVDNDaVgQ</td>\n",
       "      <td>740373189193256964</td>\n",
       "      <td>9</td>\n",
       "      <td>11</td>\n",
       "    </tr>\n",
       "    <tr>\n",
       "      <th>1120</th>\n",
       "      <td>Say hello to this unbelievably well behaved squad of doggos. 204/170 would try to pet all at once https://t.co/yGQI3He3xv</td>\n",
       "      <td>731156023742988288</td>\n",
       "      <td>204</td>\n",
       "      <td>170</td>\n",
       "    </tr>\n",
       "    <tr>\n",
       "      <th>1165</th>\n",
       "      <td>Happy 4/20 from the squad! 13/10 for all https://t.co/eV1diwds8a</td>\n",
       "      <td>722974582966214656</td>\n",
       "      <td>4</td>\n",
       "      <td>20</td>\n",
       "    </tr>\n",
       "    <tr>\n",
       "      <th>1202</th>\n",
       "      <td>This is Bluebert. He just saw that both #FinalFur match ups are split 50/50. Amazed af. 11/10 https://t.co/Kky1DPG4iq</td>\n",
       "      <td>716439118184652801</td>\n",
       "      <td>50</td>\n",
       "      <td>50</td>\n",
       "    </tr>\n",
       "    <tr>\n",
       "      <th>1228</th>\n",
       "      <td>Happy Saturday here's 9 puppers on a bench. 99/90 good work everybody https://t.co/mpvaVxKmc1</td>\n",
       "      <td>713900603437621249</td>\n",
       "      <td>99</td>\n",
       "      <td>90</td>\n",
       "    </tr>\n",
       "    <tr>\n",
       "      <th>1254</th>\n",
       "      <td>Here's a brigade of puppers. All look very prepared for whatever happens next. 80/80 https://t.co/0eb7R1Om12</td>\n",
       "      <td>710658690886586372</td>\n",
       "      <td>80</td>\n",
       "      <td>80</td>\n",
       "    </tr>\n",
       "    <tr>\n",
       "      <th>1274</th>\n",
       "      <td>From left to right:\\nCletus, Jerome, Alejandro, Burp, &amp;amp; Titson\\nNone know where camera is. 45/50 would hug all at once https://t.co/sedre1ivTK</td>\n",
       "      <td>709198395643068416</td>\n",
       "      <td>45</td>\n",
       "      <td>50</td>\n",
       "    </tr>\n",
       "    <tr>\n",
       "      <th>1351</th>\n",
       "      <td>Here is a whole flock of puppers.  60/50 I'll take the lot https://t.co/9dpcw6MdWa</td>\n",
       "      <td>704054845121142784</td>\n",
       "      <td>60</td>\n",
       "      <td>50</td>\n",
       "    </tr>\n",
       "    <tr>\n",
       "      <th>1433</th>\n",
       "      <td>Happy Wednesday here's a bucket of pups. 44/40 would pet all at once https://t.co/HppvrYuamZ</td>\n",
       "      <td>697463031882764288</td>\n",
       "      <td>44</td>\n",
       "      <td>40</td>\n",
       "    </tr>\n",
       "    <tr>\n",
       "      <th>1635</th>\n",
       "      <td>Someone help the girl is being mugged. Several are distracting her while two steal her shoes. Clever puppers 121/110 https://t.co/1zfnTJLt55</td>\n",
       "      <td>684222868335505415</td>\n",
       "      <td>121</td>\n",
       "      <td>110</td>\n",
       "    </tr>\n",
       "    <tr>\n",
       "      <th>1662</th>\n",
       "      <td>This is Darrel. He just robbed a 7/11 and is in a high speed police chase. Was just spotted by the helicopter 10/10 https://t.co/7EsP8LmSp5</td>\n",
       "      <td>682962037429899265</td>\n",
       "      <td>7</td>\n",
       "      <td>11</td>\n",
       "    </tr>\n",
       "    <tr>\n",
       "      <th>1779</th>\n",
       "      <td>IT'S PUPPERGEDDON. Total of 144/120 ...I think https://t.co/ZanVtAtvIq</td>\n",
       "      <td>677716515794329600</td>\n",
       "      <td>144</td>\n",
       "      <td>120</td>\n",
       "    </tr>\n",
       "    <tr>\n",
       "      <th>1843</th>\n",
       "      <td>Here we have an entire platoon of puppers. Total score: 88/80 would pet all at once https://t.co/y93p6FLvVw</td>\n",
       "      <td>675853064436391936</td>\n",
       "      <td>88</td>\n",
       "      <td>80</td>\n",
       "    </tr>\n",
       "  </tbody>\n",
       "</table>\n",
       "</div>"
      ],
      "text/plain": [
       "                                                                                                                                                    text  \\\n",
       "433                                                  The floofs have been released I repeat the floofs have been released. 84/70 https://t.co/NIYC820tmd   \n",
       "902                                                                       Why does this never happen at my front door... 165/150 https://t.co/HmwrdfEfUE   \n",
       "1068        After so many requests, this is Bretagne. She was the last surviving 9/11 search dog, and our second ever 14/10. RIP https://t.co/XAVDNDaVgQ   \n",
       "1120                           Say hello to this unbelievably well behaved squad of doggos. 204/170 would try to pet all at once https://t.co/yGQI3He3xv   \n",
       "1165                                                                                    Happy 4/20 from the squad! 13/10 for all https://t.co/eV1diwds8a   \n",
       "1202                               This is Bluebert. He just saw that both #FinalFur match ups are split 50/50. Amazed af. 11/10 https://t.co/Kky1DPG4iq   \n",
       "1228                                                       Happy Saturday here's 9 puppers on a bench. 99/90 good work everybody https://t.co/mpvaVxKmc1   \n",
       "1254                                        Here's a brigade of puppers. All look very prepared for whatever happens next. 80/80 https://t.co/0eb7R1Om12   \n",
       "1274  From left to right:\\nCletus, Jerome, Alejandro, Burp, &amp; Titson\\nNone know where camera is. 45/50 would hug all at once https://t.co/sedre1ivTK   \n",
       "1351                                                                  Here is a whole flock of puppers.  60/50 I'll take the lot https://t.co/9dpcw6MdWa   \n",
       "1433                                                        Happy Wednesday here's a bucket of pups. 44/40 would pet all at once https://t.co/HppvrYuamZ   \n",
       "1635        Someone help the girl is being mugged. Several are distracting her while two steal her shoes. Clever puppers 121/110 https://t.co/1zfnTJLt55   \n",
       "1662         This is Darrel. He just robbed a 7/11 and is in a high speed police chase. Was just spotted by the helicopter 10/10 https://t.co/7EsP8LmSp5   \n",
       "1779                                                                              IT'S PUPPERGEDDON. Total of 144/120 ...I think https://t.co/ZanVtAtvIq   \n",
       "1843                                         Here we have an entire platoon of puppers. Total score: 88/80 would pet all at once https://t.co/y93p6FLvVw   \n",
       "\n",
       "                tweet_id  rating_numerator  rating_denominator  \n",
       "433   820690176645140481                84                  70  \n",
       "902   758467244762497024               165                 150  \n",
       "1068  740373189193256964                 9                  11  \n",
       "1120  731156023742988288               204                 170  \n",
       "1165  722974582966214656                 4                  20  \n",
       "1202  716439118184652801                50                  50  \n",
       "1228  713900603437621249                99                  90  \n",
       "1254  710658690886586372                80                  80  \n",
       "1274  709198395643068416                45                  50  \n",
       "1351  704054845121142784                60                  50  \n",
       "1433  697463031882764288                44                  40  \n",
       "1635  684222868335505415               121                 110  \n",
       "1662  682962037429899265                 7                  11  \n",
       "1779  677716515794329600               144                 120  \n",
       "1843  675853064436391936                88                  80  "
      ]
     },
     "execution_count": 97,
     "metadata": {},
     "output_type": "execute_result"
    }
   ],
   "source": [
    "twitter_archive_df.loc[(twitter_archive_df['rating_denominator'] >10) & (twitter_archive_df['in_reply_to_status_id'].isna()) & (twitter_archive_df['retweeted_status_id'].isna())][['text','tweet_id','rating_numerator','rating_denominator']]"
   ]
  },
  {
   "cell_type": "markdown",
   "id": "252942ff",
   "metadata": {},
   "source": [
    "Lets further investigate rating_denominator of 0"
   ]
  },
  {
   "cell_type": "code",
   "execution_count": 98,
   "id": "1108dbce",
   "metadata": {},
   "outputs": [
    {
     "data": {
      "text/html": [
       "<div>\n",
       "<style scoped>\n",
       "    .dataframe tbody tr th:only-of-type {\n",
       "        vertical-align: middle;\n",
       "    }\n",
       "\n",
       "    .dataframe tbody tr th {\n",
       "        vertical-align: top;\n",
       "    }\n",
       "\n",
       "    .dataframe thead th {\n",
       "        text-align: right;\n",
       "    }\n",
       "</style>\n",
       "<table border=\"1\" class=\"dataframe\">\n",
       "  <thead>\n",
       "    <tr style=\"text-align: right;\">\n",
       "      <th></th>\n",
       "      <th>text</th>\n",
       "      <th>tweet_id</th>\n",
       "      <th>rating_numerator</th>\n",
       "      <th>rating_denominator</th>\n",
       "    </tr>\n",
       "  </thead>\n",
       "  <tbody>\n",
       "  </tbody>\n",
       "</table>\n",
       "</div>"
      ],
      "text/plain": [
       "Empty DataFrame\n",
       "Columns: [text, tweet_id, rating_numerator, rating_denominator]\n",
       "Index: []"
      ]
     },
     "execution_count": 98,
     "metadata": {},
     "output_type": "execute_result"
    }
   ],
   "source": [
    "twitter_archive_df.loc[(twitter_archive_df['rating_denominator'] ==0) & (twitter_archive_df['in_reply_to_status_id'].isna()) & (twitter_archive_df['retweeted_status_id'].isna())][['text','tweet_id','rating_numerator','rating_denominator']]"
   ]
  },
  {
   "cell_type": "markdown",
   "id": "10eefa35",
   "metadata": {},
   "source": [
    "It appears the entry with a rating_denominator of 0 is either a reply or retweet"
   ]
  },
  {
   "cell_type": "markdown",
   "id": "22cac1ac",
   "metadata": {},
   "source": [
    "> #### QUICK NOTE\n",
    "#### QUALITY\n",
    "- There are 12 rows with multiple dogs in one picture \n",
    "- inaccurate entries for following tweet ids:\n",
    " \n",
    "  |Tweet ID               |Incorrect rating                       |Correct rating|\n",
    "  |-----------------------|---------------------------------------|--------------|\n",
    "  |740373189193256964     |9/11                                   |14/10         |\n",
    "  |716439118184652801     |50/50                                  |11/10         |\n",
    "  |682962037429899265     |7/11                                   |10/10         |\n",
    "   "
   ]
  },
  {
   "cell_type": "markdown",
   "id": "49af3d4d",
   "metadata": {},
   "source": [
    "**rating numerator further assessment**"
   ]
  },
  {
   "cell_type": "code",
   "execution_count": 99,
   "id": "835d5379",
   "metadata": {},
   "outputs": [
    {
     "data": {
      "text/html": [
       "<div>\n",
       "<style scoped>\n",
       "    .dataframe tbody tr th:only-of-type {\n",
       "        vertical-align: middle;\n",
       "    }\n",
       "\n",
       "    .dataframe tbody tr th {\n",
       "        vertical-align: top;\n",
       "    }\n",
       "\n",
       "    .dataframe thead th {\n",
       "        text-align: right;\n",
       "    }\n",
       "</style>\n",
       "<table border=\"1\" class=\"dataframe\">\n",
       "  <thead>\n",
       "    <tr style=\"text-align: right;\">\n",
       "      <th></th>\n",
       "      <th>text</th>\n",
       "      <th>tweet_id</th>\n",
       "      <th>rating_numerator</th>\n",
       "      <th>rating_denominator</th>\n",
       "    </tr>\n",
       "  </thead>\n",
       "  <tbody>\n",
       "    <tr>\n",
       "      <th>979</th>\n",
       "      <td>This is Atticus. He's quite simply America af. 1776/10 https://t.co/GRXwMxLBkh</td>\n",
       "      <td>749981277374128128</td>\n",
       "      <td>1776</td>\n",
       "      <td>10</td>\n",
       "    </tr>\n",
       "  </tbody>\n",
       "</table>\n",
       "</div>"
      ],
      "text/plain": [
       "                                                                               text  \\\n",
       "979  This is Atticus. He's quite simply America af. 1776/10 https://t.co/GRXwMxLBkh   \n",
       "\n",
       "               tweet_id  rating_numerator  rating_denominator  \n",
       "979  749981277374128128              1776                  10  "
      ]
     },
     "execution_count": 99,
     "metadata": {},
     "output_type": "execute_result"
    }
   ],
   "source": [
    "twitter_archive_df.loc[twitter_archive_df['rating_numerator']==1776][['text','tweet_id','rating_numerator','rating_denominator']]"
   ]
  },
  {
   "cell_type": "markdown",
   "id": "25c68a2e",
   "metadata": {},
   "source": [
    "This looks quite legit.Lets use value_counts to assess the other ratings_numerator values in the dataset"
   ]
  },
  {
   "cell_type": "code",
   "execution_count": 100,
   "id": "940c9466",
   "metadata": {},
   "outputs": [
    {
     "data": {
      "text/plain": [
       "12      558\n",
       "11      464\n",
       "10      461\n",
       "13      351\n",
       "9       158\n",
       "8       102\n",
       "7        55\n",
       "14       54\n",
       "5        37\n",
       "6        32\n",
       "3        19\n",
       "4        17\n",
       "1         9\n",
       "2         9\n",
       "0         2\n",
       "15        2\n",
       "75        2\n",
       "420       2\n",
       "182       1\n",
       "204       1\n",
       "143       1\n",
       "121       1\n",
       "99        1\n",
       "20        1\n",
       "45        1\n",
       "27        1\n",
       "17        1\n",
       "24        1\n",
       "26        1\n",
       "44        1\n",
       "50        1\n",
       "60        1\n",
       "80        1\n",
       "84        1\n",
       "88        1\n",
       "1776      1\n",
       "960       1\n",
       "666       1\n",
       "144       1\n",
       "165       1\n",
       "Name: rating_numerator, dtype: int64"
      ]
     },
     "execution_count": 100,
     "metadata": {},
     "output_type": "execute_result"
    }
   ],
   "source": [
    "twitter_archive_df['rating_numerator'].value_counts()"
   ]
  },
  {
   "cell_type": "markdown",
   "id": "81db7d8d",
   "metadata": {},
   "source": [
    "It looks like the majority of tweets have a numerator_rating of 14 and below.Let us check out all the tweets that have numerator_ratings above 14 and rating denominator of 10 to find out if indeed they are legit."
   ]
  },
  {
   "cell_type": "code",
   "execution_count": 101,
   "id": "284624f9",
   "metadata": {},
   "outputs": [
    {
     "data": {
      "text/html": [
       "<div>\n",
       "<style scoped>\n",
       "    .dataframe tbody tr th:only-of-type {\n",
       "        vertical-align: middle;\n",
       "    }\n",
       "\n",
       "    .dataframe tbody tr th {\n",
       "        vertical-align: top;\n",
       "    }\n",
       "\n",
       "    .dataframe thead th {\n",
       "        text-align: right;\n",
       "    }\n",
       "</style>\n",
       "<table border=\"1\" class=\"dataframe\">\n",
       "  <thead>\n",
       "    <tr style=\"text-align: right;\">\n",
       "      <th></th>\n",
       "      <th>text</th>\n",
       "      <th>tweet_id</th>\n",
       "      <th>rating_numerator</th>\n",
       "      <th>rating_denominator</th>\n",
       "    </tr>\n",
       "  </thead>\n",
       "  <tbody>\n",
       "    <tr>\n",
       "      <th>695</th>\n",
       "      <td>This is Logan, the Chow who lived. He solemnly swears he's up to lots of good. H*ckin magical af 9.75/10 https://t.co/yBO5wuqaPS</td>\n",
       "      <td>786709082849828864</td>\n",
       "      <td>75</td>\n",
       "      <td>10</td>\n",
       "    </tr>\n",
       "    <tr>\n",
       "      <th>763</th>\n",
       "      <td>This is Sophie. She's a Jubilant Bush Pupper. Super h*ckin rare. Appears at random just to smile at the locals. 11.27/10 would smile back https://t.co/QFaUiIHxHq</td>\n",
       "      <td>778027034220126208</td>\n",
       "      <td>27</td>\n",
       "      <td>10</td>\n",
       "    </tr>\n",
       "    <tr>\n",
       "      <th>979</th>\n",
       "      <td>This is Atticus. He's quite simply America af. 1776/10 https://t.co/GRXwMxLBkh</td>\n",
       "      <td>749981277374128128</td>\n",
       "      <td>1776</td>\n",
       "      <td>10</td>\n",
       "    </tr>\n",
       "    <tr>\n",
       "      <th>1712</th>\n",
       "      <td>Here we have uncovered an entire battalion of holiday puppers. Average of 11.26/10 https://t.co/eNm2S6p9BD</td>\n",
       "      <td>680494726643068929</td>\n",
       "      <td>26</td>\n",
       "      <td>10</td>\n",
       "    </tr>\n",
       "    <tr>\n",
       "      <th>2074</th>\n",
       "      <td>After so many requests... here you go.\\n\\nGood dogg. 420/10 https://t.co/yfAAo1gdeY</td>\n",
       "      <td>670842764863651840</td>\n",
       "      <td>420</td>\n",
       "      <td>10</td>\n",
       "    </tr>\n",
       "  </tbody>\n",
       "</table>\n",
       "</div>"
      ],
      "text/plain": [
       "                                                                                                                                                                   text  \\\n",
       "695                                    This is Logan, the Chow who lived. He solemnly swears he's up to lots of good. H*ckin magical af 9.75/10 https://t.co/yBO5wuqaPS   \n",
       "763   This is Sophie. She's a Jubilant Bush Pupper. Super h*ckin rare. Appears at random just to smile at the locals. 11.27/10 would smile back https://t.co/QFaUiIHxHq   \n",
       "979                                                                                      This is Atticus. He's quite simply America af. 1776/10 https://t.co/GRXwMxLBkh   \n",
       "1712                                                         Here we have uncovered an entire battalion of holiday puppers. Average of 11.26/10 https://t.co/eNm2S6p9BD   \n",
       "2074                                                                                After so many requests... here you go.\\n\\nGood dogg. 420/10 https://t.co/yfAAo1gdeY   \n",
       "\n",
       "                tweet_id  rating_numerator  rating_denominator  \n",
       "695   786709082849828864                75                  10  \n",
       "763   778027034220126208                27                  10  \n",
       "979   749981277374128128              1776                  10  \n",
       "1712  680494726643068929                26                  10  \n",
       "2074  670842764863651840               420                  10  "
      ]
     },
     "execution_count": 101,
     "metadata": {},
     "output_type": "execute_result"
    }
   ],
   "source": [
    "twitter_archive_df.loc[(twitter_archive_df['rating_numerator'] >14) & (twitter_archive_df['rating_denominator'] ==10) & (twitter_archive_df['in_reply_to_status_id'].isna()) & (twitter_archive_df['retweeted_status_id'].isna())][['text','tweet_id','rating_numerator','rating_denominator']]"
   ]
  },
  {
   "cell_type": "markdown",
   "id": "6ae1a6d1",
   "metadata": {},
   "source": [
    "#### QUICK NOTE\n",
    "> **QUALITY**\n",
    "- There are three rows with inaccurate ratings that contain decimal point values\n",
    "|tweet_id          |rating   |\n",
    "|------------------|---------|\n",
    "|786709082849828864|9.75/10  |\n",
    "|778027034220126208|11.27/10 |\n",
    "|680494726643068929|11.26/10 |\n",
    "\n",
    "- While the two tweets with rating numerator of 1776 (tweet_id:749981277374128128) and 420 (tweet_id :670842764863651840) seem accurate,they are outliers as every other tweet has a rating of 14 and below"
   ]
  },
  {
   "cell_type": "code",
   "execution_count": 102,
   "id": "bed8a612",
   "metadata": {},
   "outputs": [
    {
     "data": {
      "text/html": [
       "<div>\n",
       "<style scoped>\n",
       "    .dataframe tbody tr th:only-of-type {\n",
       "        vertical-align: middle;\n",
       "    }\n",
       "\n",
       "    .dataframe tbody tr th {\n",
       "        vertical-align: top;\n",
       "    }\n",
       "\n",
       "    .dataframe thead th {\n",
       "        text-align: right;\n",
       "    }\n",
       "</style>\n",
       "<table border=\"1\" class=\"dataframe\">\n",
       "  <thead>\n",
       "    <tr style=\"text-align: right;\">\n",
       "      <th></th>\n",
       "      <th>text</th>\n",
       "      <th>tweet_id</th>\n",
       "      <th>rating_numerator</th>\n",
       "      <th>rating_denominator</th>\n",
       "    </tr>\n",
       "  </thead>\n",
       "  <tbody>\n",
       "    <tr>\n",
       "      <th>315</th>\n",
       "      <td>When you're so blinded by your systematic plagiarism that you forget what day it is. 0/10 https://t.co/YbEJPkg4Ag</td>\n",
       "      <td>835152434251116546</td>\n",
       "      <td>0</td>\n",
       "      <td>10</td>\n",
       "    </tr>\n",
       "  </tbody>\n",
       "</table>\n",
       "</div>"
      ],
      "text/plain": [
       "                                                                                                                  text  \\\n",
       "315  When you're so blinded by your systematic plagiarism that you forget what day it is. 0/10 https://t.co/YbEJPkg4Ag   \n",
       "\n",
       "               tweet_id  rating_numerator  rating_denominator  \n",
       "315  835152434251116546                 0                  10  "
      ]
     },
     "execution_count": 102,
     "metadata": {},
     "output_type": "execute_result"
    }
   ],
   "source": [
    "twitter_archive_df.loc[(twitter_archive_df['rating_numerator'] ==0) & (twitter_archive_df['in_reply_to_status_id'].isna()) & (twitter_archive_df['retweeted_status_id'].isna())][['text','tweet_id','rating_numerator','rating_denominator']]"
   ]
  },
  {
   "cell_type": "markdown",
   "id": "4332e072",
   "metadata": {},
   "source": [
    "rating_numerator of 0 is correct indeed"
   ]
  },
  {
   "cell_type": "markdown",
   "id": "db678991",
   "metadata": {},
   "source": [
    "### PREDICTIONS FILE"
   ]
  },
  {
   "cell_type": "markdown",
   "id": "9e4ebdd8",
   "metadata": {},
   "source": [
    "#### VISUAL ASSESSMENT"
   ]
  },
  {
   "cell_type": "code",
   "execution_count": 103,
   "id": "68428c06",
   "metadata": {},
   "outputs": [
    {
     "data": {
      "text/html": [
       "<div>\n",
       "<style scoped>\n",
       "    .dataframe tbody tr th:only-of-type {\n",
       "        vertical-align: middle;\n",
       "    }\n",
       "\n",
       "    .dataframe tbody tr th {\n",
       "        vertical-align: top;\n",
       "    }\n",
       "\n",
       "    .dataframe thead th {\n",
       "        text-align: right;\n",
       "    }\n",
       "</style>\n",
       "<table border=\"1\" class=\"dataframe\">\n",
       "  <thead>\n",
       "    <tr style=\"text-align: right;\">\n",
       "      <th></th>\n",
       "      <th>tweet_id</th>\n",
       "      <th>jpg_url</th>\n",
       "      <th>img_num</th>\n",
       "      <th>p1</th>\n",
       "      <th>p1_conf</th>\n",
       "      <th>p1_dog</th>\n",
       "      <th>p2</th>\n",
       "      <th>p2_conf</th>\n",
       "      <th>p2_dog</th>\n",
       "      <th>p3</th>\n",
       "      <th>p3_conf</th>\n",
       "      <th>p3_dog</th>\n",
       "    </tr>\n",
       "  </thead>\n",
       "  <tbody>\n",
       "    <tr>\n",
       "      <th>0</th>\n",
       "      <td>666020888022790149</td>\n",
       "      <td>https://pbs.twimg.com/media/CT4udn0WwAA0aMy.jpg</td>\n",
       "      <td>1</td>\n",
       "      <td>Welsh_springer_spaniel</td>\n",
       "      <td>0.465074</td>\n",
       "      <td>True</td>\n",
       "      <td>collie</td>\n",
       "      <td>0.156665</td>\n",
       "      <td>True</td>\n",
       "      <td>Shetland_sheepdog</td>\n",
       "      <td>0.061428</td>\n",
       "      <td>True</td>\n",
       "    </tr>\n",
       "    <tr>\n",
       "      <th>1</th>\n",
       "      <td>666029285002620928</td>\n",
       "      <td>https://pbs.twimg.com/media/CT42GRgUYAA5iDo.jpg</td>\n",
       "      <td>1</td>\n",
       "      <td>redbone</td>\n",
       "      <td>0.506826</td>\n",
       "      <td>True</td>\n",
       "      <td>miniature_pinscher</td>\n",
       "      <td>0.074192</td>\n",
       "      <td>True</td>\n",
       "      <td>Rhodesian_ridgeback</td>\n",
       "      <td>0.072010</td>\n",
       "      <td>True</td>\n",
       "    </tr>\n",
       "    <tr>\n",
       "      <th>2</th>\n",
       "      <td>666033412701032449</td>\n",
       "      <td>https://pbs.twimg.com/media/CT4521TWwAEvMyu.jpg</td>\n",
       "      <td>1</td>\n",
       "      <td>German_shepherd</td>\n",
       "      <td>0.596461</td>\n",
       "      <td>True</td>\n",
       "      <td>malinois</td>\n",
       "      <td>0.138584</td>\n",
       "      <td>True</td>\n",
       "      <td>bloodhound</td>\n",
       "      <td>0.116197</td>\n",
       "      <td>True</td>\n",
       "    </tr>\n",
       "    <tr>\n",
       "      <th>3</th>\n",
       "      <td>666044226329800704</td>\n",
       "      <td>https://pbs.twimg.com/media/CT5Dr8HUEAA-lEu.jpg</td>\n",
       "      <td>1</td>\n",
       "      <td>Rhodesian_ridgeback</td>\n",
       "      <td>0.408143</td>\n",
       "      <td>True</td>\n",
       "      <td>redbone</td>\n",
       "      <td>0.360687</td>\n",
       "      <td>True</td>\n",
       "      <td>miniature_pinscher</td>\n",
       "      <td>0.222752</td>\n",
       "      <td>True</td>\n",
       "    </tr>\n",
       "    <tr>\n",
       "      <th>4</th>\n",
       "      <td>666049248165822465</td>\n",
       "      <td>https://pbs.twimg.com/media/CT5IQmsXIAAKY4A.jpg</td>\n",
       "      <td>1</td>\n",
       "      <td>miniature_pinscher</td>\n",
       "      <td>0.560311</td>\n",
       "      <td>True</td>\n",
       "      <td>Rottweiler</td>\n",
       "      <td>0.243682</td>\n",
       "      <td>True</td>\n",
       "      <td>Doberman</td>\n",
       "      <td>0.154629</td>\n",
       "      <td>True</td>\n",
       "    </tr>\n",
       "    <tr>\n",
       "      <th>...</th>\n",
       "      <td>...</td>\n",
       "      <td>...</td>\n",
       "      <td>...</td>\n",
       "      <td>...</td>\n",
       "      <td>...</td>\n",
       "      <td>...</td>\n",
       "      <td>...</td>\n",
       "      <td>...</td>\n",
       "      <td>...</td>\n",
       "      <td>...</td>\n",
       "      <td>...</td>\n",
       "      <td>...</td>\n",
       "    </tr>\n",
       "    <tr>\n",
       "      <th>2070</th>\n",
       "      <td>891327558926688256</td>\n",
       "      <td>https://pbs.twimg.com/media/DF6hr6BUMAAzZgT.jpg</td>\n",
       "      <td>2</td>\n",
       "      <td>basset</td>\n",
       "      <td>0.555712</td>\n",
       "      <td>True</td>\n",
       "      <td>English_springer</td>\n",
       "      <td>0.225770</td>\n",
       "      <td>True</td>\n",
       "      <td>German_short-haired_pointer</td>\n",
       "      <td>0.175219</td>\n",
       "      <td>True</td>\n",
       "    </tr>\n",
       "    <tr>\n",
       "      <th>2071</th>\n",
       "      <td>891689557279858688</td>\n",
       "      <td>https://pbs.twimg.com/media/DF_q7IAWsAEuuN8.jpg</td>\n",
       "      <td>1</td>\n",
       "      <td>paper_towel</td>\n",
       "      <td>0.170278</td>\n",
       "      <td>False</td>\n",
       "      <td>Labrador_retriever</td>\n",
       "      <td>0.168086</td>\n",
       "      <td>True</td>\n",
       "      <td>spatula</td>\n",
       "      <td>0.040836</td>\n",
       "      <td>False</td>\n",
       "    </tr>\n",
       "    <tr>\n",
       "      <th>2072</th>\n",
       "      <td>891815181378084864</td>\n",
       "      <td>https://pbs.twimg.com/media/DGBdLU1WsAANxJ9.jpg</td>\n",
       "      <td>1</td>\n",
       "      <td>Chihuahua</td>\n",
       "      <td>0.716012</td>\n",
       "      <td>True</td>\n",
       "      <td>malamute</td>\n",
       "      <td>0.078253</td>\n",
       "      <td>True</td>\n",
       "      <td>kelpie</td>\n",
       "      <td>0.031379</td>\n",
       "      <td>True</td>\n",
       "    </tr>\n",
       "    <tr>\n",
       "      <th>2073</th>\n",
       "      <td>892177421306343426</td>\n",
       "      <td>https://pbs.twimg.com/media/DGGmoV4XsAAUL6n.jpg</td>\n",
       "      <td>1</td>\n",
       "      <td>Chihuahua</td>\n",
       "      <td>0.323581</td>\n",
       "      <td>True</td>\n",
       "      <td>Pekinese</td>\n",
       "      <td>0.090647</td>\n",
       "      <td>True</td>\n",
       "      <td>papillon</td>\n",
       "      <td>0.068957</td>\n",
       "      <td>True</td>\n",
       "    </tr>\n",
       "    <tr>\n",
       "      <th>2074</th>\n",
       "      <td>892420643555336193</td>\n",
       "      <td>https://pbs.twimg.com/media/DGKD1-bXoAAIAUK.jpg</td>\n",
       "      <td>1</td>\n",
       "      <td>orange</td>\n",
       "      <td>0.097049</td>\n",
       "      <td>False</td>\n",
       "      <td>bagel</td>\n",
       "      <td>0.085851</td>\n",
       "      <td>False</td>\n",
       "      <td>banana</td>\n",
       "      <td>0.076110</td>\n",
       "      <td>False</td>\n",
       "    </tr>\n",
       "  </tbody>\n",
       "</table>\n",
       "<p>2075 rows × 12 columns</p>\n",
       "</div>"
      ],
      "text/plain": [
       "                tweet_id                                          jpg_url  \\\n",
       "0     666020888022790149  https://pbs.twimg.com/media/CT4udn0WwAA0aMy.jpg   \n",
       "1     666029285002620928  https://pbs.twimg.com/media/CT42GRgUYAA5iDo.jpg   \n",
       "2     666033412701032449  https://pbs.twimg.com/media/CT4521TWwAEvMyu.jpg   \n",
       "3     666044226329800704  https://pbs.twimg.com/media/CT5Dr8HUEAA-lEu.jpg   \n",
       "4     666049248165822465  https://pbs.twimg.com/media/CT5IQmsXIAAKY4A.jpg   \n",
       "...                  ...                                              ...   \n",
       "2070  891327558926688256  https://pbs.twimg.com/media/DF6hr6BUMAAzZgT.jpg   \n",
       "2071  891689557279858688  https://pbs.twimg.com/media/DF_q7IAWsAEuuN8.jpg   \n",
       "2072  891815181378084864  https://pbs.twimg.com/media/DGBdLU1WsAANxJ9.jpg   \n",
       "2073  892177421306343426  https://pbs.twimg.com/media/DGGmoV4XsAAUL6n.jpg   \n",
       "2074  892420643555336193  https://pbs.twimg.com/media/DGKD1-bXoAAIAUK.jpg   \n",
       "\n",
       "      img_num                      p1   p1_conf  p1_dog                  p2  \\\n",
       "0           1  Welsh_springer_spaniel  0.465074    True              collie   \n",
       "1           1                 redbone  0.506826    True  miniature_pinscher   \n",
       "2           1         German_shepherd  0.596461    True            malinois   \n",
       "3           1     Rhodesian_ridgeback  0.408143    True             redbone   \n",
       "4           1      miniature_pinscher  0.560311    True          Rottweiler   \n",
       "...       ...                     ...       ...     ...                 ...   \n",
       "2070        2                  basset  0.555712    True    English_springer   \n",
       "2071        1             paper_towel  0.170278   False  Labrador_retriever   \n",
       "2072        1               Chihuahua  0.716012    True            malamute   \n",
       "2073        1               Chihuahua  0.323581    True            Pekinese   \n",
       "2074        1                  orange  0.097049   False               bagel   \n",
       "\n",
       "       p2_conf  p2_dog                           p3   p3_conf  p3_dog  \n",
       "0     0.156665    True            Shetland_sheepdog  0.061428    True  \n",
       "1     0.074192    True          Rhodesian_ridgeback  0.072010    True  \n",
       "2     0.138584    True                   bloodhound  0.116197    True  \n",
       "3     0.360687    True           miniature_pinscher  0.222752    True  \n",
       "4     0.243682    True                     Doberman  0.154629    True  \n",
       "...        ...     ...                          ...       ...     ...  \n",
       "2070  0.225770    True  German_short-haired_pointer  0.175219    True  \n",
       "2071  0.168086    True                      spatula  0.040836   False  \n",
       "2072  0.078253    True                       kelpie  0.031379    True  \n",
       "2073  0.090647    True                     papillon  0.068957    True  \n",
       "2074  0.085851   False                       banana  0.076110   False  \n",
       "\n",
       "[2075 rows x 12 columns]"
      ]
     },
     "execution_count": 103,
     "metadata": {},
     "output_type": "execute_result"
    }
   ],
   "source": [
    "predictions_df"
   ]
  },
  {
   "cell_type": "markdown",
   "id": "c9d6a891",
   "metadata": {},
   "source": [
    "Dataframe looks tidy and clean at first glance.Lets use programmatic assessment to get better insight."
   ]
  },
  {
   "cell_type": "markdown",
   "id": "e82eec6d",
   "metadata": {},
   "source": [
    "#### PROGRAMMATIC ASSESSMENT"
   ]
  },
  {
   "cell_type": "code",
   "execution_count": 104,
   "id": "1dbe354b",
   "metadata": {},
   "outputs": [
    {
     "name": "stdout",
     "output_type": "stream",
     "text": [
      "<class 'pandas.core.frame.DataFrame'>\n",
      "RangeIndex: 2075 entries, 0 to 2074\n",
      "Data columns (total 12 columns):\n",
      " #   Column    Non-Null Count  Dtype  \n",
      "---  ------    --------------  -----  \n",
      " 0   tweet_id  2075 non-null   int64  \n",
      " 1   jpg_url   2075 non-null   object \n",
      " 2   img_num   2075 non-null   int64  \n",
      " 3   p1        2075 non-null   object \n",
      " 4   p1_conf   2075 non-null   float64\n",
      " 5   p1_dog    2075 non-null   bool   \n",
      " 6   p2        2075 non-null   object \n",
      " 7   p2_conf   2075 non-null   float64\n",
      " 8   p2_dog    2075 non-null   bool   \n",
      " 9   p3        2075 non-null   object \n",
      " 10  p3_conf   2075 non-null   float64\n",
      " 11  p3_dog    2075 non-null   bool   \n",
      "dtypes: bool(3), float64(3), int64(2), object(4)\n",
      "memory usage: 152.1+ KB\n"
     ]
    }
   ],
   "source": [
    "predictions_df.info()"
   ]
  },
  {
   "cell_type": "code",
   "execution_count": 105,
   "id": "8b10dc9c",
   "metadata": {},
   "outputs": [
    {
     "data": {
      "text/plain": [
       "0"
      ]
     },
     "execution_count": 105,
     "metadata": {},
     "output_type": "execute_result"
    }
   ],
   "source": [
    "#check for duplicates\n",
    "sum(predictions_df.duplicated())"
   ]
  },
  {
   "cell_type": "markdown",
   "id": "22ed2ae4",
   "metadata": {},
   "source": [
    "Let us check if the number of rows in this predictions file is the same number as the rows in the twitter archive file"
   ]
  },
  {
   "cell_type": "code",
   "execution_count": 106,
   "id": "02c1ac1b",
   "metadata": {},
   "outputs": [
    {
     "data": {
      "text/plain": [
       "-281"
      ]
     },
     "execution_count": 106,
     "metadata": {},
     "output_type": "execute_result"
    }
   ],
   "source": [
    "len(predictions_df)-len(twitter_archive_df)"
   ]
  },
  {
   "cell_type": "markdown",
   "id": "7fb305aa",
   "metadata": {},
   "source": [
    "-281 means that there are 281 more rows in the twitter-archive file than the predictions file"
   ]
  },
  {
   "cell_type": "markdown",
   "id": "4bf3ba15",
   "metadata": {},
   "source": [
    "#### QUICK NOTE\n",
    "> **QUALITY**\n",
    "- There are 281 more rows in the twitter archive file than in the predictions file so these will classified as missing data"
   ]
  },
  {
   "cell_type": "markdown",
   "id": "064c0b66",
   "metadata": {},
   "source": [
    "We know that image numbers must be between 1-4 while confidence scores should be between 0 and 1.Let us check if that is true in our dataset"
   ]
  },
  {
   "cell_type": "code",
   "execution_count": 107,
   "id": "9020b6f6",
   "metadata": {},
   "outputs": [
    {
     "data": {
      "text/html": [
       "<div>\n",
       "<style scoped>\n",
       "    .dataframe tbody tr th:only-of-type {\n",
       "        vertical-align: middle;\n",
       "    }\n",
       "\n",
       "    .dataframe tbody tr th {\n",
       "        vertical-align: top;\n",
       "    }\n",
       "\n",
       "    .dataframe thead th {\n",
       "        text-align: right;\n",
       "    }\n",
       "</style>\n",
       "<table border=\"1\" class=\"dataframe\">\n",
       "  <thead>\n",
       "    <tr style=\"text-align: right;\">\n",
       "      <th></th>\n",
       "      <th>img_num</th>\n",
       "      <th>p1_conf</th>\n",
       "      <th>p2_conf</th>\n",
       "      <th>p3_conf</th>\n",
       "    </tr>\n",
       "  </thead>\n",
       "  <tbody>\n",
       "    <tr>\n",
       "      <th>count</th>\n",
       "      <td>2075.000000</td>\n",
       "      <td>2075.000000</td>\n",
       "      <td>2.075000e+03</td>\n",
       "      <td>2.075000e+03</td>\n",
       "    </tr>\n",
       "    <tr>\n",
       "      <th>mean</th>\n",
       "      <td>1.203855</td>\n",
       "      <td>0.594548</td>\n",
       "      <td>1.345886e-01</td>\n",
       "      <td>6.032417e-02</td>\n",
       "    </tr>\n",
       "    <tr>\n",
       "      <th>std</th>\n",
       "      <td>0.561875</td>\n",
       "      <td>0.271174</td>\n",
       "      <td>1.006657e-01</td>\n",
       "      <td>5.090593e-02</td>\n",
       "    </tr>\n",
       "    <tr>\n",
       "      <th>min</th>\n",
       "      <td>1.000000</td>\n",
       "      <td>0.044333</td>\n",
       "      <td>1.011300e-08</td>\n",
       "      <td>1.740170e-10</td>\n",
       "    </tr>\n",
       "    <tr>\n",
       "      <th>25%</th>\n",
       "      <td>1.000000</td>\n",
       "      <td>0.364412</td>\n",
       "      <td>5.388625e-02</td>\n",
       "      <td>1.622240e-02</td>\n",
       "    </tr>\n",
       "    <tr>\n",
       "      <th>50%</th>\n",
       "      <td>1.000000</td>\n",
       "      <td>0.588230</td>\n",
       "      <td>1.181810e-01</td>\n",
       "      <td>4.944380e-02</td>\n",
       "    </tr>\n",
       "    <tr>\n",
       "      <th>75%</th>\n",
       "      <td>1.000000</td>\n",
       "      <td>0.843855</td>\n",
       "      <td>1.955655e-01</td>\n",
       "      <td>9.180755e-02</td>\n",
       "    </tr>\n",
       "    <tr>\n",
       "      <th>max</th>\n",
       "      <td>4.000000</td>\n",
       "      <td>1.000000</td>\n",
       "      <td>4.880140e-01</td>\n",
       "      <td>2.734190e-01</td>\n",
       "    </tr>\n",
       "  </tbody>\n",
       "</table>\n",
       "</div>"
      ],
      "text/plain": [
       "           img_num      p1_conf       p2_conf       p3_conf\n",
       "count  2075.000000  2075.000000  2.075000e+03  2.075000e+03\n",
       "mean      1.203855     0.594548  1.345886e-01  6.032417e-02\n",
       "std       0.561875     0.271174  1.006657e-01  5.090593e-02\n",
       "min       1.000000     0.044333  1.011300e-08  1.740170e-10\n",
       "25%       1.000000     0.364412  5.388625e-02  1.622240e-02\n",
       "50%       1.000000     0.588230  1.181810e-01  4.944380e-02\n",
       "75%       1.000000     0.843855  1.955655e-01  9.180755e-02\n",
       "max       4.000000     1.000000  4.880140e-01  2.734190e-01"
      ]
     },
     "execution_count": 107,
     "metadata": {},
     "output_type": "execute_result"
    }
   ],
   "source": [
    "predictions_df[['img_num','p1_conf','p2_conf','p3_conf']].describe()"
   ]
  },
  {
   "cell_type": "markdown",
   "id": "5beb9e0d",
   "metadata": {},
   "source": [
    "For image number,the minimun is 1 and the maximum is 4 so that is accurate.For confidence scores, the range is between 0 and 1 so that is accurate as well."
   ]
  },
  {
   "cell_type": "code",
   "execution_count": 108,
   "id": "73b84936",
   "metadata": {},
   "outputs": [
    {
     "data": {
      "text/plain": [
       "True     1532\n",
       "False     543\n",
       "Name: p1_dog, dtype: int64"
      ]
     },
     "execution_count": 108,
     "metadata": {},
     "output_type": "execute_result"
    }
   ],
   "source": [
    "predictions_df['p1_dog'].value_counts()"
   ]
  },
  {
   "cell_type": "markdown",
   "id": "cb69c2d0",
   "metadata": {},
   "source": [
    "#### QUICK NOTE\n",
    "> **QUALITY**\n",
    "- There are 543 predictions that do not predict dog breeds\n"
   ]
  },
  {
   "cell_type": "markdown",
   "id": "67fd8cfb",
   "metadata": {},
   "source": [
    "### JSON FILE"
   ]
  },
  {
   "cell_type": "markdown",
   "id": "6691bdba",
   "metadata": {},
   "source": [
    "#### VISUAL ASSESSMENT"
   ]
  },
  {
   "cell_type": "code",
   "execution_count": 109,
   "id": "41b43096",
   "metadata": {},
   "outputs": [
    {
     "data": {
      "text/html": [
       "<div>\n",
       "<style scoped>\n",
       "    .dataframe tbody tr th:only-of-type {\n",
       "        vertical-align: middle;\n",
       "    }\n",
       "\n",
       "    .dataframe tbody tr th {\n",
       "        vertical-align: top;\n",
       "    }\n",
       "\n",
       "    .dataframe thead th {\n",
       "        text-align: right;\n",
       "    }\n",
       "</style>\n",
       "<table border=\"1\" class=\"dataframe\">\n",
       "  <thead>\n",
       "    <tr style=\"text-align: right;\">\n",
       "      <th></th>\n",
       "      <th>tweet_id</th>\n",
       "      <th>favorite_count</th>\n",
       "      <th>retweet_count</th>\n",
       "      <th>created_at</th>\n",
       "      <th>source</th>\n",
       "      <th>retweeted_status</th>\n",
       "    </tr>\n",
       "  </thead>\n",
       "  <tbody>\n",
       "    <tr>\n",
       "      <th>0</th>\n",
       "      <td>892420643555336193</td>\n",
       "      <td>33852</td>\n",
       "      <td>7019</td>\n",
       "      <td>Tue Aug 01 16:23:56 +0000 2017</td>\n",
       "      <td>Twitter for iPhone</td>\n",
       "      <td>Original tweet</td>\n",
       "    </tr>\n",
       "    <tr>\n",
       "      <th>1</th>\n",
       "      <td>892177421306343426</td>\n",
       "      <td>29359</td>\n",
       "      <td>5303</td>\n",
       "      <td>Tue Aug 01 00:17:27 +0000 2017</td>\n",
       "      <td>Twitter for iPhone</td>\n",
       "      <td>Original tweet</td>\n",
       "    </tr>\n",
       "    <tr>\n",
       "      <th>2</th>\n",
       "      <td>891815181378084864</td>\n",
       "      <td>22079</td>\n",
       "      <td>3486</td>\n",
       "      <td>Mon Jul 31 00:18:03 +0000 2017</td>\n",
       "      <td>Twitter for iPhone</td>\n",
       "      <td>Original tweet</td>\n",
       "    </tr>\n",
       "    <tr>\n",
       "      <th>3</th>\n",
       "      <td>891689557279858688</td>\n",
       "      <td>36973</td>\n",
       "      <td>7232</td>\n",
       "      <td>Sun Jul 30 15:58:51 +0000 2017</td>\n",
       "      <td>Twitter for iPhone</td>\n",
       "      <td>Original tweet</td>\n",
       "    </tr>\n",
       "    <tr>\n",
       "      <th>4</th>\n",
       "      <td>891327558926688256</td>\n",
       "      <td>35347</td>\n",
       "      <td>7773</td>\n",
       "      <td>Sat Jul 29 16:00:24 +0000 2017</td>\n",
       "      <td>Twitter for iPhone</td>\n",
       "      <td>Original tweet</td>\n",
       "    </tr>\n",
       "    <tr>\n",
       "      <th>...</th>\n",
       "      <td>...</td>\n",
       "      <td>...</td>\n",
       "      <td>...</td>\n",
       "      <td>...</td>\n",
       "      <td>...</td>\n",
       "      <td>...</td>\n",
       "    </tr>\n",
       "    <tr>\n",
       "      <th>2319</th>\n",
       "      <td>666049248165822465</td>\n",
       "      <td>89</td>\n",
       "      <td>37</td>\n",
       "      <td>Mon Nov 16 00:24:50 +0000 2015</td>\n",
       "      <td>Twitter for iPhone</td>\n",
       "      <td>Original tweet</td>\n",
       "    </tr>\n",
       "    <tr>\n",
       "      <th>2320</th>\n",
       "      <td>666044226329800704</td>\n",
       "      <td>246</td>\n",
       "      <td>115</td>\n",
       "      <td>Mon Nov 16 00:04:52 +0000 2015</td>\n",
       "      <td>Twitter for iPhone</td>\n",
       "      <td>Original tweet</td>\n",
       "    </tr>\n",
       "    <tr>\n",
       "      <th>2321</th>\n",
       "      <td>666033412701032449</td>\n",
       "      <td>99</td>\n",
       "      <td>36</td>\n",
       "      <td>Sun Nov 15 23:21:54 +0000 2015</td>\n",
       "      <td>Twitter for iPhone</td>\n",
       "      <td>Original tweet</td>\n",
       "    </tr>\n",
       "    <tr>\n",
       "      <th>2322</th>\n",
       "      <td>666029285002620928</td>\n",
       "      <td>112</td>\n",
       "      <td>39</td>\n",
       "      <td>Sun Nov 15 23:05:30 +0000 2015</td>\n",
       "      <td>Twitter for iPhone</td>\n",
       "      <td>Original tweet</td>\n",
       "    </tr>\n",
       "    <tr>\n",
       "      <th>2323</th>\n",
       "      <td>666020888022790149</td>\n",
       "      <td>2293</td>\n",
       "      <td>423</td>\n",
       "      <td>Sun Nov 15 22:32:08 +0000 2015</td>\n",
       "      <td>Twitter for iPhone</td>\n",
       "      <td>Original tweet</td>\n",
       "    </tr>\n",
       "  </tbody>\n",
       "</table>\n",
       "<p>2324 rows × 6 columns</p>\n",
       "</div>"
      ],
      "text/plain": [
       "                tweet_id  favorite_count  retweet_count  \\\n",
       "0     892420643555336193           33852           7019   \n",
       "1     892177421306343426           29359           5303   \n",
       "2     891815181378084864           22079           3486   \n",
       "3     891689557279858688           36973           7232   \n",
       "4     891327558926688256           35347           7773   \n",
       "...                  ...             ...            ...   \n",
       "2319  666049248165822465              89             37   \n",
       "2320  666044226329800704             246            115   \n",
       "2321  666033412701032449              99             36   \n",
       "2322  666029285002620928             112             39   \n",
       "2323  666020888022790149            2293            423   \n",
       "\n",
       "                          created_at              source retweeted_status  \n",
       "0     Tue Aug 01 16:23:56 +0000 2017  Twitter for iPhone   Original tweet  \n",
       "1     Tue Aug 01 00:17:27 +0000 2017  Twitter for iPhone   Original tweet  \n",
       "2     Mon Jul 31 00:18:03 +0000 2017  Twitter for iPhone   Original tweet  \n",
       "3     Sun Jul 30 15:58:51 +0000 2017  Twitter for iPhone   Original tweet  \n",
       "4     Sat Jul 29 16:00:24 +0000 2017  Twitter for iPhone   Original tweet  \n",
       "...                              ...                 ...              ...  \n",
       "2319  Mon Nov 16 00:24:50 +0000 2015  Twitter for iPhone   Original tweet  \n",
       "2320  Mon Nov 16 00:04:52 +0000 2015  Twitter for iPhone   Original tweet  \n",
       "2321  Sun Nov 15 23:21:54 +0000 2015  Twitter for iPhone   Original tweet  \n",
       "2322  Sun Nov 15 23:05:30 +0000 2015  Twitter for iPhone   Original tweet  \n",
       "2323  Sun Nov 15 22:32:08 +0000 2015  Twitter for iPhone   Original tweet  \n",
       "\n",
       "[2324 rows x 6 columns]"
      ]
     },
     "execution_count": 109,
     "metadata": {},
     "output_type": "execute_result"
    }
   ],
   "source": [
    "fetched_tweets_df"
   ]
  },
  {
   "cell_type": "markdown",
   "id": "cc9d5434",
   "metadata": {},
   "source": [
    "#### PROGRAMMATICAL ASSESSMENT"
   ]
  },
  {
   "cell_type": "code",
   "execution_count": 111,
   "id": "d56d6189",
   "metadata": {},
   "outputs": [
    {
     "name": "stdout",
     "output_type": "stream",
     "text": [
      "<class 'pandas.core.frame.DataFrame'>\n",
      "RangeIndex: 2324 entries, 0 to 2323\n",
      "Data columns (total 6 columns):\n",
      " #   Column            Non-Null Count  Dtype \n",
      "---  ------            --------------  ----- \n",
      " 0   tweet_id          2324 non-null   int64 \n",
      " 1   favorite_count    2324 non-null   int64 \n",
      " 2   retweet_count     2324 non-null   int64 \n",
      " 3   created_at        2324 non-null   object\n",
      " 4   source            2324 non-null   object\n",
      " 5   retweeted_status  2324 non-null   object\n",
      "dtypes: int64(3), object(3)\n",
      "memory usage: 109.1+ KB\n"
     ]
    }
   ],
   "source": [
    "fetched_tweets_df.info()"
   ]
  },
  {
   "cell_type": "code",
   "execution_count": 114,
   "id": "5b44a6af",
   "metadata": {},
   "outputs": [
    {
     "data": {
      "text/plain": [
       "-32"
      ]
     },
     "execution_count": 114,
     "metadata": {},
     "output_type": "execute_result"
    }
   ],
   "source": [
    "#check if twitter archive file and json file are of the same length\n",
    "len(fetched_tweets_df)-len(twitter_archive_df)"
   ]
  },
  {
   "cell_type": "markdown",
   "id": "750ce40f",
   "metadata": {},
   "source": [
    "#### QUICK NOTE\n",
    "> **QUALITY**\n",
    "- there are 32 missing rows in the json file.These can be attributed to the 32 errors we found while fetching tweets using the API\n",
    "- created_at column is in string format"
   ]
  },
  {
   "cell_type": "code",
   "execution_count": 115,
   "id": "43638927",
   "metadata": {},
   "outputs": [
    {
     "data": {
      "text/html": [
       "<div>\n",
       "<style scoped>\n",
       "    .dataframe tbody tr th:only-of-type {\n",
       "        vertical-align: middle;\n",
       "    }\n",
       "\n",
       "    .dataframe tbody tr th {\n",
       "        vertical-align: top;\n",
       "    }\n",
       "\n",
       "    .dataframe thead th {\n",
       "        text-align: right;\n",
       "    }\n",
       "</style>\n",
       "<table border=\"1\" class=\"dataframe\">\n",
       "  <thead>\n",
       "    <tr style=\"text-align: right;\">\n",
       "      <th></th>\n",
       "      <th>tweet_id</th>\n",
       "      <th>favorite_count</th>\n",
       "      <th>retweet_count</th>\n",
       "    </tr>\n",
       "  </thead>\n",
       "  <tbody>\n",
       "    <tr>\n",
       "      <th>count</th>\n",
       "      <td>2.324000e+03</td>\n",
       "      <td>2324.000000</td>\n",
       "      <td>2324.000000</td>\n",
       "    </tr>\n",
       "    <tr>\n",
       "      <th>mean</th>\n",
       "      <td>7.418824e+17</td>\n",
       "      <td>7069.579604</td>\n",
       "      <td>2477.353701</td>\n",
       "    </tr>\n",
       "    <tr>\n",
       "      <th>std</th>\n",
       "      <td>6.820654e+16</td>\n",
       "      <td>10977.677524</td>\n",
       "      <td>4192.164106</td>\n",
       "    </tr>\n",
       "    <tr>\n",
       "      <th>min</th>\n",
       "      <td>6.660209e+17</td>\n",
       "      <td>0.000000</td>\n",
       "      <td>1.000000</td>\n",
       "    </tr>\n",
       "    <tr>\n",
       "      <th>25%</th>\n",
       "      <td>6.783205e+17</td>\n",
       "      <td>1230.000000</td>\n",
       "      <td>497.750000</td>\n",
       "    </tr>\n",
       "    <tr>\n",
       "      <th>50%</th>\n",
       "      <td>7.182408e+17</td>\n",
       "      <td>3059.000000</td>\n",
       "      <td>1155.000000</td>\n",
       "    </tr>\n",
       "    <tr>\n",
       "      <th>75%</th>\n",
       "      <td>7.986673e+17</td>\n",
       "      <td>8633.750000</td>\n",
       "      <td>2867.000000</td>\n",
       "    </tr>\n",
       "    <tr>\n",
       "      <th>max</th>\n",
       "      <td>8.924206e+17</td>\n",
       "      <td>145042.000000</td>\n",
       "      <td>70842.000000</td>\n",
       "    </tr>\n",
       "  </tbody>\n",
       "</table>\n",
       "</div>"
      ],
      "text/plain": [
       "           tweet_id  favorite_count  retweet_count\n",
       "count  2.324000e+03     2324.000000    2324.000000\n",
       "mean   7.418824e+17     7069.579604    2477.353701\n",
       "std    6.820654e+16    10977.677524    4192.164106\n",
       "min    6.660209e+17        0.000000       1.000000\n",
       "25%    6.783205e+17     1230.000000     497.750000\n",
       "50%    7.182408e+17     3059.000000    1155.000000\n",
       "75%    7.986673e+17     8633.750000    2867.000000\n",
       "max    8.924206e+17   145042.000000   70842.000000"
      ]
     },
     "execution_count": 115,
     "metadata": {},
     "output_type": "execute_result"
    }
   ],
   "source": [
    "fetched_tweets_df.describe()"
   ]
  },
  {
   "cell_type": "markdown",
   "id": "cd94d8d7",
   "metadata": {},
   "source": [
    "Favourite count ranges from 0-145042 and Retweet_count ranges from 1-70842.There are no negative values or decimal values.These look legit."
   ]
  },
  {
   "cell_type": "code",
   "execution_count": 116,
   "id": "96203265",
   "metadata": {},
   "outputs": [
    {
     "data": {
      "text/plain": [
       "Twitter for iPhone     2190\n",
       "Vine - Make a Scene      91\n",
       "Twitter Web Client       33\n",
       "TweetDeck                10\n",
       "Name: source, dtype: int64"
      ]
     },
     "execution_count": 116,
     "metadata": {},
     "output_type": "execute_result"
    }
   ],
   "source": [
    "fetched_tweets_df['source'].value_counts()"
   ]
  },
  {
   "cell_type": "markdown",
   "id": "e4c4d299",
   "metadata": {},
   "source": [
    "<a id='report'></a>\n",
    "## ASSESSMENT REPORT"
   ]
  },
  {
   "cell_type": "markdown",
   "id": "cfb87fda",
   "metadata": {},
   "source": [
    "###  QUALITY\n",
    "\n",
    "1. There are 78 replies found in these columns: 'in_reply_to_status_id' and 'in_reply_to_user_id'\n",
    "2. There are 181 retweets found in these columns: 'retweeted_status_id';'retweeted_status_user_id' and     'retweeted_status_timestamp'\n",
    "3. There are 59 missing values in the expanded_urls column \n",
    "4. There are 32 missing rows in the json file.These correspond to the 32 errors we found while fetching tweets using the API \n",
    "5. There are 109 invalid names\n",
    "6. There are three inaccurate entries in the ratings_denominator column\n",
    " |Tweet ID\t           |Incorrect rating\t|Correct rating|\n",
    " |---------------------|--------------------|--------------|\n",
    " |740373189193256964   |9/11\t            |14/10         |\n",
    " |716439118184652801   |50/50\t            |11/10         |\n",
    " |682962037429899265   |7/11\t            |10/10         |\n",
    "7. There are 12 rows with inaccurate ratings because they contain multiple dogs in one picture \n",
    "8. There are three rows with inaccurate ratings that contain decimal point values\n",
    "|tweet_id\t       |rating      |\n",
    "|------------------|------------|\n",
    "|786709082849828864|    9.75/10 |\n",
    "|778027034220126208|\t11.27/10|\n",
    "|680494726643068929|\t11.26/10|\n",
    "\n",
    "\n",
    "9. There are two outliers in the rating numerator column of archive file: 1776 (tweet_id:749981277374128128) and 420 (tweet_id :670842764863651840)\n",
    "10. Timestamp column is in string format\n",
    "11. There are 543 predictions that do not predict dog breeds in the predictions file\n",
    "12.  There are 281 missing rows in the image predictions file\n",
    "\n",
    "### TIDINESS\n",
    "\n",
    "1. The following columns [in_reply_to_status_id, in_reply_to_user_id] contain replies therefore not required\n",
    "2. The following columns [retweeted_status_id, retweeted_status_user_id, retweeted_status_timestamp] contain retweets therefore not required \n",
    "3. Since the only rating denominator is 10,that column is not necessary\n",
    "4. There are four columns for dog stages i.e. doggo,floofer,pupper,puppo in the twitter archive file \n",
    "5. Information required for analysis is stored in various columns from the 3 different gathered files so there is need to merge the relevant columns from these files into one dataset"
   ]
  },
  {
   "cell_type": "markdown",
   "id": "51cdc9bb",
   "metadata": {},
   "source": [
    "<a id='clean'></a>\n",
    "# CLEANING"
   ]
  },
  {
   "cell_type": "code",
   "execution_count": 165,
   "id": "19c316d1",
   "metadata": {},
   "outputs": [],
   "source": [
    "#make copies of datasets\n",
    "twitter_archive_clean=twitter_archive_df.copy()\n",
    "predictions_clean=predictions_df.copy()\n",
    "fetched_tweets_clean=fetched_tweets_df.copy()"
   ]
  },
  {
   "cell_type": "markdown",
   "id": "ca6177c0",
   "metadata": {},
   "source": [
    "### QUALITY ISSUE 1:\n",
    "There are 78 replies found in these columns: 'in_reply_to_status_id' and 'in_reply_to_user_id'\n"
   ]
  },
  {
   "cell_type": "markdown",
   "id": "bef7ee99",
   "metadata": {},
   "source": [
    "**DEFINE**\n",
    "- All rows containing non-null values in the in_reply_to_status_id and in_reply_to_user_id will be dropped because they contain replies"
   ]
  },
  {
   "cell_type": "markdown",
   "id": "4127f5cd",
   "metadata": {},
   "source": [
    "**CODE**"
   ]
  },
  {
   "cell_type": "code",
   "execution_count": 166,
   "id": "c93afc31",
   "metadata": {},
   "outputs": [],
   "source": [
    "#drop all non null values\n",
    "twitter_archive_clean=twitter_archive_clean[twitter_archive_clean['in_reply_to_status_id'].isnull()]"
   ]
  },
  {
   "cell_type": "markdown",
   "id": "b7bac0a4",
   "metadata": {},
   "source": [
    "**TEST**"
   ]
  },
  {
   "cell_type": "code",
   "execution_count": 167,
   "id": "f47219b8",
   "metadata": {},
   "outputs": [
    {
     "name": "stdout",
     "output_type": "stream",
     "text": [
      "<class 'pandas.core.frame.DataFrame'>\n",
      "Int64Index: 2278 entries, 0 to 2355\n",
      "Data columns (total 17 columns):\n",
      " #   Column                      Non-Null Count  Dtype  \n",
      "---  ------                      --------------  -----  \n",
      " 0   tweet_id                    2278 non-null   int64  \n",
      " 1   in_reply_to_status_id       0 non-null      float64\n",
      " 2   in_reply_to_user_id         0 non-null      float64\n",
      " 3   timestamp                   2278 non-null   object \n",
      " 4   source                      2278 non-null   object \n",
      " 5   text                        2278 non-null   object \n",
      " 6   retweeted_status_id         181 non-null    float64\n",
      " 7   retweeted_status_user_id    181 non-null    float64\n",
      " 8   retweeted_status_timestamp  181 non-null    object \n",
      " 9   expanded_urls               2274 non-null   object \n",
      " 10  rating_numerator            2278 non-null   int64  \n",
      " 11  rating_denominator          2278 non-null   int64  \n",
      " 12  name                        2278 non-null   object \n",
      " 13  doggo                       2278 non-null   object \n",
      " 14  floofer                     2278 non-null   object \n",
      " 15  pupper                      2278 non-null   object \n",
      " 16  puppo                       2278 non-null   object \n",
      "dtypes: float64(4), int64(3), object(10)\n",
      "memory usage: 320.3+ KB\n"
     ]
    }
   ],
   "source": [
    "twitter_archive_clean.info()"
   ]
  },
  {
   "cell_type": "markdown",
   "id": "7a817838",
   "metadata": {},
   "source": [
    "### QUALITY ISSUE 2:\n",
    "There are 181 retweets found in these columns: 'retweeted_status_id';'retweeted_status_user_id' and 'retweeted_status_timestamp"
   ]
  },
  {
   "cell_type": "markdown",
   "id": "8a36ffa3",
   "metadata": {},
   "source": [
    "**DEFINE**\n",
    "- All rows containing non-null values in the abovementioned columns will be dropped since they contain retweets"
   ]
  },
  {
   "cell_type": "markdown",
   "id": "0c21799c",
   "metadata": {},
   "source": [
    "**CODE**"
   ]
  },
  {
   "cell_type": "code",
   "execution_count": 168,
   "id": "de4adab4",
   "metadata": {},
   "outputs": [],
   "source": [
    "#remove all non null values in the retweeted_status_id column\n",
    "twitter_archive_clean=twitter_archive_clean[twitter_archive_clean['retweeted_status_id'].isnull()]"
   ]
  },
  {
   "cell_type": "markdown",
   "id": "4331b7cc",
   "metadata": {},
   "source": [
    "**TEST**"
   ]
  },
  {
   "cell_type": "code",
   "execution_count": 169,
   "id": "f5d95e91",
   "metadata": {},
   "outputs": [
    {
     "name": "stdout",
     "output_type": "stream",
     "text": [
      "<class 'pandas.core.frame.DataFrame'>\n",
      "Int64Index: 2097 entries, 0 to 2355\n",
      "Data columns (total 17 columns):\n",
      " #   Column                      Non-Null Count  Dtype  \n",
      "---  ------                      --------------  -----  \n",
      " 0   tweet_id                    2097 non-null   int64  \n",
      " 1   in_reply_to_status_id       0 non-null      float64\n",
      " 2   in_reply_to_user_id         0 non-null      float64\n",
      " 3   timestamp                   2097 non-null   object \n",
      " 4   source                      2097 non-null   object \n",
      " 5   text                        2097 non-null   object \n",
      " 6   retweeted_status_id         0 non-null      float64\n",
      " 7   retweeted_status_user_id    0 non-null      float64\n",
      " 8   retweeted_status_timestamp  0 non-null      object \n",
      " 9   expanded_urls               2094 non-null   object \n",
      " 10  rating_numerator            2097 non-null   int64  \n",
      " 11  rating_denominator          2097 non-null   int64  \n",
      " 12  name                        2097 non-null   object \n",
      " 13  doggo                       2097 non-null   object \n",
      " 14  floofer                     2097 non-null   object \n",
      " 15  pupper                      2097 non-null   object \n",
      " 16  puppo                       2097 non-null   object \n",
      "dtypes: float64(4), int64(3), object(10)\n",
      "memory usage: 294.9+ KB\n"
     ]
    }
   ],
   "source": [
    "twitter_archive_clean.info()"
   ]
  },
  {
   "cell_type": "markdown",
   "id": "7b31c8ff",
   "metadata": {},
   "source": [
    "### QUALITY ISSUE 3:\n",
    "There are 59 missing values in the expanded_urls column"
   ]
  },
  {
   "cell_type": "markdown",
   "id": "0725cedc",
   "metadata": {},
   "source": [
    "**DEFINE**\n",
    "- The 59 missing rows in the expanded_urls column will be dropped"
   ]
  },
  {
   "cell_type": "markdown",
   "id": "07e806ee",
   "metadata": {},
   "source": [
    "**CODE**"
   ]
  },
  {
   "cell_type": "code",
   "execution_count": 170,
   "id": "2f0c8530",
   "metadata": {},
   "outputs": [],
   "source": [
    "twitter_archive_clean=twitter_archive_clean[twitter_archive_clean['expanded_urls'].notnull()]"
   ]
  },
  {
   "cell_type": "markdown",
   "id": "626e855e",
   "metadata": {},
   "source": [
    "**TEST**"
   ]
  },
  {
   "cell_type": "code",
   "execution_count": 171,
   "id": "a40caf66",
   "metadata": {},
   "outputs": [
    {
     "name": "stdout",
     "output_type": "stream",
     "text": [
      "<class 'pandas.core.frame.DataFrame'>\n",
      "Int64Index: 2094 entries, 0 to 2355\n",
      "Data columns (total 17 columns):\n",
      " #   Column                      Non-Null Count  Dtype  \n",
      "---  ------                      --------------  -----  \n",
      " 0   tweet_id                    2094 non-null   int64  \n",
      " 1   in_reply_to_status_id       0 non-null      float64\n",
      " 2   in_reply_to_user_id         0 non-null      float64\n",
      " 3   timestamp                   2094 non-null   object \n",
      " 4   source                      2094 non-null   object \n",
      " 5   text                        2094 non-null   object \n",
      " 6   retweeted_status_id         0 non-null      float64\n",
      " 7   retweeted_status_user_id    0 non-null      float64\n",
      " 8   retweeted_status_timestamp  0 non-null      object \n",
      " 9   expanded_urls               2094 non-null   object \n",
      " 10  rating_numerator            2094 non-null   int64  \n",
      " 11  rating_denominator          2094 non-null   int64  \n",
      " 12  name                        2094 non-null   object \n",
      " 13  doggo                       2094 non-null   object \n",
      " 14  floofer                     2094 non-null   object \n",
      " 15  pupper                      2094 non-null   object \n",
      " 16  puppo                       2094 non-null   object \n",
      "dtypes: float64(4), int64(3), object(10)\n",
      "memory usage: 294.5+ KB\n"
     ]
    }
   ],
   "source": [
    "twitter_archive_clean.info()"
   ]
  },
  {
   "cell_type": "markdown",
   "id": "471a778e",
   "metadata": {},
   "source": [
    "### QUALITY ISSUE 4:\n",
    "There are 32 missing rows in the json file.These can be attributed to the 32 errors we found while fetching tweets using the API"
   ]
  },
  {
   "cell_type": "markdown",
   "id": "137ec119",
   "metadata": {},
   "source": [
    "**DEFINE**\n",
    "- The 32 erronous tweets were not appended to the dataframe therefore there is nothing to do here."
   ]
  },
  {
   "cell_type": "markdown",
   "id": "8d952040",
   "metadata": {},
   "source": [
    "### QUALITY ISSUE 5:\n",
    "- There are 109 invalid names in the archive file"
   ]
  },
  {
   "cell_type": "markdown",
   "id": "2f806bac",
   "metadata": {},
   "source": [
    "**DEFINE**\n",
    "\n",
    "- There are 109 invalid names that will be replace with None.The invalid names all begin with a small letter as opposed to a capital letter."
   ]
  },
  {
   "cell_type": "markdown",
   "id": "8fe1666d",
   "metadata": {},
   "source": [
    "**CODE**"
   ]
  },
  {
   "cell_type": "code",
   "execution_count": 172,
   "id": "e84613c0",
   "metadata": {},
   "outputs": [],
   "source": [
    "#replace invalid names with 'None'\n",
    "twitter_archive_clean['name']=np.where(twitter_archive_clean['name'].str.islower(),'None',twitter_archive_clean['name'])"
   ]
  },
  {
   "cell_type": "markdown",
   "id": "f8869444",
   "metadata": {},
   "source": [
    "**TEST**"
   ]
  },
  {
   "cell_type": "code",
   "execution_count": 173,
   "id": "4db64550",
   "metadata": {},
   "outputs": [
    {
     "data": {
      "text/plain": [
       "0"
      ]
     },
     "execution_count": 173,
     "metadata": {},
     "output_type": "execute_result"
    }
   ],
   "source": [
    "#count the number of values that begin with small letter in the name column.A value of 0 means they have been successfully clean\n",
    "sum(twitter_archive_clean.where(twitter_archive_clean['name'].str.islower())['name'].value_counts())"
   ]
  },
  {
   "cell_type": "code",
   "execution_count": 174,
   "id": "e7dbef34",
   "metadata": {},
   "outputs": [
    {
     "data": {
      "text/plain": [
       "(2094, 17)"
      ]
     },
     "execution_count": 174,
     "metadata": {},
     "output_type": "execute_result"
    }
   ],
   "source": [
    "twitter_archive_clean.shape"
   ]
  },
  {
   "cell_type": "markdown",
   "id": "3eecf175",
   "metadata": {},
   "source": [
    "### QUALITY ISSUE 6:\n",
    "There are three inaccurate entries in the ratings_denominator column"
   ]
  },
  {
   "cell_type": "markdown",
   "id": "e76a6212",
   "metadata": {},
   "source": [
    "**DEFINE**\n",
    "- The following tweets have their ratings messed up.They will be manually fixed\n",
    "1.Tweet id:740373189193256964   will be fixed to 14/10         \n",
    "2.Tweet id:716439118184652801   will be fixed to 11/10         \n",
    "3.Tweet id:682962037429899265   will be fixed to 10/10 "
   ]
  },
  {
   "cell_type": "markdown",
   "id": "e1e1f394",
   "metadata": {},
   "source": [
    "**CODE**"
   ]
  },
  {
   "cell_type": "code",
   "execution_count": 175,
   "id": "a0f57820",
   "metadata": {},
   "outputs": [],
   "source": [
    "#replaces the incorrect values with the correct ones\n",
    "tweet_id1=740373189193256964\n",
    "twitter_archive_clean['rating_numerator'].mask(twitter_archive_clean['tweet_id']==tweet_id1,14,inplace=True)\n",
    "twitter_archive_clean['rating_denominator'].mask(twitter_archive_clean['tweet_id']==tweet_id1,10,inplace=True)\n",
    "\n",
    "tweet_id2=716439118184652801\n",
    "twitter_archive_clean['rating_numerator'].mask(twitter_archive_clean['tweet_id']==tweet_id2,11,inplace=True)\n",
    "twitter_archive_clean['rating_denominator'].mask(twitter_archive_clean['tweet_id']==tweet_id2,10,inplace=True)\n",
    "\n",
    "tweet_id3=682962037429899265\n",
    "twitter_archive_clean['rating_numerator'].mask(twitter_archive_clean['tweet_id']==tweet_id3,10,inplace=True)\n",
    "twitter_archive_clean['rating_denominator'].mask(twitter_archive_clean['tweet_id']==tweet_id3,10,inplace=True)"
   ]
  },
  {
   "cell_type": "markdown",
   "id": "d0e7d85b",
   "metadata": {},
   "source": [
    "**TEST**"
   ]
  },
  {
   "cell_type": "code",
   "execution_count": 176,
   "id": "de2d311e",
   "metadata": {},
   "outputs": [
    {
     "data": {
      "text/html": [
       "<div>\n",
       "<style scoped>\n",
       "    .dataframe tbody tr th:only-of-type {\n",
       "        vertical-align: middle;\n",
       "    }\n",
       "\n",
       "    .dataframe tbody tr th {\n",
       "        vertical-align: top;\n",
       "    }\n",
       "\n",
       "    .dataframe thead th {\n",
       "        text-align: right;\n",
       "    }\n",
       "</style>\n",
       "<table border=\"1\" class=\"dataframe\">\n",
       "  <thead>\n",
       "    <tr style=\"text-align: right;\">\n",
       "      <th></th>\n",
       "      <th>tweet_id</th>\n",
       "      <th>rating_numerator</th>\n",
       "      <th>rating_denominator</th>\n",
       "    </tr>\n",
       "  </thead>\n",
       "  <tbody>\n",
       "    <tr>\n",
       "      <th>1068</th>\n",
       "      <td>740373189193256964</td>\n",
       "      <td>14</td>\n",
       "      <td>10</td>\n",
       "    </tr>\n",
       "    <tr>\n",
       "      <th>1202</th>\n",
       "      <td>716439118184652801</td>\n",
       "      <td>11</td>\n",
       "      <td>10</td>\n",
       "    </tr>\n",
       "    <tr>\n",
       "      <th>1662</th>\n",
       "      <td>682962037429899265</td>\n",
       "      <td>10</td>\n",
       "      <td>10</td>\n",
       "    </tr>\n",
       "  </tbody>\n",
       "</table>\n",
       "</div>"
      ],
      "text/plain": [
       "                tweet_id  rating_numerator  rating_denominator\n",
       "1068  740373189193256964                14                  10\n",
       "1202  716439118184652801                11                  10\n",
       "1662  682962037429899265                10                  10"
      ]
     },
     "execution_count": 176,
     "metadata": {},
     "output_type": "execute_result"
    }
   ],
   "source": [
    "twitter_archive_clean.loc[(twitter_archive_clean['tweet_id'] ==740373189193256964)| (twitter_archive_clean['tweet_id'] ==716439118184652801) | (twitter_archive_clean['tweet_id'] ==682962037429899265)][['tweet_id','rating_numerator','rating_denominator']]"
   ]
  },
  {
   "cell_type": "markdown",
   "id": "5f785d00",
   "metadata": {},
   "source": [
    "### QUALITY ISSUE 7:\n",
    "There are 12 rows with inaccurate ratings because they contain multiple dogs in one picture"
   ]
  },
  {
   "cell_type": "markdown",
   "id": "0159c380",
   "metadata": {},
   "source": [
    "**DEFINE**\n",
    "- The 12 rows with inaccurate ratings have a denominator that is not 10.Thus all rows that do not have denominator of 10 will be dropped"
   ]
  },
  {
   "cell_type": "markdown",
   "id": "7560c684",
   "metadata": {},
   "source": [
    "**CODE**"
   ]
  },
  {
   "cell_type": "code",
   "execution_count": 177,
   "id": "d054f577",
   "metadata": {},
   "outputs": [],
   "source": [
    "#drop all rows that do not have denominator of 10\n",
    "twitter_archive_clean = twitter_archive_clean[twitter_archive_clean['rating_denominator'] == 10]"
   ]
  },
  {
   "cell_type": "markdown",
   "id": "caac20b0",
   "metadata": {},
   "source": [
    "**TEST**"
   ]
  },
  {
   "cell_type": "code",
   "execution_count": 178,
   "id": "1777e79c",
   "metadata": {},
   "outputs": [
    {
     "data": {
      "text/plain": [
       "10    2080\n",
       "Name: rating_denominator, dtype: int64"
      ]
     },
     "execution_count": 178,
     "metadata": {},
     "output_type": "execute_result"
    }
   ],
   "source": [
    "twitter_archive_clean['rating_denominator'].value_counts()"
   ]
  },
  {
   "cell_type": "markdown",
   "id": "c2eaacda",
   "metadata": {},
   "source": [
    "### QUALITY ISSUE 8:\n",
    "There are three rows with inaccurate ratings that contain decimal point values"
   ]
  },
  {
   "cell_type": "markdown",
   "id": "f8286dd5",
   "metadata": {},
   "source": [
    "**DEFINE**\n",
    "- The following tweets will be removed as they contain inaccurate ratings\n",
    "1. 786709082849828864\trating 9.75/10\n",
    "2. 778027034220126208\trating 11.27/10\n",
    "3. 680494726643068929\trating 11.26/10"
   ]
  },
  {
   "cell_type": "markdown",
   "id": "282cfac4",
   "metadata": {},
   "source": [
    "**CODE**"
   ]
  },
  {
   "cell_type": "code",
   "execution_count": 179,
   "id": "ff0d25a6",
   "metadata": {},
   "outputs": [],
   "source": [
    "#remove the rows with the identified tweet ids\n",
    "twitter_archive_clean.drop(twitter_archive_clean[twitter_archive_clean['tweet_id']==786709082849828864].index,inplace=True)\n",
    "twitter_archive_clean.drop(twitter_archive_clean[twitter_archive_clean['tweet_id']==778027034220126208].index,inplace=True)\n",
    "twitter_archive_clean.drop(twitter_archive_clean[twitter_archive_clean['tweet_id']==680494726643068929].index,inplace=True)"
   ]
  },
  {
   "cell_type": "markdown",
   "id": "ac248514",
   "metadata": {},
   "source": [
    "**TEST**"
   ]
  },
  {
   "cell_type": "code",
   "execution_count": 180,
   "id": "b5859b8d",
   "metadata": {},
   "outputs": [
    {
     "data": {
      "text/html": [
       "<div>\n",
       "<style scoped>\n",
       "    .dataframe tbody tr th:only-of-type {\n",
       "        vertical-align: middle;\n",
       "    }\n",
       "\n",
       "    .dataframe tbody tr th {\n",
       "        vertical-align: top;\n",
       "    }\n",
       "\n",
       "    .dataframe thead th {\n",
       "        text-align: right;\n",
       "    }\n",
       "</style>\n",
       "<table border=\"1\" class=\"dataframe\">\n",
       "  <thead>\n",
       "    <tr style=\"text-align: right;\">\n",
       "      <th></th>\n",
       "      <th>tweet_id</th>\n",
       "      <th>in_reply_to_status_id</th>\n",
       "      <th>in_reply_to_user_id</th>\n",
       "      <th>timestamp</th>\n",
       "      <th>source</th>\n",
       "      <th>text</th>\n",
       "      <th>retweeted_status_id</th>\n",
       "      <th>retweeted_status_user_id</th>\n",
       "      <th>retweeted_status_timestamp</th>\n",
       "      <th>expanded_urls</th>\n",
       "      <th>rating_numerator</th>\n",
       "      <th>rating_denominator</th>\n",
       "      <th>name</th>\n",
       "      <th>doggo</th>\n",
       "      <th>floofer</th>\n",
       "      <th>pupper</th>\n",
       "      <th>puppo</th>\n",
       "    </tr>\n",
       "  </thead>\n",
       "  <tbody>\n",
       "  </tbody>\n",
       "</table>\n",
       "</div>"
      ],
      "text/plain": [
       "Empty DataFrame\n",
       "Columns: [tweet_id, in_reply_to_status_id, in_reply_to_user_id, timestamp, source, text, retweeted_status_id, retweeted_status_user_id, retweeted_status_timestamp, expanded_urls, rating_numerator, rating_denominator, name, doggo, floofer, pupper, puppo]\n",
       "Index: []"
      ]
     },
     "execution_count": 180,
     "metadata": {},
     "output_type": "execute_result"
    }
   ],
   "source": [
    "twitter_archive_clean.loc[(twitter_archive_clean['tweet_id'] ==786709082849828864)| (twitter_archive_clean['tweet_id'] ==778027034220126208) | (twitter_archive_clean['tweet_id'] ==680494726643068929)]"
   ]
  },
  {
   "cell_type": "markdown",
   "id": "5bc492a3",
   "metadata": {},
   "source": [
    "### QUALITY ISSUE 9:\n",
    "There are two outliers in the rating numerator column of archive file: 1776 (tweet_id:749981277374128128) and 420 (tweet_id :670842764863651840)"
   ]
  },
  {
   "cell_type": "markdown",
   "id": "ba60dce8",
   "metadata": {},
   "source": [
    "**DEFINE**\n",
    "- The two outliers in the rating numerator column of the twitter archive file will be capped with the value of 15 and 16 respectively since every other rating falls between 0 and 14"
   ]
  },
  {
   "cell_type": "markdown",
   "id": "3c47bb49",
   "metadata": {},
   "source": [
    "**CODE**"
   ]
  },
  {
   "cell_type": "code",
   "execution_count": 181,
   "id": "01260108",
   "metadata": {},
   "outputs": [],
   "source": [
    "#cap the outliers with values closer to other values\n",
    "outlier_tweet_id1=749981277374128128\n",
    "twitter_archive_clean['rating_numerator'].mask(twitter_archive_clean['tweet_id']==outlier_tweet_id1,16,inplace=True)\n",
    "\n",
    "outlier_tweet_id2=670842764863651840\n",
    "twitter_archive_clean['rating_numerator'].mask(twitter_archive_clean['tweet_id']==outlier_tweet_id2,15,inplace=True)"
   ]
  },
  {
   "cell_type": "markdown",
   "id": "f5204a25",
   "metadata": {},
   "source": [
    "**TEST**"
   ]
  },
  {
   "cell_type": "code",
   "execution_count": 182,
   "id": "c66c0ede",
   "metadata": {},
   "outputs": [
    {
     "data": {
      "text/html": [
       "<div>\n",
       "<style scoped>\n",
       "    .dataframe tbody tr th:only-of-type {\n",
       "        vertical-align: middle;\n",
       "    }\n",
       "\n",
       "    .dataframe tbody tr th {\n",
       "        vertical-align: top;\n",
       "    }\n",
       "\n",
       "    .dataframe thead th {\n",
       "        text-align: right;\n",
       "    }\n",
       "</style>\n",
       "<table border=\"1\" class=\"dataframe\">\n",
       "  <thead>\n",
       "    <tr style=\"text-align: right;\">\n",
       "      <th></th>\n",
       "      <th>tweet_id</th>\n",
       "      <th>rating_numerator</th>\n",
       "    </tr>\n",
       "  </thead>\n",
       "  <tbody>\n",
       "    <tr>\n",
       "      <th>979</th>\n",
       "      <td>749981277374128128</td>\n",
       "      <td>16</td>\n",
       "    </tr>\n",
       "    <tr>\n",
       "      <th>2074</th>\n",
       "      <td>670842764863651840</td>\n",
       "      <td>15</td>\n",
       "    </tr>\n",
       "  </tbody>\n",
       "</table>\n",
       "</div>"
      ],
      "text/plain": [
       "                tweet_id  rating_numerator\n",
       "979   749981277374128128                16\n",
       "2074  670842764863651840                15"
      ]
     },
     "execution_count": 182,
     "metadata": {},
     "output_type": "execute_result"
    }
   ],
   "source": [
    "twitter_archive_clean.loc[(twitter_archive_clean['tweet_id'] ==outlier_tweet_id1)| (twitter_archive_clean['tweet_id'] ==outlier_tweet_id2)][['tweet_id','rating_numerator']]"
   ]
  },
  {
   "cell_type": "markdown",
   "id": "90378718",
   "metadata": {},
   "source": [
    "### QUALITY ISSUE 10:\n",
    "Timestamp column is in string format"
   ]
  },
  {
   "cell_type": "markdown",
   "id": "3bef9ca8",
   "metadata": {},
   "source": [
    "**DEFINE**\n",
    "- Timestamp column in archive file will be converted to datetime"
   ]
  },
  {
   "cell_type": "markdown",
   "id": "613dd826",
   "metadata": {},
   "source": [
    "**CODE**"
   ]
  },
  {
   "cell_type": "code",
   "execution_count": 183,
   "id": "8455782c",
   "metadata": {},
   "outputs": [],
   "source": [
    "twitter_archive_clean['timestamp']=pd.to_datetime(twitter_archive_clean['timestamp'])"
   ]
  },
  {
   "cell_type": "markdown",
   "id": "6771f1b9",
   "metadata": {},
   "source": [
    "**TEST**"
   ]
  },
  {
   "cell_type": "code",
   "execution_count": 184,
   "id": "bcf5eaac",
   "metadata": {},
   "outputs": [
    {
     "data": {
      "text/plain": [
       "tweet_id                                    int64\n",
       "in_reply_to_status_id                     float64\n",
       "in_reply_to_user_id                       float64\n",
       "timestamp                     datetime64[ns, UTC]\n",
       "source                                     object\n",
       "text                                       object\n",
       "retweeted_status_id                       float64\n",
       "retweeted_status_user_id                  float64\n",
       "retweeted_status_timestamp                 object\n",
       "expanded_urls                              object\n",
       "rating_numerator                            int64\n",
       "rating_denominator                          int64\n",
       "name                                       object\n",
       "doggo                                      object\n",
       "floofer                                    object\n",
       "pupper                                     object\n",
       "puppo                                      object\n",
       "dtype: object"
      ]
     },
     "execution_count": 184,
     "metadata": {},
     "output_type": "execute_result"
    }
   ],
   "source": [
    "twitter_archive_clean.dtypes"
   ]
  },
  {
   "cell_type": "markdown",
   "id": "ceada7e2",
   "metadata": {},
   "source": [
    "### QUALITY ISSUE 11:\n",
    "There are 543 predictions that do not predict dog breeds in the predictions file"
   ]
  },
  {
   "cell_type": "markdown",
   "id": "ea51e966",
   "metadata": {},
   "source": [
    "**DEFINE**\n",
    "- values marked false in the p1_dog column of the predictions file indicate that the prediction was not a dog breed and thus their breed value will be replaced with none while confidence values will be replaced with 0"
   ]
  },
  {
   "cell_type": "markdown",
   "id": "d18c1dc0",
   "metadata": {},
   "source": [
    "**CODE**"
   ]
  },
  {
   "cell_type": "code",
   "execution_count": 185,
   "id": "9ba2b0b1",
   "metadata": {},
   "outputs": [],
   "source": [
    "#replace predictions that do not predict dog breeds with none\n",
    "predictions_clean['p1']=np.where(predictions_clean['p1_dog']==False,'None',predictions_clean['p1'])"
   ]
  },
  {
   "cell_type": "code",
   "execution_count": 186,
   "id": "9b84e62d",
   "metadata": {},
   "outputs": [],
   "source": [
    "#replace confidence levels for non-dog breeds with 0\n",
    "predictions_clean['p1_conf']=np.where(predictions_clean['p1_dog']==False,0,predictions_clean['p1_conf'])"
   ]
  },
  {
   "cell_type": "markdown",
   "id": "6359cea7",
   "metadata": {},
   "source": [
    "**TEST**"
   ]
  },
  {
   "cell_type": "code",
   "execution_count": 187,
   "id": "7d132247",
   "metadata": {},
   "outputs": [
    {
     "data": {
      "text/html": [
       "<div>\n",
       "<style scoped>\n",
       "    .dataframe tbody tr th:only-of-type {\n",
       "        vertical-align: middle;\n",
       "    }\n",
       "\n",
       "    .dataframe tbody tr th {\n",
       "        vertical-align: top;\n",
       "    }\n",
       "\n",
       "    .dataframe thead th {\n",
       "        text-align: right;\n",
       "    }\n",
       "</style>\n",
       "<table border=\"1\" class=\"dataframe\">\n",
       "  <thead>\n",
       "    <tr style=\"text-align: right;\">\n",
       "      <th></th>\n",
       "      <th>p1</th>\n",
       "      <th>p1_conf</th>\n",
       "    </tr>\n",
       "  </thead>\n",
       "  <tbody>\n",
       "    <tr>\n",
       "      <th>6</th>\n",
       "      <td>None</td>\n",
       "      <td>0.0</td>\n",
       "    </tr>\n",
       "    <tr>\n",
       "      <th>8</th>\n",
       "      <td>None</td>\n",
       "      <td>0.0</td>\n",
       "    </tr>\n",
       "    <tr>\n",
       "      <th>17</th>\n",
       "      <td>None</td>\n",
       "      <td>0.0</td>\n",
       "    </tr>\n",
       "    <tr>\n",
       "      <th>18</th>\n",
       "      <td>None</td>\n",
       "      <td>0.0</td>\n",
       "    </tr>\n",
       "    <tr>\n",
       "      <th>21</th>\n",
       "      <td>None</td>\n",
       "      <td>0.0</td>\n",
       "    </tr>\n",
       "    <tr>\n",
       "      <th>...</th>\n",
       "      <td>...</td>\n",
       "      <td>...</td>\n",
       "    </tr>\n",
       "    <tr>\n",
       "      <th>2026</th>\n",
       "      <td>None</td>\n",
       "      <td>0.0</td>\n",
       "    </tr>\n",
       "    <tr>\n",
       "      <th>2046</th>\n",
       "      <td>None</td>\n",
       "      <td>0.0</td>\n",
       "    </tr>\n",
       "    <tr>\n",
       "      <th>2052</th>\n",
       "      <td>None</td>\n",
       "      <td>0.0</td>\n",
       "    </tr>\n",
       "    <tr>\n",
       "      <th>2071</th>\n",
       "      <td>None</td>\n",
       "      <td>0.0</td>\n",
       "    </tr>\n",
       "    <tr>\n",
       "      <th>2074</th>\n",
       "      <td>None</td>\n",
       "      <td>0.0</td>\n",
       "    </tr>\n",
       "  </tbody>\n",
       "</table>\n",
       "<p>543 rows × 2 columns</p>\n",
       "</div>"
      ],
      "text/plain": [
       "        p1  p1_conf\n",
       "6     None      0.0\n",
       "8     None      0.0\n",
       "17    None      0.0\n",
       "18    None      0.0\n",
       "21    None      0.0\n",
       "...    ...      ...\n",
       "2026  None      0.0\n",
       "2046  None      0.0\n",
       "2052  None      0.0\n",
       "2071  None      0.0\n",
       "2074  None      0.0\n",
       "\n",
       "[543 rows x 2 columns]"
      ]
     },
     "execution_count": 187,
     "metadata": {},
     "output_type": "execute_result"
    }
   ],
   "source": [
    "#Returns rows where prediction is not a dog breed\n",
    "predictions_clean.loc[predictions_clean['p1_dog'] ==False][['p1','p1_conf']]"
   ]
  },
  {
   "cell_type": "markdown",
   "id": "438efab7",
   "metadata": {},
   "source": [
    "### QUALITY ISSUE 12:\n",
    "There are 281 missing rows in the image predictions file\n"
   ]
  },
  {
   "cell_type": "markdown",
   "id": "ffdf1641",
   "metadata": {},
   "source": [
    "**DEFINE**\n",
    "- There are 281 missing rows in the image predictions file\n",
    "- This will be solved in Tidiness issue 5"
   ]
  },
  {
   "cell_type": "markdown",
   "id": "e6d8f747",
   "metadata": {},
   "source": [
    "### TIDINESS ISSUE 1:\n",
    "The following columns in the twitter archive dataframe [in_reply_to_status_id, in_reply_to_user_id] contain replies therefore not required"
   ]
  },
  {
   "cell_type": "markdown",
   "id": "131ab9a9",
   "metadata": {},
   "source": [
    "**DEFINE**\n",
    "- The abovementioned columns contain replies therefore they will be dropped"
   ]
  },
  {
   "cell_type": "markdown",
   "id": "2046f607",
   "metadata": {},
   "source": [
    "**CODE**"
   ]
  },
  {
   "cell_type": "code",
   "execution_count": 188,
   "id": "2310234c",
   "metadata": {},
   "outputs": [],
   "source": [
    "\n",
    "twitter_archive_clean = twitter_archive_clean.drop(['in_reply_to_status_id','in_reply_to_user_id'], axis = 1)"
   ]
  },
  {
   "cell_type": "markdown",
   "id": "f38fd0fe",
   "metadata": {},
   "source": [
    "**TEST**"
   ]
  },
  {
   "cell_type": "code",
   "execution_count": 189,
   "id": "f4139a73",
   "metadata": {},
   "outputs": [
    {
     "name": "stdout",
     "output_type": "stream",
     "text": [
      "<class 'pandas.core.frame.DataFrame'>\n",
      "Int64Index: 2077 entries, 0 to 2355\n",
      "Data columns (total 15 columns):\n",
      " #   Column                      Non-Null Count  Dtype              \n",
      "---  ------                      --------------  -----              \n",
      " 0   tweet_id                    2077 non-null   int64              \n",
      " 1   timestamp                   2077 non-null   datetime64[ns, UTC]\n",
      " 2   source                      2077 non-null   object             \n",
      " 3   text                        2077 non-null   object             \n",
      " 4   retweeted_status_id         0 non-null      float64            \n",
      " 5   retweeted_status_user_id    0 non-null      float64            \n",
      " 6   retweeted_status_timestamp  0 non-null      object             \n",
      " 7   expanded_urls               2077 non-null   object             \n",
      " 8   rating_numerator            2077 non-null   int64              \n",
      " 9   rating_denominator          2077 non-null   int64              \n",
      " 10  name                        2077 non-null   object             \n",
      " 11  doggo                       2077 non-null   object             \n",
      " 12  floofer                     2077 non-null   object             \n",
      " 13  pupper                      2077 non-null   object             \n",
      " 14  puppo                       2077 non-null   object             \n",
      "dtypes: datetime64[ns, UTC](1), float64(2), int64(3), object(9)\n",
      "memory usage: 259.6+ KB\n"
     ]
    }
   ],
   "source": [
    "twitter_archive_clean.info()"
   ]
  },
  {
   "cell_type": "markdown",
   "id": "c7c76f10",
   "metadata": {},
   "source": [
    "### TIDINESS ISSUE 2:\n",
    "The following columns in the twitter archive dataframe [retweeted_status_id,retweeted_status_user_id,retweeted_status_timestamp] contain retweets therefore not required"
   ]
  },
  {
   "cell_type": "markdown",
   "id": "2ac9052a",
   "metadata": {},
   "source": [
    "**DEFINE**\n",
    "- The following columns [retweeted_status_id,retweeted_status_user_id,retweeted_status_timestamp] contain retweets therefore will be dropped"
   ]
  },
  {
   "cell_type": "markdown",
   "id": "949ddf4e",
   "metadata": {},
   "source": [
    "**CODE**"
   ]
  },
  {
   "cell_type": "code",
   "execution_count": 190,
   "id": "c4e19de9",
   "metadata": {},
   "outputs": [],
   "source": [
    "twitter_archive_clean = twitter_archive_clean.drop(['retweeted_status_id','retweeted_status_user_id','retweeted_status_timestamp'], axis = 1)"
   ]
  },
  {
   "cell_type": "markdown",
   "id": "830a0d2d",
   "metadata": {},
   "source": [
    "**TEST**"
   ]
  },
  {
   "cell_type": "code",
   "execution_count": 191,
   "id": "7a7474e0",
   "metadata": {},
   "outputs": [
    {
     "name": "stdout",
     "output_type": "stream",
     "text": [
      "<class 'pandas.core.frame.DataFrame'>\n",
      "Int64Index: 2077 entries, 0 to 2355\n",
      "Data columns (total 12 columns):\n",
      " #   Column              Non-Null Count  Dtype              \n",
      "---  ------              --------------  -----              \n",
      " 0   tweet_id            2077 non-null   int64              \n",
      " 1   timestamp           2077 non-null   datetime64[ns, UTC]\n",
      " 2   source              2077 non-null   object             \n",
      " 3   text                2077 non-null   object             \n",
      " 4   expanded_urls       2077 non-null   object             \n",
      " 5   rating_numerator    2077 non-null   int64              \n",
      " 6   rating_denominator  2077 non-null   int64              \n",
      " 7   name                2077 non-null   object             \n",
      " 8   doggo               2077 non-null   object             \n",
      " 9   floofer             2077 non-null   object             \n",
      " 10  pupper              2077 non-null   object             \n",
      " 11  puppo               2077 non-null   object             \n",
      "dtypes: datetime64[ns, UTC](1), int64(3), object(8)\n",
      "memory usage: 210.9+ KB\n"
     ]
    }
   ],
   "source": [
    "twitter_archive_clean.info()"
   ]
  },
  {
   "cell_type": "markdown",
   "id": "f6aebae8",
   "metadata": {},
   "source": [
    "### TIDINESS ISSUE 3:\n",
    "Since the only rating denominator is 10,that column is not necessary"
   ]
  },
  {
   "cell_type": "markdown",
   "id": "b25f19d2",
   "metadata": {},
   "source": [
    "**DEFINE**"
   ]
  },
  {
   "cell_type": "markdown",
   "id": "35d8faba",
   "metadata": {},
   "source": [
    "- The rating denominator column will be dropped since all values are 10"
   ]
  },
  {
   "cell_type": "markdown",
   "id": "690c29b6",
   "metadata": {},
   "source": [
    "**CODE**"
   ]
  },
  {
   "cell_type": "code",
   "execution_count": 192,
   "id": "cccbd94a",
   "metadata": {},
   "outputs": [],
   "source": [
    "twitter_archive_clean=twitter_archive_clean.drop(['rating_denominator'],axis=1)"
   ]
  },
  {
   "cell_type": "markdown",
   "id": "b070c455",
   "metadata": {},
   "source": [
    "**TEST**"
   ]
  },
  {
   "cell_type": "code",
   "execution_count": 193,
   "id": "1a88f3d2",
   "metadata": {},
   "outputs": [
    {
     "name": "stdout",
     "output_type": "stream",
     "text": [
      "<class 'pandas.core.frame.DataFrame'>\n",
      "Int64Index: 2077 entries, 0 to 2355\n",
      "Data columns (total 11 columns):\n",
      " #   Column            Non-Null Count  Dtype              \n",
      "---  ------            --------------  -----              \n",
      " 0   tweet_id          2077 non-null   int64              \n",
      " 1   timestamp         2077 non-null   datetime64[ns, UTC]\n",
      " 2   source            2077 non-null   object             \n",
      " 3   text              2077 non-null   object             \n",
      " 4   expanded_urls     2077 non-null   object             \n",
      " 5   rating_numerator  2077 non-null   int64              \n",
      " 6   name              2077 non-null   object             \n",
      " 7   doggo             2077 non-null   object             \n",
      " 8   floofer           2077 non-null   object             \n",
      " 9   pupper            2077 non-null   object             \n",
      " 10  puppo             2077 non-null   object             \n",
      "dtypes: datetime64[ns, UTC](1), int64(2), object(8)\n",
      "memory usage: 194.7+ KB\n"
     ]
    }
   ],
   "source": [
    "twitter_archive_clean.info()"
   ]
  },
  {
   "cell_type": "markdown",
   "id": "26bc1d9b",
   "metadata": {},
   "source": [
    "### TIDINESS ISSUE 4:\n",
    "There are four columns for dog stages i.e. doggo,floofer,pupper,puppo in the twitter archive file"
   ]
  },
  {
   "cell_type": "markdown",
   "id": "27139a8f",
   "metadata": {},
   "source": [
    "**DEFINE**\n",
    "- There are four columns for dog stage.They will be melted down into one column"
   ]
  },
  {
   "cell_type": "markdown",
   "id": "e83b617b",
   "metadata": {},
   "source": [
    "**CODE**"
   ]
  },
  {
   "cell_type": "code",
   "execution_count": 194,
   "id": "9d6345ee",
   "metadata": {},
   "outputs": [
    {
     "data": {
      "text/plain": [
       "2077"
      ]
     },
     "execution_count": 194,
     "metadata": {},
     "output_type": "execute_result"
    }
   ],
   "source": [
    "#Check the length of the dataframe\n",
    "len(twitter_archive_clean)"
   ]
  },
  {
   "cell_type": "code",
   "execution_count": 195,
   "id": "57b623e1",
   "metadata": {},
   "outputs": [],
   "source": [
    "#Create a new column 'None' and fill it with the value 'None'\n",
    "twitter_archive_clean['None']=np.repeat('None',2077)"
   ]
  },
  {
   "cell_type": "code",
   "execution_count": 196,
   "id": "d8498058",
   "metadata": {},
   "outputs": [
    {
     "name": "stderr",
     "output_type": "stream",
     "text": [
      "C:\\Users\\user\\anaconda3\\lib\\site-packages\\pandas\\core\\frame.py:4308: SettingWithCopyWarning: \n",
      "A value is trying to be set on a copy of a slice from a DataFrame\n",
      "\n",
      "See the caveats in the documentation: https://pandas.pydata.org/pandas-docs/stable/user_guide/indexing.html#returning-a-view-versus-a-copy\n",
      "  return super().drop(\n"
     ]
    }
   ],
   "source": [
    "#The dataframe will be sliced into 5 dataframes.Each slice is grouped by common dog stage.Each slice will have the other dog stage \n",
    "#columns dropped while the remaining dog stage column is renamed to dog stage.The 5 slices will then be concatenated on the now \n",
    "#common dog stage column\n",
    "\n",
    "doggodf=twitter_archive_clean.query('doggo==\"doggo\"')\n",
    "doggodf.drop(['floofer','pupper','puppo','None'], axis=1, inplace=True)\n",
    "doggodf=doggodf.rename(columns={'doggo':'dogstage'})\n",
    "\n",
    "flooferdf=twitter_archive_clean.query('floofer==\"floofer\" ')\n",
    "flooferdf.drop(['doggo','pupper','puppo','None'], axis=1, inplace=True)\n",
    "flooferdf=flooferdf.rename(columns={'floofer':'dogstage'})\n",
    "\n",
    "pupperdf=twitter_archive_clean.query('pupper==\"pupper\"')\n",
    "pupperdf.drop(['floofer','doggo','puppo','None'], axis=1, inplace=True)\n",
    "pupperdf=pupperdf.rename(columns={'pupper':'dogstage'})\n",
    "\n",
    "puppodf=twitter_archive_clean.query('puppo==\"puppo\"')\n",
    "puppodf.drop(['floofer','pupper','doggo','None'], axis=1, inplace=True)\n",
    "puppodf=puppodf.rename(columns={'puppo':'dogstage'})\n",
    "\n",
    "nonedf=twitter_archive_clean.query('doggo==\"None\" & floofer==\"None\" & pupper==\"None\" & puppo==\"None\" ')\n",
    "nonedf.drop(['floofer','pupper','puppo','doggo'], axis=1, inplace=True)\n",
    "nonedf=nonedf.rename(columns={'None':'dogstage'})"
   ]
  },
  {
   "cell_type": "code",
   "execution_count": 197,
   "id": "c09e946e",
   "metadata": {},
   "outputs": [],
   "source": [
    "#concatenates the sliced dataframes\n",
    "twitter_archive_clean=pd.concat([doggodf,flooferdf,pupperdf,puppodf,nonedf],axis=0,ignore_index=True)"
   ]
  },
  {
   "cell_type": "markdown",
   "id": "3ebc6cb5",
   "metadata": {},
   "source": [
    "**TEST**"
   ]
  },
  {
   "cell_type": "code",
   "execution_count": 198,
   "id": "e984dcbe",
   "metadata": {},
   "outputs": [
    {
     "name": "stdout",
     "output_type": "stream",
     "text": [
      "<class 'pandas.core.frame.DataFrame'>\n",
      "RangeIndex: 2088 entries, 0 to 2087\n",
      "Data columns (total 8 columns):\n",
      " #   Column            Non-Null Count  Dtype              \n",
      "---  ------            --------------  -----              \n",
      " 0   tweet_id          2088 non-null   int64              \n",
      " 1   timestamp         2088 non-null   datetime64[ns, UTC]\n",
      " 2   source            2088 non-null   object             \n",
      " 3   text              2088 non-null   object             \n",
      " 4   expanded_urls     2088 non-null   object             \n",
      " 5   rating_numerator  2088 non-null   int64              \n",
      " 6   name              2088 non-null   object             \n",
      " 7   dogstage          2088 non-null   object             \n",
      "dtypes: datetime64[ns, UTC](1), int64(2), object(5)\n",
      "memory usage: 130.6+ KB\n"
     ]
    }
   ],
   "source": [
    "twitter_archive_clean.info()"
   ]
  },
  {
   "cell_type": "code",
   "execution_count": 199,
   "id": "b270c469",
   "metadata": {},
   "outputs": [
    {
     "data": {
      "text/html": [
       "<div>\n",
       "<style scoped>\n",
       "    .dataframe tbody tr th:only-of-type {\n",
       "        vertical-align: middle;\n",
       "    }\n",
       "\n",
       "    .dataframe tbody tr th {\n",
       "        vertical-align: top;\n",
       "    }\n",
       "\n",
       "    .dataframe thead th {\n",
       "        text-align: right;\n",
       "    }\n",
       "</style>\n",
       "<table border=\"1\" class=\"dataframe\">\n",
       "  <thead>\n",
       "    <tr style=\"text-align: right;\">\n",
       "      <th></th>\n",
       "      <th>tweet_id</th>\n",
       "      <th>timestamp</th>\n",
       "      <th>source</th>\n",
       "      <th>text</th>\n",
       "      <th>expanded_urls</th>\n",
       "      <th>rating_numerator</th>\n",
       "      <th>name</th>\n",
       "      <th>dogstage</th>\n",
       "    </tr>\n",
       "  </thead>\n",
       "  <tbody>\n",
       "    <tr>\n",
       "      <th>0</th>\n",
       "      <td>890240255349198849</td>\n",
       "      <td>2017-07-26 15:59:51+00:00</td>\n",
       "      <td>&lt;a href=\"http://twitter.com/download/iphone\" rel=\"nofollow\"&gt;Twitter for iPhone&lt;/a&gt;</td>\n",
       "      <td>This is Cassie. She is a college pup. Studying international doggo communication and stick theory. 14/10 so elegant much sophisticate https://t.co/t1bfwz5S2A</td>\n",
       "      <td>https://twitter.com/dog_rates/status/890240255349198849/photo/1</td>\n",
       "      <td>14</td>\n",
       "      <td>Cassie</td>\n",
       "      <td>doggo</td>\n",
       "    </tr>\n",
       "    <tr>\n",
       "      <th>1</th>\n",
       "      <td>884162670584377345</td>\n",
       "      <td>2017-07-09 21:29:42+00:00</td>\n",
       "      <td>&lt;a href=\"http://twitter.com/download/iphone\" rel=\"nofollow\"&gt;Twitter for iPhone&lt;/a&gt;</td>\n",
       "      <td>Meet Yogi. He doesn't have any important dog meetings today he just enjoys looking his best at all times. 12/10 for dangerously dapper doggo https://t.co/YSI00BzTBZ</td>\n",
       "      <td>https://twitter.com/dog_rates/status/884162670584377345/photo/1</td>\n",
       "      <td>12</td>\n",
       "      <td>Yogi</td>\n",
       "      <td>doggo</td>\n",
       "    </tr>\n",
       "    <tr>\n",
       "      <th>2</th>\n",
       "      <td>872967104147763200</td>\n",
       "      <td>2017-06-09 00:02:31+00:00</td>\n",
       "      <td>&lt;a href=\"http://twitter.com/download/iphone\" rel=\"nofollow\"&gt;Twitter for iPhone&lt;/a&gt;</td>\n",
       "      <td>Here's a very large dog. He has a date later. Politely asked this water person to check if his breath is bad. 12/10 good to go doggo https://t.co/EMYIdoblMR</td>\n",
       "      <td>https://twitter.com/dog_rates/status/872967104147763200/photo/1,https://twitter.com/dog_rates/status/872967104147763200/photo/1</td>\n",
       "      <td>12</td>\n",
       "      <td>None</td>\n",
       "      <td>doggo</td>\n",
       "    </tr>\n",
       "    <tr>\n",
       "      <th>3</th>\n",
       "      <td>871515927908634625</td>\n",
       "      <td>2017-06-04 23:56:03+00:00</td>\n",
       "      <td>&lt;a href=\"http://twitter.com/download/iphone\" rel=\"nofollow\"&gt;Twitter for iPhone&lt;/a&gt;</td>\n",
       "      <td>This is Napolean. He's a Raggedy East Nicaraguan Zoom Zoom. Runs on one leg. Built for deception. No eyes. Good with kids. 12/10 great doggo https://t.co/PR7B7w1rUw</td>\n",
       "      <td>https://twitter.com/dog_rates/status/871515927908634625/photo/1,https://twitter.com/dog_rates/status/871515927908634625/photo/1</td>\n",
       "      <td>12</td>\n",
       "      <td>Napolean</td>\n",
       "      <td>doggo</td>\n",
       "    </tr>\n",
       "    <tr>\n",
       "      <th>4</th>\n",
       "      <td>871102520638267392</td>\n",
       "      <td>2017-06-03 20:33:19+00:00</td>\n",
       "      <td>&lt;a href=\"http://twitter.com/download/iphone\" rel=\"nofollow\"&gt;Twitter for iPhone&lt;/a&gt;</td>\n",
       "      <td>Never doubt a doggo 14/10 https://t.co/AbBLh2FZCH</td>\n",
       "      <td>https://twitter.com/animalcog/status/871075758080503809</td>\n",
       "      <td>14</td>\n",
       "      <td>None</td>\n",
       "      <td>doggo</td>\n",
       "    </tr>\n",
       "  </tbody>\n",
       "</table>\n",
       "</div>"
      ],
      "text/plain": [
       "             tweet_id                 timestamp  \\\n",
       "0  890240255349198849 2017-07-26 15:59:51+00:00   \n",
       "1  884162670584377345 2017-07-09 21:29:42+00:00   \n",
       "2  872967104147763200 2017-06-09 00:02:31+00:00   \n",
       "3  871515927908634625 2017-06-04 23:56:03+00:00   \n",
       "4  871102520638267392 2017-06-03 20:33:19+00:00   \n",
       "\n",
       "                                                                               source  \\\n",
       "0  <a href=\"http://twitter.com/download/iphone\" rel=\"nofollow\">Twitter for iPhone</a>   \n",
       "1  <a href=\"http://twitter.com/download/iphone\" rel=\"nofollow\">Twitter for iPhone</a>   \n",
       "2  <a href=\"http://twitter.com/download/iphone\" rel=\"nofollow\">Twitter for iPhone</a>   \n",
       "3  <a href=\"http://twitter.com/download/iphone\" rel=\"nofollow\">Twitter for iPhone</a>   \n",
       "4  <a href=\"http://twitter.com/download/iphone\" rel=\"nofollow\">Twitter for iPhone</a>   \n",
       "\n",
       "                                                                                                                                                                   text  \\\n",
       "0         This is Cassie. She is a college pup. Studying international doggo communication and stick theory. 14/10 so elegant much sophisticate https://t.co/t1bfwz5S2A   \n",
       "1  Meet Yogi. He doesn't have any important dog meetings today he just enjoys looking his best at all times. 12/10 for dangerously dapper doggo https://t.co/YSI00BzTBZ   \n",
       "2          Here's a very large dog. He has a date later. Politely asked this water person to check if his breath is bad. 12/10 good to go doggo https://t.co/EMYIdoblMR   \n",
       "3  This is Napolean. He's a Raggedy East Nicaraguan Zoom Zoom. Runs on one leg. Built for deception. No eyes. Good with kids. 12/10 great doggo https://t.co/PR7B7w1rUw   \n",
       "4                                                                                                                     Never doubt a doggo 14/10 https://t.co/AbBLh2FZCH   \n",
       "\n",
       "                                                                                                                     expanded_urls  \\\n",
       "0                                                                  https://twitter.com/dog_rates/status/890240255349198849/photo/1   \n",
       "1                                                                  https://twitter.com/dog_rates/status/884162670584377345/photo/1   \n",
       "2  https://twitter.com/dog_rates/status/872967104147763200/photo/1,https://twitter.com/dog_rates/status/872967104147763200/photo/1   \n",
       "3  https://twitter.com/dog_rates/status/871515927908634625/photo/1,https://twitter.com/dog_rates/status/871515927908634625/photo/1   \n",
       "4                                                                          https://twitter.com/animalcog/status/871075758080503809   \n",
       "\n",
       "   rating_numerator      name dogstage  \n",
       "0                14    Cassie    doggo  \n",
       "1                12      Yogi    doggo  \n",
       "2                12      None    doggo  \n",
       "3                12  Napolean    doggo  \n",
       "4                14      None    doggo  "
      ]
     },
     "execution_count": 199,
     "metadata": {},
     "output_type": "execute_result"
    }
   ],
   "source": [
    "twitter_archive_clean.head(5)"
   ]
  },
  {
   "cell_type": "code",
   "execution_count": 200,
   "id": "d537a667",
   "metadata": {},
   "outputs": [
    {
     "data": {
      "text/html": [
       "<div>\n",
       "<style scoped>\n",
       "    .dataframe tbody tr th:only-of-type {\n",
       "        vertical-align: middle;\n",
       "    }\n",
       "\n",
       "    .dataframe tbody tr th {\n",
       "        vertical-align: top;\n",
       "    }\n",
       "\n",
       "    .dataframe thead th {\n",
       "        text-align: right;\n",
       "    }\n",
       "</style>\n",
       "<table border=\"1\" class=\"dataframe\">\n",
       "  <thead>\n",
       "    <tr style=\"text-align: right;\">\n",
       "      <th></th>\n",
       "      <th>tweet_id</th>\n",
       "      <th>timestamp</th>\n",
       "      <th>source</th>\n",
       "      <th>text</th>\n",
       "      <th>expanded_urls</th>\n",
       "      <th>rating_numerator</th>\n",
       "      <th>name</th>\n",
       "      <th>dogstage</th>\n",
       "    </tr>\n",
       "  </thead>\n",
       "  <tbody>\n",
       "    <tr>\n",
       "      <th>2083</th>\n",
       "      <td>666049248165822465</td>\n",
       "      <td>2015-11-16 00:24:50+00:00</td>\n",
       "      <td>&lt;a href=\"http://twitter.com/download/iphone\" rel=\"nofollow\"&gt;Twitter for iPhone&lt;/a&gt;</td>\n",
       "      <td>Here we have a 1949 1st generation vulpix. Enjoys sweat tea and Fox News. Cannot be phased. 5/10 https://t.co/4B7cOc1EDq</td>\n",
       "      <td>https://twitter.com/dog_rates/status/666049248165822465/photo/1</td>\n",
       "      <td>5</td>\n",
       "      <td>None</td>\n",
       "      <td>None</td>\n",
       "    </tr>\n",
       "    <tr>\n",
       "      <th>2084</th>\n",
       "      <td>666044226329800704</td>\n",
       "      <td>2015-11-16 00:04:52+00:00</td>\n",
       "      <td>&lt;a href=\"http://twitter.com/download/iphone\" rel=\"nofollow\"&gt;Twitter for iPhone&lt;/a&gt;</td>\n",
       "      <td>This is a purebred Piers Morgan. Loves to Netflix and chill. Always looks like he forgot to unplug the iron. 6/10 https://t.co/DWnyCjf2mx</td>\n",
       "      <td>https://twitter.com/dog_rates/status/666044226329800704/photo/1</td>\n",
       "      <td>6</td>\n",
       "      <td>None</td>\n",
       "      <td>None</td>\n",
       "    </tr>\n",
       "    <tr>\n",
       "      <th>2085</th>\n",
       "      <td>666033412701032449</td>\n",
       "      <td>2015-11-15 23:21:54+00:00</td>\n",
       "      <td>&lt;a href=\"http://twitter.com/download/iphone\" rel=\"nofollow\"&gt;Twitter for iPhone&lt;/a&gt;</td>\n",
       "      <td>Here is a very happy pup. Big fan of well-maintained decks. Just look at that tongue. 9/10 would cuddle af https://t.co/y671yMhoiR</td>\n",
       "      <td>https://twitter.com/dog_rates/status/666033412701032449/photo/1</td>\n",
       "      <td>9</td>\n",
       "      <td>None</td>\n",
       "      <td>None</td>\n",
       "    </tr>\n",
       "    <tr>\n",
       "      <th>2086</th>\n",
       "      <td>666029285002620928</td>\n",
       "      <td>2015-11-15 23:05:30+00:00</td>\n",
       "      <td>&lt;a href=\"http://twitter.com/download/iphone\" rel=\"nofollow\"&gt;Twitter for iPhone&lt;/a&gt;</td>\n",
       "      <td>This is a western brown Mitsubishi terrier. Upset about leaf. Actually 2 dogs here. 7/10 would walk the shit out of https://t.co/r7mOb2m0UI</td>\n",
       "      <td>https://twitter.com/dog_rates/status/666029285002620928/photo/1</td>\n",
       "      <td>7</td>\n",
       "      <td>None</td>\n",
       "      <td>None</td>\n",
       "    </tr>\n",
       "    <tr>\n",
       "      <th>2087</th>\n",
       "      <td>666020888022790149</td>\n",
       "      <td>2015-11-15 22:32:08+00:00</td>\n",
       "      <td>&lt;a href=\"http://twitter.com/download/iphone\" rel=\"nofollow\"&gt;Twitter for iPhone&lt;/a&gt;</td>\n",
       "      <td>Here we have a Japanese Irish Setter. Lost eye in Vietnam (?). Big fan of relaxing on stair. 8/10 would pet https://t.co/BLDqew2Ijj</td>\n",
       "      <td>https://twitter.com/dog_rates/status/666020888022790149/photo/1</td>\n",
       "      <td>8</td>\n",
       "      <td>None</td>\n",
       "      <td>None</td>\n",
       "    </tr>\n",
       "  </tbody>\n",
       "</table>\n",
       "</div>"
      ],
      "text/plain": [
       "                tweet_id                 timestamp  \\\n",
       "2083  666049248165822465 2015-11-16 00:24:50+00:00   \n",
       "2084  666044226329800704 2015-11-16 00:04:52+00:00   \n",
       "2085  666033412701032449 2015-11-15 23:21:54+00:00   \n",
       "2086  666029285002620928 2015-11-15 23:05:30+00:00   \n",
       "2087  666020888022790149 2015-11-15 22:32:08+00:00   \n",
       "\n",
       "                                                                                  source  \\\n",
       "2083  <a href=\"http://twitter.com/download/iphone\" rel=\"nofollow\">Twitter for iPhone</a>   \n",
       "2084  <a href=\"http://twitter.com/download/iphone\" rel=\"nofollow\">Twitter for iPhone</a>   \n",
       "2085  <a href=\"http://twitter.com/download/iphone\" rel=\"nofollow\">Twitter for iPhone</a>   \n",
       "2086  <a href=\"http://twitter.com/download/iphone\" rel=\"nofollow\">Twitter for iPhone</a>   \n",
       "2087  <a href=\"http://twitter.com/download/iphone\" rel=\"nofollow\">Twitter for iPhone</a>   \n",
       "\n",
       "                                                                                                                                             text  \\\n",
       "2083                     Here we have a 1949 1st generation vulpix. Enjoys sweat tea and Fox News. Cannot be phased. 5/10 https://t.co/4B7cOc1EDq   \n",
       "2084    This is a purebred Piers Morgan. Loves to Netflix and chill. Always looks like he forgot to unplug the iron. 6/10 https://t.co/DWnyCjf2mx   \n",
       "2085           Here is a very happy pup. Big fan of well-maintained decks. Just look at that tongue. 9/10 would cuddle af https://t.co/y671yMhoiR   \n",
       "2086  This is a western brown Mitsubishi terrier. Upset about leaf. Actually 2 dogs here. 7/10 would walk the shit out of https://t.co/r7mOb2m0UI   \n",
       "2087          Here we have a Japanese Irish Setter. Lost eye in Vietnam (?). Big fan of relaxing on stair. 8/10 would pet https://t.co/BLDqew2Ijj   \n",
       "\n",
       "                                                        expanded_urls  \\\n",
       "2083  https://twitter.com/dog_rates/status/666049248165822465/photo/1   \n",
       "2084  https://twitter.com/dog_rates/status/666044226329800704/photo/1   \n",
       "2085  https://twitter.com/dog_rates/status/666033412701032449/photo/1   \n",
       "2086  https://twitter.com/dog_rates/status/666029285002620928/photo/1   \n",
       "2087  https://twitter.com/dog_rates/status/666020888022790149/photo/1   \n",
       "\n",
       "      rating_numerator  name dogstage  \n",
       "2083                 5  None     None  \n",
       "2084                 6  None     None  \n",
       "2085                 9  None     None  \n",
       "2086                 7  None     None  \n",
       "2087                 8  None     None  "
      ]
     },
     "execution_count": 200,
     "metadata": {},
     "output_type": "execute_result"
    }
   ],
   "source": [
    "twitter_archive_clean.tail(5)"
   ]
  },
  {
   "cell_type": "code",
   "execution_count": 201,
   "id": "c9a5bc46",
   "metadata": {},
   "outputs": [
    {
     "data": {
      "text/plain": [
       "None       1743\n",
       "pupper      228\n",
       "doggo        83\n",
       "puppo        24\n",
       "floofer      10\n",
       "Name: dogstage, dtype: int64"
      ]
     },
     "execution_count": 201,
     "metadata": {},
     "output_type": "execute_result"
    }
   ],
   "source": [
    "twitter_archive_clean['dogstage'].value_counts()"
   ]
  },
  {
   "cell_type": "markdown",
   "id": "9685b54a",
   "metadata": {},
   "source": [
    "### TIDINESS ISSUE 5:\n"
   ]
  },
  {
   "cell_type": "markdown",
   "id": "905da544",
   "metadata": {},
   "source": [
    "**DEFINE**\n",
    "- archive file will be merged with the following columns from the predictions file: p1,p1_conf and they will be renamed to breed and confidence respectively\n",
    "- archive file will also be merged with the following columns from the json file: favourite_count,retweet_count and source"
   ]
  },
  {
   "cell_type": "markdown",
   "id": "b3aa65e2",
   "metadata": {},
   "source": [
    "**CODE**"
   ]
  },
  {
   "cell_type": "code",
   "execution_count": 202,
   "id": "e48b9b9f",
   "metadata": {},
   "outputs": [],
   "source": [
    "# merge twitter_archive with predictions file on common tweet_id\n",
    "twitter_archive_clean = pd.merge(twitter_archive_clean, predictions_clean[['tweet_id','p1','p1_conf']],\n",
    "                         on = 'tweet_id', how = 'inner')"
   ]
  },
  {
   "cell_type": "code",
   "execution_count": 203,
   "id": "5a6576f4",
   "metadata": {},
   "outputs": [],
   "source": [
    "#drop source column in the twitter archive file.To be merged with the source column from json file which already has the source extracted\n",
    "twitter_archive_clean = twitter_archive_clean.drop(['source'], axis = 1)"
   ]
  },
  {
   "cell_type": "code",
   "execution_count": 204,
   "id": "992a52c4",
   "metadata": {},
   "outputs": [],
   "source": [
    "#merge twitter archive file with json file on common tweet id\n",
    "twitter_archive_clean = pd.merge(twitter_archive_clean, fetched_tweets_clean[['tweet_id','favorite_count','retweet_count','source']],\n",
    "                         on = 'tweet_id', how = 'inner') "
   ]
  },
  {
   "cell_type": "code",
   "execution_count": 205,
   "id": "2a7e7ea7",
   "metadata": {},
   "outputs": [],
   "source": [
    "#Slice confidence score into a percentage\n",
    "twitter_archive_clean['p1_conf']=(twitter_archive_clean['p1_conf']*100).round(decimals=2)"
   ]
  },
  {
   "cell_type": "code",
   "execution_count": 206,
   "id": "fd4aae5a",
   "metadata": {},
   "outputs": [],
   "source": [
    "#rename columns to more intuitional names\n",
    "twitter_archive_clean=twitter_archive_clean.rename(columns={'p1':'breed','p1_conf':'confidence','rating_numerator':'rating'})"
   ]
  },
  {
   "cell_type": "markdown",
   "id": "add94f12",
   "metadata": {},
   "source": [
    "**TEST**"
   ]
  },
  {
   "cell_type": "code",
   "execution_count": 207,
   "id": "146e8d44",
   "metadata": {},
   "outputs": [
    {
     "data": {
      "text/html": [
       "<div>\n",
       "<style scoped>\n",
       "    .dataframe tbody tr th:only-of-type {\n",
       "        vertical-align: middle;\n",
       "    }\n",
       "\n",
       "    .dataframe tbody tr th {\n",
       "        vertical-align: top;\n",
       "    }\n",
       "\n",
       "    .dataframe thead th {\n",
       "        text-align: right;\n",
       "    }\n",
       "</style>\n",
       "<table border=\"1\" class=\"dataframe\">\n",
       "  <thead>\n",
       "    <tr style=\"text-align: right;\">\n",
       "      <th></th>\n",
       "      <th>tweet_id</th>\n",
       "      <th>timestamp</th>\n",
       "      <th>text</th>\n",
       "      <th>expanded_urls</th>\n",
       "      <th>rating</th>\n",
       "      <th>name</th>\n",
       "      <th>dogstage</th>\n",
       "      <th>breed</th>\n",
       "      <th>confidence</th>\n",
       "      <th>favorite_count</th>\n",
       "      <th>retweet_count</th>\n",
       "      <th>source</th>\n",
       "    </tr>\n",
       "  </thead>\n",
       "  <tbody>\n",
       "    <tr>\n",
       "      <th>0</th>\n",
       "      <td>890240255349198849</td>\n",
       "      <td>2017-07-26 15:59:51+00:00</td>\n",
       "      <td>This is Cassie. She is a college pup. Studying international doggo communication and stick theory. 14/10 so elegant much sophisticate https://t.co/t1bfwz5S2A</td>\n",
       "      <td>https://twitter.com/dog_rates/status/890240255349198849/photo/1</td>\n",
       "      <td>14</td>\n",
       "      <td>Cassie</td>\n",
       "      <td>doggo</td>\n",
       "      <td>Pembroke</td>\n",
       "      <td>51.13</td>\n",
       "      <td>27988</td>\n",
       "      <td>6107</td>\n",
       "      <td>Twitter for iPhone</td>\n",
       "    </tr>\n",
       "  </tbody>\n",
       "</table>\n",
       "</div>"
      ],
      "text/plain": [
       "             tweet_id                 timestamp  \\\n",
       "0  890240255349198849 2017-07-26 15:59:51+00:00   \n",
       "\n",
       "                                                                                                                                                            text  \\\n",
       "0  This is Cassie. She is a college pup. Studying international doggo communication and stick theory. 14/10 so elegant much sophisticate https://t.co/t1bfwz5S2A   \n",
       "\n",
       "                                                     expanded_urls  rating  \\\n",
       "0  https://twitter.com/dog_rates/status/890240255349198849/photo/1      14   \n",
       "\n",
       "     name dogstage     breed  confidence  favorite_count  retweet_count  \\\n",
       "0  Cassie    doggo  Pembroke       51.13           27988           6107   \n",
       "\n",
       "               source  \n",
       "0  Twitter for iPhone  "
      ]
     },
     "execution_count": 207,
     "metadata": {},
     "output_type": "execute_result"
    }
   ],
   "source": [
    "twitter_archive_clean.head(1)"
   ]
  },
  {
   "cell_type": "markdown",
   "id": "1041a2ac",
   "metadata": {},
   "source": [
    "**DEFINE**\n",
    "- columns will be rearranged.Most of the numerical columns will be placed on the left side as those are used more in analysis"
   ]
  },
  {
   "cell_type": "markdown",
   "id": "730cf10f",
   "metadata": {},
   "source": [
    "**CODE**"
   ]
  },
  {
   "cell_type": "code",
   "execution_count": 210,
   "id": "5e6c7213",
   "metadata": {},
   "outputs": [],
   "source": [
    "#rearrange columns\n",
    "cols = ['tweet_id','timestamp','rating','retweet_count','favorite_count',\n",
    "            'breed','confidence','name', 'dogstage','source', 'text']\n",
    "\n",
    "twitter_archive_clean = twitter_archive_clean[cols]"
   ]
  },
  {
   "cell_type": "markdown",
   "id": "9c5d87e5",
   "metadata": {},
   "source": [
    "**TEST**"
   ]
  },
  {
   "cell_type": "code",
   "execution_count": 211,
   "id": "84be9c2e",
   "metadata": {},
   "outputs": [
    {
     "data": {
      "text/html": [
       "<div>\n",
       "<style scoped>\n",
       "    .dataframe tbody tr th:only-of-type {\n",
       "        vertical-align: middle;\n",
       "    }\n",
       "\n",
       "    .dataframe tbody tr th {\n",
       "        vertical-align: top;\n",
       "    }\n",
       "\n",
       "    .dataframe thead th {\n",
       "        text-align: right;\n",
       "    }\n",
       "</style>\n",
       "<table border=\"1\" class=\"dataframe\">\n",
       "  <thead>\n",
       "    <tr style=\"text-align: right;\">\n",
       "      <th></th>\n",
       "      <th>tweet_id</th>\n",
       "      <th>timestamp</th>\n",
       "      <th>rating</th>\n",
       "      <th>retweet_count</th>\n",
       "      <th>favorite_count</th>\n",
       "      <th>breed</th>\n",
       "      <th>confidence</th>\n",
       "      <th>name</th>\n",
       "      <th>dogstage</th>\n",
       "      <th>source</th>\n",
       "      <th>text</th>\n",
       "    </tr>\n",
       "  </thead>\n",
       "  <tbody>\n",
       "    <tr>\n",
       "      <th>0</th>\n",
       "      <td>890240255349198849</td>\n",
       "      <td>2017-07-26 15:59:51+00:00</td>\n",
       "      <td>14</td>\n",
       "      <td>6107</td>\n",
       "      <td>27988</td>\n",
       "      <td>Pembroke</td>\n",
       "      <td>51.13</td>\n",
       "      <td>Cassie</td>\n",
       "      <td>doggo</td>\n",
       "      <td>Twitter for iPhone</td>\n",
       "      <td>This is Cassie. She is a college pup. Studying international doggo communication and stick theory. 14/10 so elegant much sophisticate https://t.co/t1bfwz5S2A</td>\n",
       "    </tr>\n",
       "  </tbody>\n",
       "</table>\n",
       "</div>"
      ],
      "text/plain": [
       "             tweet_id                 timestamp  rating  retweet_count  \\\n",
       "0  890240255349198849 2017-07-26 15:59:51+00:00      14           6107   \n",
       "\n",
       "   favorite_count     breed  confidence    name dogstage              source  \\\n",
       "0           27988  Pembroke       51.13  Cassie    doggo  Twitter for iPhone   \n",
       "\n",
       "                                                                                                                                                            text  \n",
       "0  This is Cassie. She is a college pup. Studying international doggo communication and stick theory. 14/10 so elegant much sophisticate https://t.co/t1bfwz5S2A  "
      ]
     },
     "execution_count": 211,
     "metadata": {},
     "output_type": "execute_result"
    }
   ],
   "source": [
    "twitter_archive_clean.head(1)"
   ]
  },
  {
   "cell_type": "code",
   "execution_count": 212,
   "id": "f2741900",
   "metadata": {},
   "outputs": [
    {
     "name": "stdout",
     "output_type": "stream",
     "text": [
      "<class 'pandas.core.frame.DataFrame'>\n",
      "Int64Index: 1953 entries, 0 to 1952\n",
      "Data columns (total 11 columns):\n",
      " #   Column          Non-Null Count  Dtype              \n",
      "---  ------          --------------  -----              \n",
      " 0   tweet_id        1953 non-null   int64              \n",
      " 1   timestamp       1953 non-null   datetime64[ns, UTC]\n",
      " 2   rating          1953 non-null   int64              \n",
      " 3   retweet_count   1953 non-null   int64              \n",
      " 4   favorite_count  1953 non-null   int64              \n",
      " 5   breed           1953 non-null   object             \n",
      " 6   confidence      1953 non-null   float64            \n",
      " 7   name            1953 non-null   object             \n",
      " 8   dogstage        1953 non-null   object             \n",
      " 9   source          1953 non-null   object             \n",
      " 10  text            1953 non-null   object             \n",
      "dtypes: datetime64[ns, UTC](1), float64(1), int64(4), object(5)\n",
      "memory usage: 183.1+ KB\n"
     ]
    }
   ],
   "source": [
    "twitter_archive_clean.info()"
   ]
  },
  {
   "cell_type": "markdown",
   "id": "0c0f49f7",
   "metadata": {},
   "source": [
    "<a id='storage'></a>\n",
    "## STORING DATA"
   ]
  },
  {
   "cell_type": "code",
   "execution_count": 216,
   "id": "dcbdfa1d",
   "metadata": {},
   "outputs": [],
   "source": [
    "twitter_archive_clean.to_csv('twitter_archive_master.csv', index = False)"
   ]
  },
  {
   "cell_type": "code",
   "execution_count": 217,
   "id": "7338a87f",
   "metadata": {},
   "outputs": [
    {
     "name": "stdout",
     "output_type": "stream",
     "text": [
      " Volume in drive C has no label.\n",
      " Volume Serial Number is 7098-8673\n",
      "\n",
      " Directory of C:\\Users\\user\\Desktop\\jupyter\\We-Rate-Dogs-Project\n",
      "\n",
      "19/06/2022  14:56           447,886 twitter_archive_master.csv\n",
      "               1 File(s)        447,886 bytes\n",
      "               0 Dir(s)  49,995,218,944 bytes free\n"
     ]
    }
   ],
   "source": [
    "ls twitter_archive_master.csv"
   ]
  },
  {
   "cell_type": "markdown",
   "id": "4bd0790a",
   "metadata": {},
   "source": [
    "<a id='analyse'></a>\n",
    "# ANALYSIS"
   ]
  },
  {
   "cell_type": "code",
   "execution_count": 11,
   "id": "3477560d",
   "metadata": {},
   "outputs": [],
   "source": [
    "twitter_df=pd.read_csv('twitter_archive_master.csv')"
   ]
  },
  {
   "cell_type": "code",
   "execution_count": 219,
   "id": "c6d75f4e",
   "metadata": {},
   "outputs": [
    {
     "data": {
      "text/html": [
       "<div>\n",
       "<style scoped>\n",
       "    .dataframe tbody tr th:only-of-type {\n",
       "        vertical-align: middle;\n",
       "    }\n",
       "\n",
       "    .dataframe tbody tr th {\n",
       "        vertical-align: top;\n",
       "    }\n",
       "\n",
       "    .dataframe thead th {\n",
       "        text-align: right;\n",
       "    }\n",
       "</style>\n",
       "<table border=\"1\" class=\"dataframe\">\n",
       "  <thead>\n",
       "    <tr style=\"text-align: right;\">\n",
       "      <th></th>\n",
       "      <th>tweet_id</th>\n",
       "      <th>timestamp</th>\n",
       "      <th>rating</th>\n",
       "      <th>retweet_count</th>\n",
       "      <th>favorite_count</th>\n",
       "      <th>breed</th>\n",
       "      <th>confidence</th>\n",
       "      <th>name</th>\n",
       "      <th>dogstage</th>\n",
       "      <th>source</th>\n",
       "      <th>text</th>\n",
       "    </tr>\n",
       "  </thead>\n",
       "  <tbody>\n",
       "    <tr>\n",
       "      <th>0</th>\n",
       "      <td>890240255349198849</td>\n",
       "      <td>2017-07-26 15:59:51+00:00</td>\n",
       "      <td>14</td>\n",
       "      <td>6107</td>\n",
       "      <td>27988</td>\n",
       "      <td>Pembroke</td>\n",
       "      <td>51.13</td>\n",
       "      <td>Cassie</td>\n",
       "      <td>doggo</td>\n",
       "      <td>Twitter for iPhone</td>\n",
       "      <td>This is Cassie. She is a college pup. Studying international doggo communication and stick theory. 14/10 so elegant much sophisticate https://t.co/t1bfwz5S2A</td>\n",
       "    </tr>\n",
       "    <tr>\n",
       "      <th>1</th>\n",
       "      <td>884162670584377345</td>\n",
       "      <td>2017-07-09 21:29:42+00:00</td>\n",
       "      <td>12</td>\n",
       "      <td>2509</td>\n",
       "      <td>17960</td>\n",
       "      <td>German_shepherd</td>\n",
       "      <td>70.70</td>\n",
       "      <td>Yogi</td>\n",
       "      <td>doggo</td>\n",
       "      <td>Twitter for iPhone</td>\n",
       "      <td>Meet Yogi. He doesn't have any important dog meetings today he just enjoys looking his best at all times. 12/10 for dangerously dapper doggo https://t.co/YSI00BzTBZ</td>\n",
       "    </tr>\n",
       "    <tr>\n",
       "      <th>2</th>\n",
       "      <td>872967104147763200</td>\n",
       "      <td>2017-06-09 00:02:31+00:00</td>\n",
       "      <td>12</td>\n",
       "      <td>4569</td>\n",
       "      <td>24107</td>\n",
       "      <td>Labrador_retriever</td>\n",
       "      <td>47.69</td>\n",
       "      <td>None</td>\n",
       "      <td>doggo</td>\n",
       "      <td>Twitter for iPhone</td>\n",
       "      <td>Here's a very large dog. He has a date later. Politely asked this water person to check if his breath is bad. 12/10 good to go doggo https://t.co/EMYIdoblMR</td>\n",
       "    </tr>\n",
       "    <tr>\n",
       "      <th>3</th>\n",
       "      <td>871515927908634625</td>\n",
       "      <td>2017-06-04 23:56:03+00:00</td>\n",
       "      <td>12</td>\n",
       "      <td>2946</td>\n",
       "      <td>17914</td>\n",
       "      <td>komondor</td>\n",
       "      <td>97.48</td>\n",
       "      <td>Napolean</td>\n",
       "      <td>doggo</td>\n",
       "      <td>Twitter for iPhone</td>\n",
       "      <td>This is Napolean. He's a Raggedy East Nicaraguan Zoom Zoom. Runs on one leg. Built for deception. No eyes. Good with kids. 12/10 great doggo https://t.co/PR7B7w1rUw</td>\n",
       "    </tr>\n",
       "    <tr>\n",
       "      <th>4</th>\n",
       "      <td>869596645499047938</td>\n",
       "      <td>2017-05-30 16:49:31+00:00</td>\n",
       "      <td>12</td>\n",
       "      <td>2642</td>\n",
       "      <td>14230</td>\n",
       "      <td>Chihuahua</td>\n",
       "      <td>95.52</td>\n",
       "      <td>Scout</td>\n",
       "      <td>doggo</td>\n",
       "      <td>Twitter for iPhone</td>\n",
       "      <td>This is Scout. He just graduated. Officially a doggo now. Have fun with taxes and losing sight of your ambitions. 12/10 would throw cap for https://t.co/DsA2hwXAJo</td>\n",
       "    </tr>\n",
       "  </tbody>\n",
       "</table>\n",
       "</div>"
      ],
      "text/plain": [
       "             tweet_id                  timestamp  rating  retweet_count  \\\n",
       "0  890240255349198849  2017-07-26 15:59:51+00:00      14           6107   \n",
       "1  884162670584377345  2017-07-09 21:29:42+00:00      12           2509   \n",
       "2  872967104147763200  2017-06-09 00:02:31+00:00      12           4569   \n",
       "3  871515927908634625  2017-06-04 23:56:03+00:00      12           2946   \n",
       "4  869596645499047938  2017-05-30 16:49:31+00:00      12           2642   \n",
       "\n",
       "   favorite_count               breed  confidence      name dogstage  \\\n",
       "0           27988            Pembroke       51.13    Cassie    doggo   \n",
       "1           17960     German_shepherd       70.70      Yogi    doggo   \n",
       "2           24107  Labrador_retriever       47.69      None    doggo   \n",
       "3           17914            komondor       97.48  Napolean    doggo   \n",
       "4           14230           Chihuahua       95.52     Scout    doggo   \n",
       "\n",
       "               source  \\\n",
       "0  Twitter for iPhone   \n",
       "1  Twitter for iPhone   \n",
       "2  Twitter for iPhone   \n",
       "3  Twitter for iPhone   \n",
       "4  Twitter for iPhone   \n",
       "\n",
       "                                                                                                                                                                   text  \n",
       "0         This is Cassie. She is a college pup. Studying international doggo communication and stick theory. 14/10 so elegant much sophisticate https://t.co/t1bfwz5S2A  \n",
       "1  Meet Yogi. He doesn't have any important dog meetings today he just enjoys looking his best at all times. 12/10 for dangerously dapper doggo https://t.co/YSI00BzTBZ  \n",
       "2          Here's a very large dog. He has a date later. Politely asked this water person to check if his breath is bad. 12/10 good to go doggo https://t.co/EMYIdoblMR  \n",
       "3  This is Napolean. He's a Raggedy East Nicaraguan Zoom Zoom. Runs on one leg. Built for deception. No eyes. Good with kids. 12/10 great doggo https://t.co/PR7B7w1rUw  \n",
       "4   This is Scout. He just graduated. Officially a doggo now. Have fun with taxes and losing sight of your ambitions. 12/10 would throw cap for https://t.co/DsA2hwXAJo  "
      ]
     },
     "execution_count": 219,
     "metadata": {},
     "output_type": "execute_result"
    }
   ],
   "source": [
    "twitter_df.head()"
   ]
  },
  {
   "cell_type": "markdown",
   "id": "4299a532",
   "metadata": {},
   "source": [
    "**QUESTION 1:Top 5 most liked/favorited tweets?**"
   ]
  },
  {
   "cell_type": "code",
   "execution_count": 223,
   "id": "9261a5f9",
   "metadata": {},
   "outputs": [
    {
     "data": {
      "text/html": [
       "<div>\n",
       "<style scoped>\n",
       "    .dataframe tbody tr th:only-of-type {\n",
       "        vertical-align: middle;\n",
       "    }\n",
       "\n",
       "    .dataframe tbody tr th {\n",
       "        vertical-align: top;\n",
       "    }\n",
       "\n",
       "    .dataframe thead th {\n",
       "        text-align: right;\n",
       "    }\n",
       "</style>\n",
       "<table border=\"1\" class=\"dataframe\">\n",
       "  <thead>\n",
       "    <tr style=\"text-align: right;\">\n",
       "      <th></th>\n",
       "      <th>tweet_id</th>\n",
       "      <th>timestamp</th>\n",
       "      <th>rating</th>\n",
       "      <th>retweet_count</th>\n",
       "      <th>favorite_count</th>\n",
       "      <th>breed</th>\n",
       "      <th>confidence</th>\n",
       "      <th>name</th>\n",
       "      <th>dogstage</th>\n",
       "      <th>source</th>\n",
       "      <th>text</th>\n",
       "    </tr>\n",
       "  </thead>\n",
       "  <tbody>\n",
       "    <tr>\n",
       "      <th>70</th>\n",
       "      <td>744234799360020481</td>\n",
       "      <td>2016-06-18 18:26:18+00:00</td>\n",
       "      <td>13</td>\n",
       "      <td>70842</td>\n",
       "      <td>145042</td>\n",
       "      <td>Labrador_retriever</td>\n",
       "      <td>82.53</td>\n",
       "      <td>None</td>\n",
       "      <td>doggo</td>\n",
       "      <td>Twitter for iPhone</td>\n",
       "      <td>Here's a doggo realizing you can stand in a pool. 13/10 enlightened af (vid by Tina Conrad) https://t.co/7wE9LTEXC4</td>\n",
       "    </tr>\n",
       "    <tr>\n",
       "      <th>297</th>\n",
       "      <td>822872901745569793</td>\n",
       "      <td>2017-01-21 18:26:02+00:00</td>\n",
       "      <td>13</td>\n",
       "      <td>39979</td>\n",
       "      <td>124222</td>\n",
       "      <td>Lakeland_terrier</td>\n",
       "      <td>19.60</td>\n",
       "      <td>None</td>\n",
       "      <td>puppo</td>\n",
       "      <td>Twitter for iPhone</td>\n",
       "      <td>Here's a super supportive puppo participating in the Toronto  #WomensMarch today. 13/10 https://t.co/nTz3FtorBc</td>\n",
       "    </tr>\n",
       "    <tr>\n",
       "      <th>632</th>\n",
       "      <td>807106840509214720</td>\n",
       "      <td>2016-12-09 06:17:20+00:00</td>\n",
       "      <td>13</td>\n",
       "      <td>51749</td>\n",
       "      <td>111816</td>\n",
       "      <td>Chihuahua</td>\n",
       "      <td>50.54</td>\n",
       "      <td>Stephan</td>\n",
       "      <td>None</td>\n",
       "      <td>Twitter for iPhone</td>\n",
       "      <td>This is Stephan. He just wants to help. 13/10 such a good boy https://t.co/DkBYaCAg2d</td>\n",
       "    </tr>\n",
       "    <tr>\n",
       "      <th>96</th>\n",
       "      <td>866450705531457537</td>\n",
       "      <td>2017-05-22 00:28:40+00:00</td>\n",
       "      <td>13</td>\n",
       "      <td>30253</td>\n",
       "      <td>109001</td>\n",
       "      <td>French_bulldog</td>\n",
       "      <td>90.53</td>\n",
       "      <td>Jamesy</td>\n",
       "      <td>pupper</td>\n",
       "      <td>Twitter for iPhone</td>\n",
       "      <td>This is Jamesy. He gives a kiss to every other pupper he sees on his walk. 13/10 such passion, much tender https://t.co/wk7TfysWHr</td>\n",
       "    </tr>\n",
       "    <tr>\n",
       "      <th>73</th>\n",
       "      <td>739238157791694849</td>\n",
       "      <td>2016-06-04 23:31:25+00:00</td>\n",
       "      <td>13</td>\n",
       "      <td>52966</td>\n",
       "      <td>107350</td>\n",
       "      <td>Eskimo_dog</td>\n",
       "      <td>50.34</td>\n",
       "      <td>None</td>\n",
       "      <td>doggo</td>\n",
       "      <td>Twitter for iPhone</td>\n",
       "      <td>Here's a doggo blowing bubbles. It's downright legendary. 13/10 would watch on repeat forever (vid by Kent Duryee) https://t.co/YcXgHfp1EC</td>\n",
       "    </tr>\n",
       "  </tbody>\n",
       "</table>\n",
       "</div>"
      ],
      "text/plain": [
       "               tweet_id                  timestamp  rating  retweet_count  \\\n",
       "70   744234799360020481  2016-06-18 18:26:18+00:00      13          70842   \n",
       "297  822872901745569793  2017-01-21 18:26:02+00:00      13          39979   \n",
       "632  807106840509214720  2016-12-09 06:17:20+00:00      13          51749   \n",
       "96   866450705531457537  2017-05-22 00:28:40+00:00      13          30253   \n",
       "73   739238157791694849  2016-06-04 23:31:25+00:00      13          52966   \n",
       "\n",
       "     favorite_count               breed  confidence     name dogstage  \\\n",
       "70           145042  Labrador_retriever       82.53     None    doggo   \n",
       "297          124222    Lakeland_terrier       19.60     None    puppo   \n",
       "632          111816           Chihuahua       50.54  Stephan     None   \n",
       "96           109001      French_bulldog       90.53   Jamesy   pupper   \n",
       "73           107350          Eskimo_dog       50.34     None    doggo   \n",
       "\n",
       "                 source  \\\n",
       "70   Twitter for iPhone   \n",
       "297  Twitter for iPhone   \n",
       "632  Twitter for iPhone   \n",
       "96   Twitter for iPhone   \n",
       "73   Twitter for iPhone   \n",
       "\n",
       "                                                                                                                                           text  \n",
       "70                          Here's a doggo realizing you can stand in a pool. 13/10 enlightened af (vid by Tina Conrad) https://t.co/7wE9LTEXC4  \n",
       "297                             Here's a super supportive puppo participating in the Toronto  #WomensMarch today. 13/10 https://t.co/nTz3FtorBc  \n",
       "632                                                       This is Stephan. He just wants to help. 13/10 such a good boy https://t.co/DkBYaCAg2d  \n",
       "96           This is Jamesy. He gives a kiss to every other pupper he sees on his walk. 13/10 such passion, much tender https://t.co/wk7TfysWHr  \n",
       "73   Here's a doggo blowing bubbles. It's downright legendary. 13/10 would watch on repeat forever (vid by Kent Duryee) https://t.co/YcXgHfp1EC  "
      ]
     },
     "execution_count": 223,
     "metadata": {},
     "output_type": "execute_result"
    }
   ],
   "source": [
    "twitter_df.nlargest(5,['favorite_count'])"
   ]
  },
  {
   "cell_type": "markdown",
   "id": "762ea5ec",
   "metadata": {},
   "source": [
    "**Question 2:Top 5 most retweeted tweets?**"
   ]
  },
  {
   "cell_type": "code",
   "execution_count": 224,
   "id": "95218bdb",
   "metadata": {},
   "outputs": [
    {
     "data": {
      "text/html": [
       "<div>\n",
       "<style scoped>\n",
       "    .dataframe tbody tr th:only-of-type {\n",
       "        vertical-align: middle;\n",
       "    }\n",
       "\n",
       "    .dataframe tbody tr th {\n",
       "        vertical-align: top;\n",
       "    }\n",
       "\n",
       "    .dataframe thead th {\n",
       "        text-align: right;\n",
       "    }\n",
       "</style>\n",
       "<table border=\"1\" class=\"dataframe\">\n",
       "  <thead>\n",
       "    <tr style=\"text-align: right;\">\n",
       "      <th></th>\n",
       "      <th>tweet_id</th>\n",
       "      <th>timestamp</th>\n",
       "      <th>rating</th>\n",
       "      <th>retweet_count</th>\n",
       "      <th>favorite_count</th>\n",
       "      <th>breed</th>\n",
       "      <th>confidence</th>\n",
       "      <th>name</th>\n",
       "      <th>dogstage</th>\n",
       "      <th>source</th>\n",
       "      <th>text</th>\n",
       "    </tr>\n",
       "  </thead>\n",
       "  <tbody>\n",
       "    <tr>\n",
       "      <th>70</th>\n",
       "      <td>744234799360020481</td>\n",
       "      <td>2016-06-18 18:26:18+00:00</td>\n",
       "      <td>13</td>\n",
       "      <td>70842</td>\n",
       "      <td>145042</td>\n",
       "      <td>Labrador_retriever</td>\n",
       "      <td>82.53</td>\n",
       "      <td>None</td>\n",
       "      <td>doggo</td>\n",
       "      <td>Twitter for iPhone</td>\n",
       "      <td>Here's a doggo realizing you can stand in a pool. 13/10 enlightened af (vid by Tina Conrad) https://t.co/7wE9LTEXC4</td>\n",
       "    </tr>\n",
       "    <tr>\n",
       "      <th>73</th>\n",
       "      <td>739238157791694849</td>\n",
       "      <td>2016-06-04 23:31:25+00:00</td>\n",
       "      <td>13</td>\n",
       "      <td>52966</td>\n",
       "      <td>107350</td>\n",
       "      <td>Eskimo_dog</td>\n",
       "      <td>50.34</td>\n",
       "      <td>None</td>\n",
       "      <td>doggo</td>\n",
       "      <td>Twitter for iPhone</td>\n",
       "      <td>Here's a doggo blowing bubbles. It's downright legendary. 13/10 would watch on repeat forever (vid by Kent Duryee) https://t.co/YcXgHfp1EC</td>\n",
       "    </tr>\n",
       "    <tr>\n",
       "      <th>632</th>\n",
       "      <td>807106840509214720</td>\n",
       "      <td>2016-12-09 06:17:20+00:00</td>\n",
       "      <td>13</td>\n",
       "      <td>51749</td>\n",
       "      <td>111816</td>\n",
       "      <td>Chihuahua</td>\n",
       "      <td>50.54</td>\n",
       "      <td>Stephan</td>\n",
       "      <td>None</td>\n",
       "      <td>Twitter for iPhone</td>\n",
       "      <td>This is Stephan. He just wants to help. 13/10 such a good boy https://t.co/DkBYaCAg2d</td>\n",
       "    </tr>\n",
       "    <tr>\n",
       "      <th>297</th>\n",
       "      <td>822872901745569793</td>\n",
       "      <td>2017-01-21 18:26:02+00:00</td>\n",
       "      <td>13</td>\n",
       "      <td>39979</td>\n",
       "      <td>124222</td>\n",
       "      <td>Lakeland_terrier</td>\n",
       "      <td>19.60</td>\n",
       "      <td>None</td>\n",
       "      <td>puppo</td>\n",
       "      <td>Twitter for iPhone</td>\n",
       "      <td>Here's a super supportive puppo participating in the Toronto  #WomensMarch today. 13/10 https://t.co/nTz3FtorBc</td>\n",
       "    </tr>\n",
       "    <tr>\n",
       "      <th>361</th>\n",
       "      <td>879415818425184262</td>\n",
       "      <td>2017-06-26 19:07:24+00:00</td>\n",
       "      <td>13</td>\n",
       "      <td>37490</td>\n",
       "      <td>92963</td>\n",
       "      <td>English_springer</td>\n",
       "      <td>38.34</td>\n",
       "      <td>Duddles</td>\n",
       "      <td>None</td>\n",
       "      <td>Twitter for iPhone</td>\n",
       "      <td>This is Duddles. He did an attempt. 13/10 someone help him (vid by Georgia Felici) https://t.co/UDT7ZkcTgY</td>\n",
       "    </tr>\n",
       "  </tbody>\n",
       "</table>\n",
       "</div>"
      ],
      "text/plain": [
       "               tweet_id                  timestamp  rating  retweet_count  \\\n",
       "70   744234799360020481  2016-06-18 18:26:18+00:00      13          70842   \n",
       "73   739238157791694849  2016-06-04 23:31:25+00:00      13          52966   \n",
       "632  807106840509214720  2016-12-09 06:17:20+00:00      13          51749   \n",
       "297  822872901745569793  2017-01-21 18:26:02+00:00      13          39979   \n",
       "361  879415818425184262  2017-06-26 19:07:24+00:00      13          37490   \n",
       "\n",
       "     favorite_count               breed  confidence     name dogstage  \\\n",
       "70           145042  Labrador_retriever       82.53     None    doggo   \n",
       "73           107350          Eskimo_dog       50.34     None    doggo   \n",
       "632          111816           Chihuahua       50.54  Stephan     None   \n",
       "297          124222    Lakeland_terrier       19.60     None    puppo   \n",
       "361           92963    English_springer       38.34  Duddles     None   \n",
       "\n",
       "                 source  \\\n",
       "70   Twitter for iPhone   \n",
       "73   Twitter for iPhone   \n",
       "632  Twitter for iPhone   \n",
       "297  Twitter for iPhone   \n",
       "361  Twitter for iPhone   \n",
       "\n",
       "                                                                                                                                           text  \n",
       "70                          Here's a doggo realizing you can stand in a pool. 13/10 enlightened af (vid by Tina Conrad) https://t.co/7wE9LTEXC4  \n",
       "73   Here's a doggo blowing bubbles. It's downright legendary. 13/10 would watch on repeat forever (vid by Kent Duryee) https://t.co/YcXgHfp1EC  \n",
       "632                                                       This is Stephan. He just wants to help. 13/10 such a good boy https://t.co/DkBYaCAg2d  \n",
       "297                             Here's a super supportive puppo participating in the Toronto  #WomensMarch today. 13/10 https://t.co/nTz3FtorBc  \n",
       "361                                  This is Duddles. He did an attempt. 13/10 someone help him (vid by Georgia Felici) https://t.co/UDT7ZkcTgY  "
      ]
     },
     "execution_count": 224,
     "metadata": {},
     "output_type": "execute_result"
    }
   ],
   "source": [
    "twitter_df.nlargest(5,['retweet_count'])"
   ]
  },
  {
   "cell_type": "markdown",
   "id": "94412031",
   "metadata": {},
   "source": [
    "**Question 3:Top 5 highest rated tweets?**"
   ]
  },
  {
   "cell_type": "code",
   "execution_count": 225,
   "id": "96ad03c0",
   "metadata": {},
   "outputs": [
    {
     "data": {
      "text/html": [
       "<div>\n",
       "<style scoped>\n",
       "    .dataframe tbody tr th:only-of-type {\n",
       "        vertical-align: middle;\n",
       "    }\n",
       "\n",
       "    .dataframe tbody tr th {\n",
       "        vertical-align: top;\n",
       "    }\n",
       "\n",
       "    .dataframe thead th {\n",
       "        text-align: right;\n",
       "    }\n",
       "</style>\n",
       "<table border=\"1\" class=\"dataframe\">\n",
       "  <thead>\n",
       "    <tr style=\"text-align: right;\">\n",
       "      <th></th>\n",
       "      <th>tweet_id</th>\n",
       "      <th>timestamp</th>\n",
       "      <th>rating</th>\n",
       "      <th>retweet_count</th>\n",
       "      <th>favorite_count</th>\n",
       "      <th>breed</th>\n",
       "      <th>confidence</th>\n",
       "      <th>name</th>\n",
       "      <th>dogstage</th>\n",
       "      <th>source</th>\n",
       "      <th>text</th>\n",
       "    </tr>\n",
       "  </thead>\n",
       "  <tbody>\n",
       "    <tr>\n",
       "      <th>897</th>\n",
       "      <td>749981277374128128</td>\n",
       "      <td>2016-07-04 15:00:45+00:00</td>\n",
       "      <td>16</td>\n",
       "      <td>2281</td>\n",
       "      <td>4790</td>\n",
       "      <td>None</td>\n",
       "      <td>0.00</td>\n",
       "      <td>Atticus</td>\n",
       "      <td>None</td>\n",
       "      <td>TweetDeck</td>\n",
       "      <td>This is Atticus. He's quite simply America af. 1776/10 https://t.co/GRXwMxLBkh</td>\n",
       "    </tr>\n",
       "    <tr>\n",
       "      <th>1679</th>\n",
       "      <td>670842764863651840</td>\n",
       "      <td>2015-11-29 05:52:33+00:00</td>\n",
       "      <td>15</td>\n",
       "      <td>7584</td>\n",
       "      <td>22113</td>\n",
       "      <td>None</td>\n",
       "      <td>0.00</td>\n",
       "      <td>None</td>\n",
       "      <td>None</td>\n",
       "      <td>Twitter for iPhone</td>\n",
       "      <td>After so many requests... here you go.\\n\\nGood dogg. 420/10 https://t.co/yfAAo1gdeY</td>\n",
       "    </tr>\n",
       "    <tr>\n",
       "      <th>0</th>\n",
       "      <td>890240255349198849</td>\n",
       "      <td>2017-07-26 15:59:51+00:00</td>\n",
       "      <td>14</td>\n",
       "      <td>6107</td>\n",
       "      <td>27988</td>\n",
       "      <td>Pembroke</td>\n",
       "      <td>51.13</td>\n",
       "      <td>Cassie</td>\n",
       "      <td>doggo</td>\n",
       "      <td>Twitter for iPhone</td>\n",
       "      <td>This is Cassie. She is a college pup. Studying international doggo communication and stick theory. 14/10 so elegant much sophisticate https://t.co/t1bfwz5S2A</td>\n",
       "    </tr>\n",
       "    <tr>\n",
       "      <th>15</th>\n",
       "      <td>832273440279240704</td>\n",
       "      <td>2017-02-16 17:00:25+00:00</td>\n",
       "      <td>14</td>\n",
       "      <td>2151</td>\n",
       "      <td>10672</td>\n",
       "      <td>Pembroke</td>\n",
       "      <td>13.41</td>\n",
       "      <td>Smiley</td>\n",
       "      <td>doggo</td>\n",
       "      <td>Twitter for iPhone</td>\n",
       "      <td>Say hello to Smiley. He's a blind therapy doggo having a h*ckin blast high steppin around in the snow. 14/10 would follow anywhere https://t.co/SHAb1wHjMz</td>\n",
       "    </tr>\n",
       "    <tr>\n",
       "      <th>20</th>\n",
       "      <td>828381636999917570</td>\n",
       "      <td>2017-02-05 23:15:47+00:00</td>\n",
       "      <td>14</td>\n",
       "      <td>2066</td>\n",
       "      <td>11894</td>\n",
       "      <td>Bedlington_terrier</td>\n",
       "      <td>39.25</td>\n",
       "      <td>Doobert</td>\n",
       "      <td>doggo</td>\n",
       "      <td>Twitter for iPhone</td>\n",
       "      <td>Meet Doobert. He's a deaf doggo. Didn't stop him on the field tho. Absolute legend today. 14/10 would pat head approvingly https://t.co/iCk7zstRA9</td>\n",
       "    </tr>\n",
       "  </tbody>\n",
       "</table>\n",
       "</div>"
      ],
      "text/plain": [
       "                tweet_id                  timestamp  rating  retweet_count  \\\n",
       "897   749981277374128128  2016-07-04 15:00:45+00:00      16           2281   \n",
       "1679  670842764863651840  2015-11-29 05:52:33+00:00      15           7584   \n",
       "0     890240255349198849  2017-07-26 15:59:51+00:00      14           6107   \n",
       "15    832273440279240704  2017-02-16 17:00:25+00:00      14           2151   \n",
       "20    828381636999917570  2017-02-05 23:15:47+00:00      14           2066   \n",
       "\n",
       "      favorite_count               breed  confidence     name dogstage  \\\n",
       "897             4790                None        0.00  Atticus     None   \n",
       "1679           22113                None        0.00     None     None   \n",
       "0              27988            Pembroke       51.13   Cassie    doggo   \n",
       "15             10672            Pembroke       13.41   Smiley    doggo   \n",
       "20             11894  Bedlington_terrier       39.25  Doobert    doggo   \n",
       "\n",
       "                  source  \\\n",
       "897            TweetDeck   \n",
       "1679  Twitter for iPhone   \n",
       "0     Twitter for iPhone   \n",
       "15    Twitter for iPhone   \n",
       "20    Twitter for iPhone   \n",
       "\n",
       "                                                                                                                                                               text  \n",
       "897                                                                                  This is Atticus. He's quite simply America af. 1776/10 https://t.co/GRXwMxLBkh  \n",
       "1679                                                                            After so many requests... here you go.\\n\\nGood dogg. 420/10 https://t.co/yfAAo1gdeY  \n",
       "0     This is Cassie. She is a college pup. Studying international doggo communication and stick theory. 14/10 so elegant much sophisticate https://t.co/t1bfwz5S2A  \n",
       "15       Say hello to Smiley. He's a blind therapy doggo having a h*ckin blast high steppin around in the snow. 14/10 would follow anywhere https://t.co/SHAb1wHjMz  \n",
       "20               Meet Doobert. He's a deaf doggo. Didn't stop him on the field tho. Absolute legend today. 14/10 would pat head approvingly https://t.co/iCk7zstRA9  "
      ]
     },
     "execution_count": 225,
     "metadata": {},
     "output_type": "execute_result"
    }
   ],
   "source": [
    "twitter_df.nlargest(5,['rating'])"
   ]
  },
  {
   "cell_type": "markdown",
   "id": "2e46ee01",
   "metadata": {},
   "source": [
    "**Quick note**\n",
    "- There are 4 common tweets in the top 5 for both likes and retweets!\n",
    "- None of the top 5 highest rated tweets are in the top 5 for likes and retweets\n",
    "- For the top 5 of all 3 variables,each tweet has more likes than retweets\n",
    "- Top 5 of the most liked and retweeted tweets were created between 2016-2017\n",
    "- All but one tweet in all three variables were tweeted from an iPhone\n",
    "- Given that there are 4 common tweets in the top 5 for likes and retweets, there are also four common dog breeds and dog stages in the top 5 liked and retweeted tweets\n",
    ">\n",
    "1. So,what is the relationship for likes,retweets and ratings?\n",
    "2. Do all tweets generally receive more likes than retweets?\n",
    "3. Which dog breeds make the top 5 for likes,retweets and ratings?\n",
    "4. Do newer tweets generally have more likes and retweets than the older ones?\n",
    "5. Which time of the day seems to do better in terms of retweets and likes\n",
    "\n",
    "Lets find out!"
   ]
  },
  {
   "cell_type": "markdown",
   "id": "ef7be65e",
   "metadata": {},
   "source": [
    "**Question 4:How many tweets have more or equal retweets than likes?**"
   ]
  },
  {
   "cell_type": "code",
   "execution_count": 226,
   "id": "5fa9471b",
   "metadata": {},
   "outputs": [
    {
     "data": {
      "text/plain": [
       "0"
      ]
     },
     "execution_count": 226,
     "metadata": {},
     "output_type": "execute_result"
    }
   ],
   "source": [
    "sum(twitter_df['favorite_count'] <= twitter_df['retweet_count'])"
   ]
  },
  {
   "cell_type": "markdown",
   "id": "a9c5e6bd",
   "metadata": {},
   "source": [
    "**Question 5:What is the relationship between likes and retweets?**"
   ]
  },
  {
   "cell_type": "code",
   "execution_count": 231,
   "id": "9b546460",
   "metadata": {},
   "outputs": [
    {
     "data": {
      "image/png": "[encoded data removed]",
      "text/plain": [
       "<Figure size 432x288 with 1 Axes>"
      ]
     },
     "metadata": {
      "needs_background": "light"
     },
     "output_type": "display_data"
    },
    {
     "data": {
      "text/plain": [
       "<Figure size 1080x1080 with 0 Axes>"
      ]
     },
     "metadata": {},
     "output_type": "display_data"
    }
   ],
   "source": [
    "sns.regplot(data =twitter_df, x = 'favorite_count', y = 'retweet_count');\n",
    "plt.title('Correlation of retweet count and likes');\n",
    "plt.xlabel('number of likes');\n",
    "plt.ylabel('number of retweets');\n",
    "plt.figure(figsize=[15,15]);"
   ]
  },
  {
   "cell_type": "markdown",
   "id": "d105d1a6",
   "metadata": {},
   "source": [
    "**Question 6:What is the relationship between likes,retweets and ratings?**"
   ]
  },
  {
   "cell_type": "code",
   "execution_count": 232,
   "id": "323fafcc",
   "metadata": {},
   "outputs": [
    {
     "data": {
      "text/plain": [
       "Text(0, 0.5, 'Number of Retweet ')"
      ]
     },
     "execution_count": 232,
     "metadata": {},
     "output_type": "execute_result"
    },
    {
     "data": {
      "image/png": "[encoded data removed]",
      "text/plain": [
       "<Figure size 720x360 with 2 Axes>"
      ]
     },
     "metadata": {
      "needs_background": "light"
     },
     "output_type": "display_data"
    }
   ],
   "source": [
    "plt.figure(figsize = [10,5])\n",
    "plt.scatter(data = twitter_df, x = 'favorite_count',y = 'retweet_count', c = 'rating')\n",
    "plt.colorbar().set_label('Rating')\n",
    "\n",
    "plt.title('Correlation between number of likes and retweet Count with rating for color of marker')\n",
    "plt.xlabel('Number of likes ')\n",
    "plt.ylabel('Number of Retweet ')"
   ]
  },
  {
   "cell_type": "markdown",
   "id": "0b480b9d",
   "metadata": {},
   "source": [
    "**Quick note**\n",
    "- Findings confirm that every tweet has more likes than retweets!\n",
    "- There is a strong positive correlation between likes and retweets\n",
    "- There is a positive correlation ratings and likes and retweets\n",
    "- Most of the ratings are higher than 10 "
   ]
  },
  {
   "cell_type": "markdown",
   "id": "a8bc202e",
   "metadata": {},
   "source": [
    "**Question7: Top 5 dog breeds with highest average likes**\n",
    "\n",
    "**Question8: Top 5 dog breeds with highest average retweets**\n",
    "\n",
    "**Question9: Top 5 dog breeds with highest average ratings**"
   ]
  },
  {
   "cell_type": "code",
   "execution_count": 262,
   "id": "3f43608f",
   "metadata": {},
   "outputs": [],
   "source": [
    "#we only want to query dogs with an identified breed\n",
    "dogbreeds=twitter_df.query('breed!=\"None\"')"
   ]
  },
  {
   "cell_type": "code",
   "execution_count": 263,
   "id": "6295b7bd",
   "metadata": {},
   "outputs": [
    {
     "data": {
      "text/plain": [
       "<AxesSubplot:title={'center':'top 5 breeds with the highest rating'}, xlabel='breed'>"
      ]
     },
     "execution_count": 263,
     "metadata": {},
     "output_type": "execute_result"
    },
    {
     "data": {
      "image/png": "[encoded data removed]",
      "text/plain": [
       "<Figure size 1296x360 with 3 Axes>"
      ]
     },
     "metadata": {
      "needs_background": "light"
     },
     "output_type": "display_data"
    }
   ],
   "source": [
    "fig,axs=plt.subplots(1,3)\n",
    "dogbreeds.groupby('breed')['favorite_count'].sum().nlargest(5).plot(kind='bar',ax=axs[0],figsize=(18,5),title='top 5 most liked breeds',color='r')\n",
    "dogbreeds.groupby('breed')['retweet_count'].sum().nlargest(5).plot(kind='bar',ax=axs[1],figsize=(18,5),title='top 5 most retweeted breeds',color='g')\n",
    "dogbreeds.groupby('breed')['rating'].sum().nlargest(5).plot(kind='bar',ax=axs[2],figsize=(18,5),title='top 5 breeds with the highest rating',)"
   ]
  },
  {
   "cell_type": "markdown",
   "id": "50647992",
   "metadata": {},
   "source": [
    "**Quick note**\n",
    "- 4 out of 5 breeds are common in all three variables.\n",
    "- The golden retriever takes the top spot in all 3 tested variables."
   ]
  },
  {
   "cell_type": "markdown",
   "id": "f4590346",
   "metadata": {},
   "source": [
    "**Question 10 : What is the most common source for the tweets?**"
   ]
  },
  {
   "cell_type": "code",
   "execution_count": 235,
   "id": "e36b6c2b",
   "metadata": {},
   "outputs": [
    {
     "data": {
      "image/png": "[encoded data removed]",
      "text/plain": [
       "<Figure size 360x360 with 1 Axes>"
      ]
     },
     "metadata": {},
     "output_type": "display_data"
    }
   ],
   "source": [
    "twitter_df['source'].value_counts().plot(kind='pie',figsize=(5,5),legend=True,labels=None,title='most common source for tweets',ylabel='');"
   ]
  },
  {
   "cell_type": "markdown",
   "id": "76e0536e",
   "metadata": {},
   "source": [
    "**Quick note**\n",
    "- The iPhone is clearly the predominant source for the tweets"
   ]
  },
  {
   "cell_type": "markdown",
   "id": "6e6d1b46",
   "metadata": {},
   "source": [
    "**Question 11:Do newer tweets have more likes and retweets than older tweets?**\n",
    "    \n",
    "**Question 12: At what time of the day where tweets with the most likes and retweets created?**"
   ]
  },
  {
   "cell_type": "markdown",
   "id": "6525e7d2",
   "metadata": {},
   "source": [
    "In order to answer these questions,I will created two new temporary columns for number of days from the start and a column for time of the day a tweet was created"
   ]
  },
  {
   "cell_type": "code",
   "execution_count": 12,
   "id": "7672f9a0",
   "metadata": {},
   "outputs": [],
   "source": [
    "#create copy of twitter_archive_master\n",
    "twitterdf_temp=twitter_df.copy()"
   ]
  },
  {
   "cell_type": "code",
   "execution_count": 241,
   "id": "0e75d7d7",
   "metadata": {},
   "outputs": [
    {
     "data": {
      "text/plain": [
       "tweet_id                        int64\n",
       "timestamp         datetime64[ns, UTC]\n",
       "rating                          int64\n",
       "retweet_count                   int64\n",
       "favorite_count                  int64\n",
       "breed                          object\n",
       "confidence                    float64\n",
       "name                           object\n",
       "dogstage                       object\n",
       "source                         object\n",
       "text                           object\n",
       "dtype: object"
      ]
     },
     "execution_count": 241,
     "metadata": {},
     "output_type": "execute_result"
    }
   ],
   "source": [
    "twitterdf_temp.dtypes"
   ]
  },
  {
   "cell_type": "code",
   "execution_count": 243,
   "id": "83e725b3",
   "metadata": {},
   "outputs": [],
   "source": [
    "#calculate minimun value in timestamp column and store in variable\n",
    "first_day = twitterdf_temp['timestamp'].min()"
   ]
  },
  {
   "cell_type": "code",
   "execution_count": 244,
   "id": "1415734c",
   "metadata": {},
   "outputs": [],
   "source": [
    "#create new column for difference between minimun in timestamp column and each tweet's timestamp\n",
    "twitterdf_temp['days'] = (twitterdf_temp['timestamp'] - first_day).dt.round('1d')/np.timedelta64(1,'D')"
   ]
  },
  {
   "cell_type": "code",
   "execution_count": 245,
   "id": "fb7f61da",
   "metadata": {},
   "outputs": [
    {
     "data": {
      "text/html": [
       "<div>\n",
       "<style scoped>\n",
       "    .dataframe tbody tr th:only-of-type {\n",
       "        vertical-align: middle;\n",
       "    }\n",
       "\n",
       "    .dataframe tbody tr th {\n",
       "        vertical-align: top;\n",
       "    }\n",
       "\n",
       "    .dataframe thead th {\n",
       "        text-align: right;\n",
       "    }\n",
       "</style>\n",
       "<table border=\"1\" class=\"dataframe\">\n",
       "  <thead>\n",
       "    <tr style=\"text-align: right;\">\n",
       "      <th></th>\n",
       "      <th>tweet_id</th>\n",
       "      <th>timestamp</th>\n",
       "      <th>rating</th>\n",
       "      <th>retweet_count</th>\n",
       "      <th>favorite_count</th>\n",
       "      <th>breed</th>\n",
       "      <th>confidence</th>\n",
       "      <th>name</th>\n",
       "      <th>dogstage</th>\n",
       "      <th>source</th>\n",
       "      <th>text</th>\n",
       "      <th>days</th>\n",
       "    </tr>\n",
       "  </thead>\n",
       "  <tbody>\n",
       "    <tr>\n",
       "      <th>0</th>\n",
       "      <td>890240255349198849</td>\n",
       "      <td>2017-07-26 15:59:51+00:00</td>\n",
       "      <td>14</td>\n",
       "      <td>6107</td>\n",
       "      <td>27988</td>\n",
       "      <td>Pembroke</td>\n",
       "      <td>51.13</td>\n",
       "      <td>Cassie</td>\n",
       "      <td>doggo</td>\n",
       "      <td>Twitter for iPhone</td>\n",
       "      <td>This is Cassie. She is a college pup. Studying international doggo communication and stick theory. 14/10 so elegant much sophisticate https://t.co/t1bfwz5S2A</td>\n",
       "      <td>619.0</td>\n",
       "    </tr>\n",
       "  </tbody>\n",
       "</table>\n",
       "</div>"
      ],
      "text/plain": [
       "             tweet_id                 timestamp  rating  retweet_count  \\\n",
       "0  890240255349198849 2017-07-26 15:59:51+00:00      14           6107   \n",
       "\n",
       "   favorite_count     breed  confidence    name dogstage              source  \\\n",
       "0           27988  Pembroke       51.13  Cassie    doggo  Twitter for iPhone   \n",
       "\n",
       "                                                                                                                                                            text  \\\n",
       "0  This is Cassie. She is a college pup. Studying international doggo communication and stick theory. 14/10 so elegant much sophisticate https://t.co/t1bfwz5S2A   \n",
       "\n",
       "    days  \n",
       "0  619.0  "
      ]
     },
     "execution_count": 245,
     "metadata": {},
     "output_type": "execute_result"
    }
   ],
   "source": [
    "twitterdf_temp.head(1)"
   ]
  },
  {
   "cell_type": "code",
   "execution_count": 246,
   "id": "a8b9625a",
   "metadata": {},
   "outputs": [],
   "source": [
    "twitterdf_temp['hour_created']=pd.DatetimeIndex(twitterdf_temp['timestamp']).hour"
   ]
  },
  {
   "cell_type": "code",
   "execution_count": 248,
   "id": "f33f2a43",
   "metadata": {},
   "outputs": [],
   "source": [
    "#Group the hours into 4 time periods i.e. 12am-6am , 6am-12pm , 12pm-6pm , 6pm-12am\n",
    "bin_edges=[-1,5,11,17,23]\n",
    "bin_names=['12am-6am','6am-12pm','12pm-6pm','6pm-12am']\n",
    "twitterdf_temp['hour_created']=pd.cut(twitterdf_temp['hour_created'],bin_edges,labels=bin_names)"
   ]
  },
  {
   "cell_type": "code",
   "execution_count": 249,
   "id": "b9744d91",
   "metadata": {},
   "outputs": [
    {
     "data": {
      "text/html": [
       "<div>\n",
       "<style scoped>\n",
       "    .dataframe tbody tr th:only-of-type {\n",
       "        vertical-align: middle;\n",
       "    }\n",
       "\n",
       "    .dataframe tbody tr th {\n",
       "        vertical-align: top;\n",
       "    }\n",
       "\n",
       "    .dataframe thead th {\n",
       "        text-align: right;\n",
       "    }\n",
       "</style>\n",
       "<table border=\"1\" class=\"dataframe\">\n",
       "  <thead>\n",
       "    <tr style=\"text-align: right;\">\n",
       "      <th></th>\n",
       "      <th>tweet_id</th>\n",
       "      <th>timestamp</th>\n",
       "      <th>rating</th>\n",
       "      <th>retweet_count</th>\n",
       "      <th>favorite_count</th>\n",
       "      <th>breed</th>\n",
       "      <th>confidence</th>\n",
       "      <th>name</th>\n",
       "      <th>dogstage</th>\n",
       "      <th>source</th>\n",
       "      <th>text</th>\n",
       "      <th>days</th>\n",
       "      <th>hour_created</th>\n",
       "    </tr>\n",
       "  </thead>\n",
       "  <tbody>\n",
       "    <tr>\n",
       "      <th>0</th>\n",
       "      <td>890240255349198849</td>\n",
       "      <td>2017-07-26 15:59:51+00:00</td>\n",
       "      <td>14</td>\n",
       "      <td>6107</td>\n",
       "      <td>27988</td>\n",
       "      <td>Pembroke</td>\n",
       "      <td>51.13</td>\n",
       "      <td>Cassie</td>\n",
       "      <td>doggo</td>\n",
       "      <td>Twitter for iPhone</td>\n",
       "      <td>This is Cassie. She is a college pup. Studying international doggo communication and stick theory. 14/10 so elegant much sophisticate https://t.co/t1bfwz5S2A</td>\n",
       "      <td>619.0</td>\n",
       "      <td>12pm-6pm</td>\n",
       "    </tr>\n",
       "  </tbody>\n",
       "</table>\n",
       "</div>"
      ],
      "text/plain": [
       "             tweet_id                 timestamp  rating  retweet_count  \\\n",
       "0  890240255349198849 2017-07-26 15:59:51+00:00      14           6107   \n",
       "\n",
       "   favorite_count     breed  confidence    name dogstage              source  \\\n",
       "0           27988  Pembroke       51.13  Cassie    doggo  Twitter for iPhone   \n",
       "\n",
       "                                                                                                                                                            text  \\\n",
       "0  This is Cassie. She is a college pup. Studying international doggo communication and stick theory. 14/10 so elegant much sophisticate https://t.co/t1bfwz5S2A   \n",
       "\n",
       "    days hour_created  \n",
       "0  619.0     12pm-6pm  "
      ]
     },
     "execution_count": 249,
     "metadata": {},
     "output_type": "execute_result"
    }
   ],
   "source": [
    "twitterdf_temp.head(1)"
   ]
  },
  {
   "cell_type": "markdown",
   "id": "4e4b0628",
   "metadata": {},
   "source": [
    "Two new columns have been successfully created.Lets answer the questions 11 and 12"
   ]
  },
  {
   "cell_type": "code",
   "execution_count": 250,
   "id": "aba512af",
   "metadata": {},
   "outputs": [
    {
     "data": {
      "image/png": "[encoded data removed]",
      "text/plain": [
       "<Figure size 720x360 with 1 Axes>"
      ]
     },
     "metadata": {
      "needs_background": "light"
     },
     "output_type": "display_data"
    },
    {
     "data": {
      "image/png": "[encoded data removed]",
      "text/plain": [
       "<Figure size 720x360 with 1 Axes>"
      ]
     },
     "metadata": {
      "needs_background": "light"
     },
     "output_type": "display_data"
    }
   ],
   "source": [
    "twitterdf_temp.groupby('hour_created')['favorite_count'].mean().plot(figsize=(10,5),legend=True,xlabel='Time Period',ylabel='Number of likes & retweets',title='multiple line plot showing average number of retweets and likes by time period');\n",
    "twitterdf_temp.groupby('hour_created')['retweet_count'].mean().plot(figsize=(10,5),legend=True,xlabel='Time Period',ylabel='Number of likes & retweets',title='multiple line plot showing average number of retweets and likes by time period');\n",
    "plt.show()\n",
    "twitterdf_temp.groupby('hour_created')['rating'].mean().plot(figsize=(10,5),legend=True,xlabel='Time Period',ylabel='Rating Score',title='line plot showing average rating by time period',color='r');\n"
   ]
  },
  {
   "cell_type": "markdown",
   "id": "739e335d",
   "metadata": {},
   "source": [
    "**Quick note**\n",
    "- tweets created between 6 am to 12 midday have the highest average retweets,likes and ratings!"
   ]
  },
  {
   "cell_type": "code",
   "execution_count": 252,
   "id": "2eff4b65",
   "metadata": {},
   "outputs": [
    {
     "data": {
      "text/plain": [
       "Text(0, 0.5, 'likes')"
      ]
     },
     "execution_count": 252,
     "metadata": {},
     "output_type": "execute_result"
    },
    {
     "data": {
      "image/png": "[encoded data removed]",
      "text/plain": [
       "<Figure size 1440x720 with 1 Axes>"
      ]
     },
     "metadata": {
      "needs_background": "light"
     },
     "output_type": "display_data"
    }
   ],
   "source": [
    "plt.figure(figsize=[20,10])\n",
    "sns.regplot(data =twitterdf_temp, x = 'days', y = 'favorite_count')\n",
    "plt.title('Correlation of likes and number of days from the start')\n",
    "plt.xlabel('days')\n",
    "plt.ylabel('likes')"
   ]
  },
  {
   "cell_type": "markdown",
   "id": "a2d72969",
   "metadata": {},
   "source": [
    "**Quick notes**\n",
    "- It looks like the newer tweets have more likes than the older tweets"
   ]
  },
  {
   "cell_type": "markdown",
   "id": "82e09d9e",
   "metadata": {},
   "source": [
    "<a id='insights'></a>\n",
    "## KEY INSIGHTS\n",
    "1. Tweets receive more likes/favorites than retweets\n",
    "2. There is a strong positive correlation between likes and retweets\n",
    "3. There is a also a positive correlation between likes,retweets and ratings\n",
    "4. Most of the tweets generally have a high rating above 10\n",
    "5. The golden retriever is the most popular breed\n",
    "6. The best time of the day to tweet is between 6am and 12 midday \n",
    "7. Newer tweets generally receive more likes and retweets than older ones"
   ]
  },
  {
   "cell_type": "code",
   "execution_count": null,
   "id": "9c08d0cf",
   "metadata": {},
   "outputs": [],
   "source": []
  }
 ],
 "metadata": {
  "kernelspec": {
   "display_name": "Python 3",
   "language": "python",
   "name": "python3"
  },
  "language_info": {
   "codemirror_mode": {
    "name": "ipython",
    "version": 3
   },
   "file_extension": ".py",
   "mimetype": "text/x-python",
   "name": "python",
   "nbconvert_exporter": "python",
   "pygments_lexer": "ipython3",
   "version": "3.8.8"
  }
 },
 "nbformat": 4,
 "nbformat_minor": 5
}
